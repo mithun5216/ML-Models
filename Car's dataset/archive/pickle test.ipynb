{
 "cells": [
  {
   "cell_type": "code",
   "execution_count": 1,
   "id": "c9bb647d",
   "metadata": {},
   "outputs": [],
   "source": [
    "import pickle\n",
    "import pandas as pd\n",
    "import numpy as np\n",
    "from sklearn.model_selection import learning_curve,train_test_split"
   ]
  },
  {
   "cell_type": "code",
   "execution_count": 2,
   "id": "642e785f",
   "metadata": {},
   "outputs": [],
   "source": [
    "model = pickle.load(open(\"file.pkl\", \"rb\"))"
   ]
  },
  {
   "cell_type": "code",
   "execution_count": 3,
   "id": "67baaaff",
   "metadata": {},
   "outputs": [],
   "source": [
    "car = pd.read_csv(\"cars_dataset.csv\")"
   ]
  },
  {
   "cell_type": "code",
   "execution_count": 21,
   "id": "8342d5f3",
   "metadata": {},
   "outputs": [
    {
     "data": {
      "text/html": [
       "<div>\n",
       "<style scoped>\n",
       "    .dataframe tbody tr th:only-of-type {\n",
       "        vertical-align: middle;\n",
       "    }\n",
       "\n",
       "    .dataframe tbody tr th {\n",
       "        vertical-align: top;\n",
       "    }\n",
       "\n",
       "    .dataframe thead th {\n",
       "        text-align: right;\n",
       "    }\n",
       "</style>\n",
       "<table border=\"1\" class=\"dataframe\">\n",
       "  <thead>\n",
       "    <tr style=\"text-align: right;\">\n",
       "      <th></th>\n",
       "      <th>model</th>\n",
       "      <th>year</th>\n",
       "      <th>price</th>\n",
       "      <th>transmission</th>\n",
       "      <th>mileage</th>\n",
       "      <th>fuelType</th>\n",
       "      <th>tax</th>\n",
       "      <th>mpg</th>\n",
       "      <th>engineSize</th>\n",
       "      <th>Make</th>\n",
       "    </tr>\n",
       "  </thead>\n",
       "  <tbody>\n",
       "    <tr>\n",
       "      <th>7795</th>\n",
       "      <td>A3</td>\n",
       "      <td>2005</td>\n",
       "      <td>1975</td>\n",
       "      <td>Manual</td>\n",
       "      <td>104000</td>\n",
       "      <td>Petrol</td>\n",
       "      <td>240.0</td>\n",
       "      <td>38.1</td>\n",
       "      <td>2.0</td>\n",
       "      <td>audi</td>\n",
       "    </tr>\n",
       "    <tr>\n",
       "      <th>10108</th>\n",
       "      <td>TT</td>\n",
       "      <td>2002</td>\n",
       "      <td>1990</td>\n",
       "      <td>Manual</td>\n",
       "      <td>131925</td>\n",
       "      <td>Petrol</td>\n",
       "      <td>325.0</td>\n",
       "      <td>30.1</td>\n",
       "      <td>1.8</td>\n",
       "      <td>audi</td>\n",
       "    </tr>\n",
       "    <tr>\n",
       "      <th>10552</th>\n",
       "      <td>A4</td>\n",
       "      <td>2004</td>\n",
       "      <td>1699</td>\n",
       "      <td>Manual</td>\n",
       "      <td>110000</td>\n",
       "      <td>Diesel</td>\n",
       "      <td>315.0</td>\n",
       "      <td>36.2</td>\n",
       "      <td>2.5</td>\n",
       "      <td>audi</td>\n",
       "    </tr>\n",
       "    <tr>\n",
       "      <th>10588</th>\n",
       "      <td>A3</td>\n",
       "      <td>2003</td>\n",
       "      <td>1490</td>\n",
       "      <td>Automatic</td>\n",
       "      <td>101000</td>\n",
       "      <td>Diesel</td>\n",
       "      <td>240.0</td>\n",
       "      <td>44.5</td>\n",
       "      <td>1.9</td>\n",
       "      <td>audi</td>\n",
       "    </tr>\n",
       "    <tr>\n",
       "      <th>17952</th>\n",
       "      <td>5 Series</td>\n",
       "      <td>2002</td>\n",
       "      <td>1595</td>\n",
       "      <td>Automatic</td>\n",
       "      <td>115000</td>\n",
       "      <td>Petrol</td>\n",
       "      <td>325.0</td>\n",
       "      <td>28.5</td>\n",
       "      <td>2.2</td>\n",
       "      <td>BMW</td>\n",
       "    </tr>\n",
       "    <tr>\n",
       "      <th>...</th>\n",
       "      <td>...</td>\n",
       "      <td>...</td>\n",
       "      <td>...</td>\n",
       "      <td>...</td>\n",
       "      <td>...</td>\n",
       "      <td>...</td>\n",
       "      <td>...</td>\n",
       "      <td>...</td>\n",
       "      <td>...</td>\n",
       "      <td>...</td>\n",
       "    </tr>\n",
       "    <tr>\n",
       "      <th>72258</th>\n",
       "      <td>I10</td>\n",
       "      <td>2009</td>\n",
       "      <td>1695</td>\n",
       "      <td>Manual</td>\n",
       "      <td>84000</td>\n",
       "      <td>Petrol</td>\n",
       "      <td>30.0</td>\n",
       "      <td>56.5</td>\n",
       "      <td>1.2</td>\n",
       "      <td>Hyundai</td>\n",
       "    </tr>\n",
       "    <tr>\n",
       "      <th>72259</th>\n",
       "      <td>I10</td>\n",
       "      <td>2008</td>\n",
       "      <td>1495</td>\n",
       "      <td>Manual</td>\n",
       "      <td>94000</td>\n",
       "      <td>Petrol</td>\n",
       "      <td>30.0</td>\n",
       "      <td>56.5</td>\n",
       "      <td>1.2</td>\n",
       "      <td>Hyundai</td>\n",
       "    </tr>\n",
       "    <tr>\n",
       "      <th>72280</th>\n",
       "      <td>Santa Fe</td>\n",
       "      <td>2002</td>\n",
       "      <td>1200</td>\n",
       "      <td>Manual</td>\n",
       "      <td>94000</td>\n",
       "      <td>Petrol</td>\n",
       "      <td>325.0</td>\n",
       "      <td>30.4</td>\n",
       "      <td>2.4</td>\n",
       "      <td>Hyundai</td>\n",
       "    </tr>\n",
       "    <tr>\n",
       "      <th>72283</th>\n",
       "      <td>Getz</td>\n",
       "      <td>2003</td>\n",
       "      <td>1990</td>\n",
       "      <td>Automatic</td>\n",
       "      <td>51000</td>\n",
       "      <td>Petrol</td>\n",
       "      <td>260.0</td>\n",
       "      <td>37.2</td>\n",
       "      <td>1.6</td>\n",
       "      <td>Hyundai</td>\n",
       "    </tr>\n",
       "    <tr>\n",
       "      <th>72347</th>\n",
       "      <td>Getz</td>\n",
       "      <td>2007</td>\n",
       "      <td>1295</td>\n",
       "      <td>Manual</td>\n",
       "      <td>90800</td>\n",
       "      <td>Petrol</td>\n",
       "      <td>125.0</td>\n",
       "      <td>51.4</td>\n",
       "      <td>1.1</td>\n",
       "      <td>Hyundai</td>\n",
       "    </tr>\n",
       "  </tbody>\n",
       "</table>\n",
       "<p>194 rows × 10 columns</p>\n",
       "</div>"
      ],
      "text/plain": [
       "           model  year  price transmission  mileage fuelType    tax   mpg  \\\n",
       "7795          A3  2005   1975       Manual   104000   Petrol  240.0  38.1   \n",
       "10108         TT  2002   1990       Manual   131925   Petrol  325.0  30.1   \n",
       "10552         A4  2004   1699       Manual   110000   Diesel  315.0  36.2   \n",
       "10588         A3  2003   1490    Automatic   101000   Diesel  240.0  44.5   \n",
       "17952   5 Series  2002   1595    Automatic   115000   Petrol  325.0  28.5   \n",
       "...          ...   ...    ...          ...      ...      ...    ...   ...   \n",
       "72258        I10  2009   1695       Manual    84000   Petrol   30.0  56.5   \n",
       "72259        I10  2008   1495       Manual    94000   Petrol   30.0  56.5   \n",
       "72280   Santa Fe  2002   1200       Manual    94000   Petrol  325.0  30.4   \n",
       "72283       Getz  2003   1990    Automatic    51000   Petrol  260.0  37.2   \n",
       "72347       Getz  2007   1295       Manual    90800   Petrol  125.0  51.4   \n",
       "\n",
       "       engineSize     Make  \n",
       "7795          2.0     audi  \n",
       "10108         1.8     audi  \n",
       "10552         2.5     audi  \n",
       "10588         1.9     audi  \n",
       "17952         2.2      BMW  \n",
       "...           ...      ...  \n",
       "72258         1.2  Hyundai  \n",
       "72259         1.2  Hyundai  \n",
       "72280         2.4  Hyundai  \n",
       "72283         1.6  Hyundai  \n",
       "72347         1.1  Hyundai  \n",
       "\n",
       "[194 rows x 10 columns]"
      ]
     },
     "execution_count": 21,
     "metadata": {},
     "output_type": "execute_result"
    }
   ],
   "source": [
    "car[car['price'] < 2470]"
   ]
  },
  {
   "cell_type": "code",
   "execution_count": null,
   "id": "9cd8fc1b",
   "metadata": {},
   "outputs": [],
   "source": [
    "#max price = 35650, min price = 2470"
   ]
  },
  {
   "cell_type": "code",
   "execution_count": null,
   "id": "d263beaa",
   "metadata": {},
   "outputs": [],
   "source": [
    "\t2020\tSemi-Auto\t70\tPetrol\t145.0\t21.1\t5.2\taudi\n",
    "    2013\tManual\t42000\tPetrol\t20.0\t61.4\t1.2\tHyundai\n",
    "    2020\tManual\t2000\tDiesel\t145.0\t52.3\t1.6\tvw\n",
    "    2018\tManual\t9270\tPetrol\t145.0\t60.1\t1.0\tskoda\n",
    "    2017\tAutomatic\t28893\tDiesel\t150.0\t68.9\t2.0\tBMW\n",
    "    2019\tAutomatic\t2130\tDiesel\t145.0\t42.8\t2.2\tHyundai"
   ]
  },
  {
   "cell_type": "code",
   "execution_count": 31,
   "id": "0958720a",
   "metadata": {},
   "outputs": [],
   "source": [
    "mileage = 2130\n",
    "tax = 145.0\n",
    "mpg =42.8\n",
    "engineSize = 2.2\n",
    "year_2012 = 0\n",
    "year_2013 = 0\n",
    "year_2014 = 0\n",
    "year_2015 = 0\n",
    "year_2016 = 0\n",
    "year_2017 = 0\n",
    "year_2018 = 0\n",
    "year_2019 = 1\n",
    "year_2020 = 0\n",
    "transmission_Automatic = 1\n",
    "transmission_Manual = 0\n",
    "transmission_Other = 0\n",
    "transmission_Semi_Auto = 0\n",
    "fuelType_Diesel = 1\n",
    "fuelType_Electric = 0\n",
    "fuelType_Hybrid = 0\n",
    "fuelType_Other = 0\n",
    "fuelType_Petrol = 0\n",
    "Make_BMW = 0\n",
    "Make_Ford = 0\n",
    "Make_Hyundai = 1\n",
    "Make_audi = 0\n",
    "Make_skoda = 0\n",
    "Make_toyota = 0\n",
    "Make_vw = 0"
   ]
  },
  {
   "cell_type": "code",
   "execution_count": 32,
   "id": "4349885c",
   "metadata": {},
   "outputs": [],
   "source": [
    "s6 = model.predict([[mileage,tax,mpg,engineSize,year_2012,year_2013,year_2014,year_2015,year_2016,\n",
    "                    year_2017,year_2018,year_2019,year_2020,transmission_Automatic,transmission_Manual,\n",
    "                    transmission_Other,transmission_Semi_Auto,fuelType_Diesel,fuelType_Electric,\n",
    "                    fuelType_Hybrid,fuelType_Other,fuelType_Petrol,Make_BMW,Make_Ford,Make_Hyundai,\n",
    "                    Make_audi,Make_skoda,Make_toyota,Make_vw]])"
   ]
  },
  {
   "cell_type": "code",
   "execution_count": 10,
   "id": "2b9675c1",
   "metadata": {},
   "outputs": [
    {
     "data": {
      "text/plain": [
       "array([14743.28998348])"
      ]
     },
     "execution_count": 10,
     "metadata": {},
     "output_type": "execute_result"
    }
   ],
   "source": [
    "s    #expected = 12500"
   ]
  },
  {
   "cell_type": "code",
   "execution_count": 16,
   "id": "db81f67e",
   "metadata": {},
   "outputs": [
    {
     "data": {
      "text/plain": [
       "array([13611.97286261])"
      ]
     },
     "execution_count": 16,
     "metadata": {},
     "output_type": "execute_result"
    }
   ],
   "source": [
    "s1   #expected = 137995"
   ]
  },
  {
   "cell_type": "code",
   "execution_count": 20,
   "id": "9e95dcfb",
   "metadata": {},
   "outputs": [
    {
     "data": {
      "text/plain": [
       "array([11099.89819216])"
      ]
     },
     "execution_count": 20,
     "metadata": {},
     "output_type": "execute_result"
    }
   ],
   "source": [
    "s2 # expected = 3995"
   ]
  },
  {
   "cell_type": "code",
   "execution_count": 24,
   "id": "68f06328",
   "metadata": {},
   "outputs": [
    {
     "data": {
      "text/plain": [
       "array([14007.94891597])"
      ]
     },
     "execution_count": 24,
     "metadata": {},
     "output_type": "execute_result"
    }
   ],
   "source": [
    "s3 #expected = 23500"
   ]
  },
  {
   "cell_type": "code",
   "execution_count": 27,
   "id": "8d424f17",
   "metadata": {},
   "outputs": [
    {
     "data": {
      "text/plain": [
       "array([12768.65072123])"
      ]
     },
     "execution_count": 27,
     "metadata": {},
     "output_type": "execute_result"
    }
   ],
   "source": [
    "s4 #expected = 10795"
   ]
  },
  {
   "cell_type": "code",
   "execution_count": 30,
   "id": "f72dde5e",
   "metadata": {},
   "outputs": [
    {
     "data": {
      "text/plain": [
       "array([14760.57015555])"
      ]
     },
     "execution_count": 30,
     "metadata": {},
     "output_type": "execute_result"
    }
   ],
   "source": [
    "s5 #expected = 18700"
   ]
  },
  {
   "cell_type": "code",
   "execution_count": 33,
   "id": "4575c18a",
   "metadata": {},
   "outputs": [
    {
     "data": {
      "text/plain": [
       "array([14586.39262916])"
      ]
     },
     "execution_count": 33,
     "metadata": {},
     "output_type": "execute_result"
    }
   ],
   "source": [
    "s6 #expected = 32450"
   ]
  },
  {
   "cell_type": "code",
   "execution_count": null,
   "id": "2a394de2",
   "metadata": {},
   "outputs": [],
   "source": []
  }
 ],
 "metadata": {
  "kernelspec": {
   "display_name": "Python 3 (ipykernel)",
   "language": "python",
   "name": "python3"
  },
  "language_info": {
   "codemirror_mode": {
    "name": "ipython",
    "version": 3
   },
   "file_extension": ".py",
   "mimetype": "text/x-python",
   "name": "python",
   "nbconvert_exporter": "python",
   "pygments_lexer": "ipython3",
   "version": "3.8.11"
  }
 },
 "nbformat": 4,
 "nbformat_minor": 5
}
