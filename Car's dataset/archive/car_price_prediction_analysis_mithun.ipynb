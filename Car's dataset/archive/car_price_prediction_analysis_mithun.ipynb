{
 "cells": [
  {
   "cell_type": "code",
   "execution_count": 100,
   "id": "bf6adc2a",
   "metadata": {},
   "outputs": [],
   "source": [
    "import numpy as np\n",
    "import pandas as pd\n",
    "import matplotlib.pyplot as plt\n",
    "import seaborn as sns\n"
   ]
  },
  {
   "cell_type": "code",
   "execution_count": 101,
   "id": "a80aa1ae",
   "metadata": {},
   "outputs": [],
   "source": [
    "car = pd.read_csv(\"cars_dataset.csv\")"
   ]
  },
  {
   "cell_type": "code",
   "execution_count": 102,
   "id": "86b86a83",
   "metadata": {},
   "outputs": [
    {
     "data": {
      "text/html": [
       "<div>\n",
       "<style scoped>\n",
       "    .dataframe tbody tr th:only-of-type {\n",
       "        vertical-align: middle;\n",
       "    }\n",
       "\n",
       "    .dataframe tbody tr th {\n",
       "        vertical-align: top;\n",
       "    }\n",
       "\n",
       "    .dataframe thead th {\n",
       "        text-align: right;\n",
       "    }\n",
       "</style>\n",
       "<table border=\"1\" class=\"dataframe\">\n",
       "  <thead>\n",
       "    <tr style=\"text-align: right;\">\n",
       "      <th></th>\n",
       "      <th>model</th>\n",
       "      <th>year</th>\n",
       "      <th>price</th>\n",
       "      <th>transmission</th>\n",
       "      <th>mileage</th>\n",
       "      <th>fuelType</th>\n",
       "      <th>tax</th>\n",
       "      <th>mpg</th>\n",
       "      <th>engineSize</th>\n",
       "      <th>Make</th>\n",
       "    </tr>\n",
       "  </thead>\n",
       "  <tbody>\n",
       "    <tr>\n",
       "      <th>0</th>\n",
       "      <td>A1</td>\n",
       "      <td>2017</td>\n",
       "      <td>12500</td>\n",
       "      <td>Manual</td>\n",
       "      <td>15735</td>\n",
       "      <td>Petrol</td>\n",
       "      <td>150.0</td>\n",
       "      <td>55.4</td>\n",
       "      <td>1.4</td>\n",
       "      <td>audi</td>\n",
       "    </tr>\n",
       "    <tr>\n",
       "      <th>1</th>\n",
       "      <td>A6</td>\n",
       "      <td>2016</td>\n",
       "      <td>16500</td>\n",
       "      <td>Automatic</td>\n",
       "      <td>36203</td>\n",
       "      <td>Diesel</td>\n",
       "      <td>20.0</td>\n",
       "      <td>64.2</td>\n",
       "      <td>2.0</td>\n",
       "      <td>audi</td>\n",
       "    </tr>\n",
       "    <tr>\n",
       "      <th>2</th>\n",
       "      <td>A1</td>\n",
       "      <td>2016</td>\n",
       "      <td>11000</td>\n",
       "      <td>Manual</td>\n",
       "      <td>29946</td>\n",
       "      <td>Petrol</td>\n",
       "      <td>30.0</td>\n",
       "      <td>55.4</td>\n",
       "      <td>1.4</td>\n",
       "      <td>audi</td>\n",
       "    </tr>\n",
       "    <tr>\n",
       "      <th>3</th>\n",
       "      <td>A4</td>\n",
       "      <td>2017</td>\n",
       "      <td>16800</td>\n",
       "      <td>Automatic</td>\n",
       "      <td>25952</td>\n",
       "      <td>Diesel</td>\n",
       "      <td>145.0</td>\n",
       "      <td>67.3</td>\n",
       "      <td>2.0</td>\n",
       "      <td>audi</td>\n",
       "    </tr>\n",
       "    <tr>\n",
       "      <th>4</th>\n",
       "      <td>A3</td>\n",
       "      <td>2019</td>\n",
       "      <td>17300</td>\n",
       "      <td>Manual</td>\n",
       "      <td>1998</td>\n",
       "      <td>Petrol</td>\n",
       "      <td>145.0</td>\n",
       "      <td>49.6</td>\n",
       "      <td>1.0</td>\n",
       "      <td>audi</td>\n",
       "    </tr>\n",
       "    <tr>\n",
       "      <th>...</th>\n",
       "      <td>...</td>\n",
       "      <td>...</td>\n",
       "      <td>...</td>\n",
       "      <td>...</td>\n",
       "      <td>...</td>\n",
       "      <td>...</td>\n",
       "      <td>...</td>\n",
       "      <td>...</td>\n",
       "      <td>...</td>\n",
       "      <td>...</td>\n",
       "    </tr>\n",
       "    <tr>\n",
       "      <th>72430</th>\n",
       "      <td>I30</td>\n",
       "      <td>2016</td>\n",
       "      <td>8680</td>\n",
       "      <td>Manual</td>\n",
       "      <td>25906</td>\n",
       "      <td>Diesel</td>\n",
       "      <td>0.0</td>\n",
       "      <td>78.4</td>\n",
       "      <td>1.6</td>\n",
       "      <td>Hyundai</td>\n",
       "    </tr>\n",
       "    <tr>\n",
       "      <th>72431</th>\n",
       "      <td>I40</td>\n",
       "      <td>2015</td>\n",
       "      <td>7830</td>\n",
       "      <td>Manual</td>\n",
       "      <td>59508</td>\n",
       "      <td>Diesel</td>\n",
       "      <td>30.0</td>\n",
       "      <td>65.7</td>\n",
       "      <td>1.7</td>\n",
       "      <td>Hyundai</td>\n",
       "    </tr>\n",
       "    <tr>\n",
       "      <th>72432</th>\n",
       "      <td>I10</td>\n",
       "      <td>2017</td>\n",
       "      <td>6830</td>\n",
       "      <td>Manual</td>\n",
       "      <td>13810</td>\n",
       "      <td>Petrol</td>\n",
       "      <td>20.0</td>\n",
       "      <td>60.1</td>\n",
       "      <td>1.0</td>\n",
       "      <td>Hyundai</td>\n",
       "    </tr>\n",
       "    <tr>\n",
       "      <th>72433</th>\n",
       "      <td>Tucson</td>\n",
       "      <td>2018</td>\n",
       "      <td>13994</td>\n",
       "      <td>Manual</td>\n",
       "      <td>23313</td>\n",
       "      <td>Petrol</td>\n",
       "      <td>145.0</td>\n",
       "      <td>44.8</td>\n",
       "      <td>1.6</td>\n",
       "      <td>Hyundai</td>\n",
       "    </tr>\n",
       "    <tr>\n",
       "      <th>72434</th>\n",
       "      <td>Tucson</td>\n",
       "      <td>2016</td>\n",
       "      <td>15999</td>\n",
       "      <td>Automatic</td>\n",
       "      <td>11472</td>\n",
       "      <td>Diesel</td>\n",
       "      <td>125.0</td>\n",
       "      <td>57.6</td>\n",
       "      <td>1.7</td>\n",
       "      <td>Hyundai</td>\n",
       "    </tr>\n",
       "  </tbody>\n",
       "</table>\n",
       "<p>72435 rows × 10 columns</p>\n",
       "</div>"
      ],
      "text/plain": [
       "         model  year  price transmission  mileage fuelType    tax   mpg  \\\n",
       "0           A1  2017  12500       Manual    15735   Petrol  150.0  55.4   \n",
       "1           A6  2016  16500    Automatic    36203   Diesel   20.0  64.2   \n",
       "2           A1  2016  11000       Manual    29946   Petrol   30.0  55.4   \n",
       "3           A4  2017  16800    Automatic    25952   Diesel  145.0  67.3   \n",
       "4           A3  2019  17300       Manual     1998   Petrol  145.0  49.6   \n",
       "...        ...   ...    ...          ...      ...      ...    ...   ...   \n",
       "72430      I30  2016   8680       Manual    25906   Diesel    0.0  78.4   \n",
       "72431      I40  2015   7830       Manual    59508   Diesel   30.0  65.7   \n",
       "72432      I10  2017   6830       Manual    13810   Petrol   20.0  60.1   \n",
       "72433   Tucson  2018  13994       Manual    23313   Petrol  145.0  44.8   \n",
       "72434   Tucson  2016  15999    Automatic    11472   Diesel  125.0  57.6   \n",
       "\n",
       "       engineSize     Make  \n",
       "0             1.4     audi  \n",
       "1             2.0     audi  \n",
       "2             1.4     audi  \n",
       "3             2.0     audi  \n",
       "4             1.0     audi  \n",
       "...           ...      ...  \n",
       "72430         1.6  Hyundai  \n",
       "72431         1.7  Hyundai  \n",
       "72432         1.0  Hyundai  \n",
       "72433         1.6  Hyundai  \n",
       "72434         1.7  Hyundai  \n",
       "\n",
       "[72435 rows x 10 columns]"
      ]
     },
     "execution_count": 102,
     "metadata": {},
     "output_type": "execute_result"
    }
   ],
   "source": [
    "car"
   ]
  },
  {
   "cell_type": "code",
   "execution_count": 103,
   "id": "53034a91",
   "metadata": {},
   "outputs": [
    {
     "data": {
      "text/plain": [
       "(72435, 10)"
      ]
     },
     "execution_count": 103,
     "metadata": {},
     "output_type": "execute_result"
    }
   ],
   "source": [
    "car.shape"
   ]
  },
  {
   "cell_type": "code",
   "execution_count": 104,
   "id": "95884f06",
   "metadata": {},
   "outputs": [
    {
     "name": "stdout",
     "output_type": "stream",
     "text": [
      "<class 'pandas.core.frame.DataFrame'>\n",
      "RangeIndex: 72435 entries, 0 to 72434\n",
      "Data columns (total 10 columns):\n",
      " #   Column        Non-Null Count  Dtype  \n",
      "---  ------        --------------  -----  \n",
      " 0   model         72435 non-null  object \n",
      " 1   year          72435 non-null  int64  \n",
      " 2   price         72435 non-null  int64  \n",
      " 3   transmission  72435 non-null  object \n",
      " 4   mileage       72435 non-null  int64  \n",
      " 5   fuelType      72435 non-null  object \n",
      " 6   tax           72435 non-null  float64\n",
      " 7   mpg           72435 non-null  float64\n",
      " 8   engineSize    72435 non-null  float64\n",
      " 9   Make          72435 non-null  object \n",
      "dtypes: float64(3), int64(3), object(4)\n",
      "memory usage: 5.5+ MB\n"
     ]
    }
   ],
   "source": [
    "car.info()"
   ]
  },
  {
   "cell_type": "code",
   "execution_count": 105,
   "id": "1d4235da",
   "metadata": {},
   "outputs": [
    {
     "data": {
      "text/html": [
       "<div>\n",
       "<style scoped>\n",
       "    .dataframe tbody tr th:only-of-type {\n",
       "        vertical-align: middle;\n",
       "    }\n",
       "\n",
       "    .dataframe tbody tr th {\n",
       "        vertical-align: top;\n",
       "    }\n",
       "\n",
       "    .dataframe thead th {\n",
       "        text-align: right;\n",
       "    }\n",
       "</style>\n",
       "<table border=\"1\" class=\"dataframe\">\n",
       "  <thead>\n",
       "    <tr style=\"text-align: right;\">\n",
       "      <th></th>\n",
       "      <th>year</th>\n",
       "      <th>price</th>\n",
       "      <th>mileage</th>\n",
       "      <th>tax</th>\n",
       "      <th>mpg</th>\n",
       "      <th>engineSize</th>\n",
       "    </tr>\n",
       "  </thead>\n",
       "  <tbody>\n",
       "    <tr>\n",
       "      <th>count</th>\n",
       "      <td>72435.000000</td>\n",
       "      <td>72435.000000</td>\n",
       "      <td>72435.000000</td>\n",
       "      <td>72435.000000</td>\n",
       "      <td>72435.000000</td>\n",
       "      <td>72435.000000</td>\n",
       "    </tr>\n",
       "    <tr>\n",
       "      <th>mean</th>\n",
       "      <td>2017.073666</td>\n",
       "      <td>16580.158708</td>\n",
       "      <td>23176.517057</td>\n",
       "      <td>116.953407</td>\n",
       "      <td>55.852480</td>\n",
       "      <td>1.635650</td>\n",
       "    </tr>\n",
       "    <tr>\n",
       "      <th>std</th>\n",
       "      <td>2.101252</td>\n",
       "      <td>9299.028754</td>\n",
       "      <td>21331.515562</td>\n",
       "      <td>64.045533</td>\n",
       "      <td>17.114391</td>\n",
       "      <td>0.561535</td>\n",
       "    </tr>\n",
       "    <tr>\n",
       "      <th>min</th>\n",
       "      <td>1996.000000</td>\n",
       "      <td>495.000000</td>\n",
       "      <td>1.000000</td>\n",
       "      <td>0.000000</td>\n",
       "      <td>0.300000</td>\n",
       "      <td>0.000000</td>\n",
       "    </tr>\n",
       "    <tr>\n",
       "      <th>25%</th>\n",
       "      <td>2016.000000</td>\n",
       "      <td>10175.000000</td>\n",
       "      <td>7202.500000</td>\n",
       "      <td>30.000000</td>\n",
       "      <td>47.900000</td>\n",
       "      <td>1.200000</td>\n",
       "    </tr>\n",
       "    <tr>\n",
       "      <th>50%</th>\n",
       "      <td>2017.000000</td>\n",
       "      <td>14495.000000</td>\n",
       "      <td>17531.000000</td>\n",
       "      <td>145.000000</td>\n",
       "      <td>55.400000</td>\n",
       "      <td>1.600000</td>\n",
       "    </tr>\n",
       "    <tr>\n",
       "      <th>75%</th>\n",
       "      <td>2019.000000</td>\n",
       "      <td>20361.000000</td>\n",
       "      <td>32449.000000</td>\n",
       "      <td>145.000000</td>\n",
       "      <td>62.800000</td>\n",
       "      <td>2.000000</td>\n",
       "    </tr>\n",
       "    <tr>\n",
       "      <th>max</th>\n",
       "      <td>2020.000000</td>\n",
       "      <td>145000.000000</td>\n",
       "      <td>323000.000000</td>\n",
       "      <td>580.000000</td>\n",
       "      <td>470.800000</td>\n",
       "      <td>6.600000</td>\n",
       "    </tr>\n",
       "  </tbody>\n",
       "</table>\n",
       "</div>"
      ],
      "text/plain": [
       "               year          price        mileage           tax           mpg  \\\n",
       "count  72435.000000   72435.000000   72435.000000  72435.000000  72435.000000   \n",
       "mean    2017.073666   16580.158708   23176.517057    116.953407     55.852480   \n",
       "std        2.101252    9299.028754   21331.515562     64.045533     17.114391   \n",
       "min     1996.000000     495.000000       1.000000      0.000000      0.300000   \n",
       "25%     2016.000000   10175.000000    7202.500000     30.000000     47.900000   \n",
       "50%     2017.000000   14495.000000   17531.000000    145.000000     55.400000   \n",
       "75%     2019.000000   20361.000000   32449.000000    145.000000     62.800000   \n",
       "max     2020.000000  145000.000000  323000.000000    580.000000    470.800000   \n",
       "\n",
       "         engineSize  \n",
       "count  72435.000000  \n",
       "mean       1.635650  \n",
       "std        0.561535  \n",
       "min        0.000000  \n",
       "25%        1.200000  \n",
       "50%        1.600000  \n",
       "75%        2.000000  \n",
       "max        6.600000  "
      ]
     },
     "execution_count": 105,
     "metadata": {},
     "output_type": "execute_result"
    }
   ],
   "source": [
    "car.describe()"
   ]
  },
  {
   "cell_type": "markdown",
   "id": "99ce9927",
   "metadata": {},
   "source": [
    "obs : There must be outliers in this dataset when we note that the max value increases suddenly after 75% there is much difference in 75% and max.so max may be outlier."
   ]
  },
  {
   "cell_type": "code",
   "execution_count": 106,
   "id": "506d12c5",
   "metadata": {},
   "outputs": [
    {
     "data": {
      "text/plain": [
       "model           0\n",
       "year            0\n",
       "price           0\n",
       "transmission    0\n",
       "mileage         0\n",
       "fuelType        0\n",
       "tax             0\n",
       "mpg             0\n",
       "engineSize      0\n",
       "Make            0\n",
       "dtype: int64"
      ]
     },
     "execution_count": 106,
     "metadata": {},
     "output_type": "execute_result"
    }
   ],
   "source": [
    "car.isna().sum()"
   ]
  },
  {
   "cell_type": "markdown",
   "id": "6a8911c4",
   "metadata": {},
   "source": [
    "obs : There is no null values in this dataset"
   ]
  },
  {
   "cell_type": "code",
   "execution_count": 107,
   "id": "4682bee4",
   "metadata": {},
   "outputs": [
    {
     "data": {
      "text/html": [
       "<div>\n",
       "<style scoped>\n",
       "    .dataframe tbody tr th:only-of-type {\n",
       "        vertical-align: middle;\n",
       "    }\n",
       "\n",
       "    .dataframe tbody tr th {\n",
       "        vertical-align: top;\n",
       "    }\n",
       "\n",
       "    .dataframe thead th {\n",
       "        text-align: right;\n",
       "    }\n",
       "</style>\n",
       "<table border=\"1\" class=\"dataframe\">\n",
       "  <thead>\n",
       "    <tr style=\"text-align: right;\">\n",
       "      <th></th>\n",
       "      <th>model</th>\n",
       "      <th>year</th>\n",
       "      <th>price</th>\n",
       "      <th>transmission</th>\n",
       "      <th>mileage</th>\n",
       "      <th>fuelType</th>\n",
       "      <th>tax</th>\n",
       "      <th>mpg</th>\n",
       "      <th>engineSize</th>\n",
       "      <th>Make</th>\n",
       "    </tr>\n",
       "  </thead>\n",
       "  <tbody>\n",
       "    <tr>\n",
       "      <th>0</th>\n",
       "      <td>A1</td>\n",
       "      <td>2017</td>\n",
       "      <td>12500</td>\n",
       "      <td>Manual</td>\n",
       "      <td>15735</td>\n",
       "      <td>Petrol</td>\n",
       "      <td>150.0</td>\n",
       "      <td>55.4</td>\n",
       "      <td>1.4</td>\n",
       "      <td>audi</td>\n",
       "    </tr>\n",
       "    <tr>\n",
       "      <th>1</th>\n",
       "      <td>A6</td>\n",
       "      <td>2016</td>\n",
       "      <td>16500</td>\n",
       "      <td>Automatic</td>\n",
       "      <td>36203</td>\n",
       "      <td>Diesel</td>\n",
       "      <td>20.0</td>\n",
       "      <td>64.2</td>\n",
       "      <td>2.0</td>\n",
       "      <td>audi</td>\n",
       "    </tr>\n",
       "    <tr>\n",
       "      <th>2</th>\n",
       "      <td>A1</td>\n",
       "      <td>2016</td>\n",
       "      <td>11000</td>\n",
       "      <td>Manual</td>\n",
       "      <td>29946</td>\n",
       "      <td>Petrol</td>\n",
       "      <td>30.0</td>\n",
       "      <td>55.4</td>\n",
       "      <td>1.4</td>\n",
       "      <td>audi</td>\n",
       "    </tr>\n",
       "    <tr>\n",
       "      <th>3</th>\n",
       "      <td>A4</td>\n",
       "      <td>2017</td>\n",
       "      <td>16800</td>\n",
       "      <td>Automatic</td>\n",
       "      <td>25952</td>\n",
       "      <td>Diesel</td>\n",
       "      <td>145.0</td>\n",
       "      <td>67.3</td>\n",
       "      <td>2.0</td>\n",
       "      <td>audi</td>\n",
       "    </tr>\n",
       "    <tr>\n",
       "      <th>4</th>\n",
       "      <td>A3</td>\n",
       "      <td>2019</td>\n",
       "      <td>17300</td>\n",
       "      <td>Manual</td>\n",
       "      <td>1998</td>\n",
       "      <td>Petrol</td>\n",
       "      <td>145.0</td>\n",
       "      <td>49.6</td>\n",
       "      <td>1.0</td>\n",
       "      <td>audi</td>\n",
       "    </tr>\n",
       "  </tbody>\n",
       "</table>\n",
       "</div>"
      ],
      "text/plain": [
       "  model  year  price transmission  mileage fuelType    tax   mpg  engineSize  \\\n",
       "0    A1  2017  12500       Manual    15735   Petrol  150.0  55.4         1.4   \n",
       "1    A6  2016  16500    Automatic    36203   Diesel   20.0  64.2         2.0   \n",
       "2    A1  2016  11000       Manual    29946   Petrol   30.0  55.4         1.4   \n",
       "3    A4  2017  16800    Automatic    25952   Diesel  145.0  67.3         2.0   \n",
       "4    A3  2019  17300       Manual     1998   Petrol  145.0  49.6         1.0   \n",
       "\n",
       "   Make  \n",
       "0  audi  \n",
       "1  audi  \n",
       "2  audi  \n",
       "3  audi  \n",
       "4  audi  "
      ]
     },
     "execution_count": 107,
     "metadata": {},
     "output_type": "execute_result"
    }
   ],
   "source": [
    "car.head()"
   ]
  },
  {
   "cell_type": "code",
   "execution_count": 108,
   "id": "cb3157e0",
   "metadata": {},
   "outputs": [
    {
     "data": {
      "text/html": [
       "<div>\n",
       "<style scoped>\n",
       "    .dataframe tbody tr th:only-of-type {\n",
       "        vertical-align: middle;\n",
       "    }\n",
       "\n",
       "    .dataframe tbody tr th {\n",
       "        vertical-align: top;\n",
       "    }\n",
       "\n",
       "    .dataframe thead th {\n",
       "        text-align: right;\n",
       "    }\n",
       "</style>\n",
       "<table border=\"1\" class=\"dataframe\">\n",
       "  <thead>\n",
       "    <tr style=\"text-align: right;\">\n",
       "      <th></th>\n",
       "      <th>model</th>\n",
       "      <th>year</th>\n",
       "      <th>price</th>\n",
       "      <th>transmission</th>\n",
       "      <th>mileage</th>\n",
       "      <th>fuelType</th>\n",
       "      <th>tax</th>\n",
       "      <th>mpg</th>\n",
       "      <th>engineSize</th>\n",
       "      <th>Make</th>\n",
       "    </tr>\n",
       "  </thead>\n",
       "  <tbody>\n",
       "    <tr>\n",
       "      <th>72430</th>\n",
       "      <td>I30</td>\n",
       "      <td>2016</td>\n",
       "      <td>8680</td>\n",
       "      <td>Manual</td>\n",
       "      <td>25906</td>\n",
       "      <td>Diesel</td>\n",
       "      <td>0.0</td>\n",
       "      <td>78.4</td>\n",
       "      <td>1.6</td>\n",
       "      <td>Hyundai</td>\n",
       "    </tr>\n",
       "    <tr>\n",
       "      <th>72431</th>\n",
       "      <td>I40</td>\n",
       "      <td>2015</td>\n",
       "      <td>7830</td>\n",
       "      <td>Manual</td>\n",
       "      <td>59508</td>\n",
       "      <td>Diesel</td>\n",
       "      <td>30.0</td>\n",
       "      <td>65.7</td>\n",
       "      <td>1.7</td>\n",
       "      <td>Hyundai</td>\n",
       "    </tr>\n",
       "    <tr>\n",
       "      <th>72432</th>\n",
       "      <td>I10</td>\n",
       "      <td>2017</td>\n",
       "      <td>6830</td>\n",
       "      <td>Manual</td>\n",
       "      <td>13810</td>\n",
       "      <td>Petrol</td>\n",
       "      <td>20.0</td>\n",
       "      <td>60.1</td>\n",
       "      <td>1.0</td>\n",
       "      <td>Hyundai</td>\n",
       "    </tr>\n",
       "    <tr>\n",
       "      <th>72433</th>\n",
       "      <td>Tucson</td>\n",
       "      <td>2018</td>\n",
       "      <td>13994</td>\n",
       "      <td>Manual</td>\n",
       "      <td>23313</td>\n",
       "      <td>Petrol</td>\n",
       "      <td>145.0</td>\n",
       "      <td>44.8</td>\n",
       "      <td>1.6</td>\n",
       "      <td>Hyundai</td>\n",
       "    </tr>\n",
       "    <tr>\n",
       "      <th>72434</th>\n",
       "      <td>Tucson</td>\n",
       "      <td>2016</td>\n",
       "      <td>15999</td>\n",
       "      <td>Automatic</td>\n",
       "      <td>11472</td>\n",
       "      <td>Diesel</td>\n",
       "      <td>125.0</td>\n",
       "      <td>57.6</td>\n",
       "      <td>1.7</td>\n",
       "      <td>Hyundai</td>\n",
       "    </tr>\n",
       "  </tbody>\n",
       "</table>\n",
       "</div>"
      ],
      "text/plain": [
       "         model  year  price transmission  mileage fuelType    tax   mpg  \\\n",
       "72430      I30  2016   8680       Manual    25906   Diesel    0.0  78.4   \n",
       "72431      I40  2015   7830       Manual    59508   Diesel   30.0  65.7   \n",
       "72432      I10  2017   6830       Manual    13810   Petrol   20.0  60.1   \n",
       "72433   Tucson  2018  13994       Manual    23313   Petrol  145.0  44.8   \n",
       "72434   Tucson  2016  15999    Automatic    11472   Diesel  125.0  57.6   \n",
       "\n",
       "       engineSize     Make  \n",
       "72430         1.6  Hyundai  \n",
       "72431         1.7  Hyundai  \n",
       "72432         1.0  Hyundai  \n",
       "72433         1.6  Hyundai  \n",
       "72434         1.7  Hyundai  "
      ]
     },
     "execution_count": 108,
     "metadata": {},
     "output_type": "execute_result"
    }
   ],
   "source": [
    "car.tail()"
   ]
  },
  {
   "cell_type": "code",
   "execution_count": 109,
   "id": "f8b3521d",
   "metadata": {},
   "outputs": [
    {
     "data": {
      "text/plain": [
       "842"
      ]
     },
     "execution_count": 109,
     "metadata": {},
     "output_type": "execute_result"
    }
   ],
   "source": [
    "car.duplicated().sum()"
   ]
  },
  {
   "cell_type": "markdown",
   "id": "74ed42a4",
   "metadata": {},
   "source": [
    "obs : 842 dublicate values in the dataset.we have remove this duplicates."
   ]
  },
  {
   "cell_type": "code",
   "execution_count": 110,
   "id": "0162489a",
   "metadata": {},
   "outputs": [
    {
     "data": {
      "text/plain": [
       "(72435, 10)"
      ]
     },
     "execution_count": 110,
     "metadata": {},
     "output_type": "execute_result"
    }
   ],
   "source": [
    "car.shape"
   ]
  },
  {
   "cell_type": "code",
   "execution_count": 111,
   "id": "b2e093df",
   "metadata": {},
   "outputs": [],
   "source": [
    "car.drop_duplicates(keep = 'first',inplace = True)"
   ]
  },
  {
   "cell_type": "code",
   "execution_count": 112,
   "id": "d3342118",
   "metadata": {},
   "outputs": [
    {
     "data": {
      "text/plain": [
       "(71593, 10)"
      ]
     },
     "execution_count": 112,
     "metadata": {},
     "output_type": "execute_result"
    }
   ],
   "source": [
    "car.shape"
   ]
  },
  {
   "cell_type": "markdown",
   "id": "077313da",
   "metadata": {},
   "source": [
    "obs : Before removing duplicates there are 72435 rows and 10 columns and after removing duplicates there are71593 rows and 10 columns."
   ]
  },
  {
   "cell_type": "code",
   "execution_count": 113,
   "id": "7fd56c96",
   "metadata": {},
   "outputs": [
    {
     "data": {
      "text/html": [
       "<div>\n",
       "<style scoped>\n",
       "    .dataframe tbody tr th:only-of-type {\n",
       "        vertical-align: middle;\n",
       "    }\n",
       "\n",
       "    .dataframe tbody tr th {\n",
       "        vertical-align: top;\n",
       "    }\n",
       "\n",
       "    .dataframe thead th {\n",
       "        text-align: right;\n",
       "    }\n",
       "</style>\n",
       "<table border=\"1\" class=\"dataframe\">\n",
       "  <thead>\n",
       "    <tr style=\"text-align: right;\">\n",
       "      <th></th>\n",
       "      <th>model</th>\n",
       "      <th>year</th>\n",
       "      <th>price</th>\n",
       "      <th>transmission</th>\n",
       "      <th>mileage</th>\n",
       "      <th>fuelType</th>\n",
       "      <th>tax</th>\n",
       "      <th>mpg</th>\n",
       "      <th>engineSize</th>\n",
       "      <th>Make</th>\n",
       "    </tr>\n",
       "  </thead>\n",
       "  <tbody>\n",
       "    <tr>\n",
       "      <th>0</th>\n",
       "      <td>A1</td>\n",
       "      <td>2017</td>\n",
       "      <td>12500</td>\n",
       "      <td>Manual</td>\n",
       "      <td>15735</td>\n",
       "      <td>Petrol</td>\n",
       "      <td>150.0</td>\n",
       "      <td>55.4</td>\n",
       "      <td>1.4</td>\n",
       "      <td>audi</td>\n",
       "    </tr>\n",
       "    <tr>\n",
       "      <th>1</th>\n",
       "      <td>A6</td>\n",
       "      <td>2016</td>\n",
       "      <td>16500</td>\n",
       "      <td>Automatic</td>\n",
       "      <td>36203</td>\n",
       "      <td>Diesel</td>\n",
       "      <td>20.0</td>\n",
       "      <td>64.2</td>\n",
       "      <td>2.0</td>\n",
       "      <td>audi</td>\n",
       "    </tr>\n",
       "    <tr>\n",
       "      <th>2</th>\n",
       "      <td>A1</td>\n",
       "      <td>2016</td>\n",
       "      <td>11000</td>\n",
       "      <td>Manual</td>\n",
       "      <td>29946</td>\n",
       "      <td>Petrol</td>\n",
       "      <td>30.0</td>\n",
       "      <td>55.4</td>\n",
       "      <td>1.4</td>\n",
       "      <td>audi</td>\n",
       "    </tr>\n",
       "    <tr>\n",
       "      <th>3</th>\n",
       "      <td>A4</td>\n",
       "      <td>2017</td>\n",
       "      <td>16800</td>\n",
       "      <td>Automatic</td>\n",
       "      <td>25952</td>\n",
       "      <td>Diesel</td>\n",
       "      <td>145.0</td>\n",
       "      <td>67.3</td>\n",
       "      <td>2.0</td>\n",
       "      <td>audi</td>\n",
       "    </tr>\n",
       "    <tr>\n",
       "      <th>4</th>\n",
       "      <td>A3</td>\n",
       "      <td>2019</td>\n",
       "      <td>17300</td>\n",
       "      <td>Manual</td>\n",
       "      <td>1998</td>\n",
       "      <td>Petrol</td>\n",
       "      <td>145.0</td>\n",
       "      <td>49.6</td>\n",
       "      <td>1.0</td>\n",
       "      <td>audi</td>\n",
       "    </tr>\n",
       "  </tbody>\n",
       "</table>\n",
       "</div>"
      ],
      "text/plain": [
       "  model  year  price transmission  mileage fuelType    tax   mpg  engineSize  \\\n",
       "0    A1  2017  12500       Manual    15735   Petrol  150.0  55.4         1.4   \n",
       "1    A6  2016  16500    Automatic    36203   Diesel   20.0  64.2         2.0   \n",
       "2    A1  2016  11000       Manual    29946   Petrol   30.0  55.4         1.4   \n",
       "3    A4  2017  16800    Automatic    25952   Diesel  145.0  67.3         2.0   \n",
       "4    A3  2019  17300       Manual     1998   Petrol  145.0  49.6         1.0   \n",
       "\n",
       "   Make  \n",
       "0  audi  \n",
       "1  audi  \n",
       "2  audi  \n",
       "3  audi  \n",
       "4  audi  "
      ]
     },
     "execution_count": 113,
     "metadata": {},
     "output_type": "execute_result"
    }
   ],
   "source": [
    "car.head()"
   ]
  },
  {
   "cell_type": "code",
   "execution_count": 114,
   "id": "b8cdf853",
   "metadata": {},
   "outputs": [],
   "source": [
    "car.reset_index(drop = True,inplace = True)"
   ]
  },
  {
   "cell_type": "code",
   "execution_count": 115,
   "id": "1f83ff44",
   "metadata": {},
   "outputs": [
    {
     "data": {
      "text/plain": [
       "model             146\n",
       "year               25\n",
       "price           10418\n",
       "transmission        4\n",
       "mileage         35743\n",
       "fuelType            5\n",
       "tax                47\n",
       "mpg               177\n",
       "engineSize         32\n",
       "Make                7\n",
       "dtype: int64"
      ]
     },
     "execution_count": 115,
     "metadata": {},
     "output_type": "execute_result"
    }
   ],
   "source": [
    "car.nunique()"
   ]
  },
  {
   "cell_type": "code",
   "execution_count": 116,
   "id": "2bf3951f",
   "metadata": {},
   "outputs": [
    {
     "data": {
      "text/plain": [
       "array([' A1', ' A6', ' A4', ' A3', ' Q3', ' Q5', ' A5', ' S4', ' Q2',\n",
       "       ' A7', ' TT', ' Q7', ' RS6', ' RS3', ' A8', ' Q8', ' RS4', ' RS5',\n",
       "       ' R8', ' SQ5', ' S8', ' SQ7', ' S3', ' S5', ' A2', ' RS7',\n",
       "       ' 5 Series', ' 6 Series', ' 1 Series', ' 7 Series', ' 2 Series',\n",
       "       ' 4 Series', ' X3', ' 3 Series', ' X5', ' X4', ' i3', ' X1', ' M4',\n",
       "       ' X2', ' X6', ' 8 Series', ' Z4', ' X7', ' M5', ' i8', ' M2',\n",
       "       ' M3', ' M6', ' Z3', ' Fiesta', ' Focus', ' Puma', ' Kuga',\n",
       "       ' EcoSport', ' C-MAX', ' Mondeo', ' Ka+', ' Tourneo Custom',\n",
       "       ' S-MAX', ' B-MAX', ' Edge', ' Tourneo Connect', ' Grand C-MAX',\n",
       "       ' KA', ' Galaxy', ' Mustang', ' Grand Tourneo Connect', ' Fusion',\n",
       "       ' Ranger', ' Streetka', ' Escort', ' Transit Tourneo', ' T-Roc',\n",
       "       ' Golf', ' Passat', ' T-Cross', ' Polo', ' Tiguan', ' Sharan',\n",
       "       ' Up', ' Scirocco', ' Beetle', ' Caddy Maxi Life', ' Caravelle',\n",
       "       ' Touareg', ' Arteon', ' Touran', ' Golf SV', ' Amarok',\n",
       "       ' Tiguan Allspace', ' Shuttle', ' Jetta', ' CC', ' California',\n",
       "       ' Caddy Life', ' Caddy', ' Caddy Maxi', ' Eos', ' Fox', ' GT86',\n",
       "       ' Corolla', ' RAV4', ' Yaris', ' Auris', ' Aygo', ' C-HR',\n",
       "       ' Prius', ' Avensis', ' Verso', ' Hilux', ' PROACE VERSO',\n",
       "       ' Land Cruiser', ' Supra', ' Camry', ' Verso-S', ' IQ',\n",
       "       ' Urban Cruiser', ' Octavia', ' Citigo', ' Yeti Outdoor',\n",
       "       ' Superb', ' Kodiaq', ' Rapid', ' Karoq', ' Fabia', ' Yeti',\n",
       "       ' Scala', ' Roomster', ' Kamiq', ' I20', ' Tucson', ' I10',\n",
       "       ' IX35', ' I30', ' I40', ' Ioniq', ' Kona', ' Veloster', ' I800',\n",
       "       ' IX20', ' Santa Fe', ' Accent', ' Terracan', ' Getz', ' Amica'],\n",
       "      dtype=object)"
      ]
     },
     "execution_count": 116,
     "metadata": {},
     "output_type": "execute_result"
    }
   ],
   "source": [
    "car['model'].unique()"
   ]
  },
  {
   "cell_type": "code",
   "execution_count": 117,
   "id": "f0e9ac8f",
   "metadata": {},
   "outputs": [
    {
     "data": {
      "text/plain": [
       " Fiesta      6508\n",
       " Golf        4797\n",
       " Focus       4555\n",
       " Polo        3244\n",
       " 3 Series    2434\n",
       "Name: model, dtype: int64"
      ]
     },
     "execution_count": 117,
     "metadata": {},
     "output_type": "execute_result"
    }
   ],
   "source": [
    "car['model'].value_counts().head()"
   ]
  },
  {
   "cell_type": "code",
   "execution_count": 118,
   "id": "657115c0",
   "metadata": {},
   "outputs": [
    {
     "data": {
      "text/plain": [
       "<bound method DataFrame.value_counts of          model  year  price transmission  mileage fuelType    tax   mpg  \\\n",
       "0           A1  2017  12500       Manual    15735   Petrol  150.0  55.4   \n",
       "1           A6  2016  16500    Automatic    36203   Diesel   20.0  64.2   \n",
       "2           A1  2016  11000       Manual    29946   Petrol   30.0  55.4   \n",
       "3           A4  2017  16800    Automatic    25952   Diesel  145.0  67.3   \n",
       "4           A3  2019  17300       Manual     1998   Petrol  145.0  49.6   \n",
       "...        ...   ...    ...          ...      ...      ...    ...   ...   \n",
       "71588      I30  2016   8680       Manual    25906   Diesel    0.0  78.4   \n",
       "71589      I40  2015   7830       Manual    59508   Diesel   30.0  65.7   \n",
       "71590      I10  2017   6830       Manual    13810   Petrol   20.0  60.1   \n",
       "71591   Tucson  2018  13994       Manual    23313   Petrol  145.0  44.8   \n",
       "71592   Tucson  2016  15999    Automatic    11472   Diesel  125.0  57.6   \n",
       "\n",
       "       engineSize     Make  \n",
       "0             1.4     audi  \n",
       "1             2.0     audi  \n",
       "2             1.4     audi  \n",
       "3             2.0     audi  \n",
       "4             1.0     audi  \n",
       "...           ...      ...  \n",
       "71588         1.6  Hyundai  \n",
       "71589         1.7  Hyundai  \n",
       "71590         1.0  Hyundai  \n",
       "71591         1.6  Hyundai  \n",
       "71592         1.7  Hyundai  \n",
       "\n",
       "[71593 rows x 10 columns]>"
      ]
     },
     "execution_count": 118,
     "metadata": {},
     "output_type": "execute_result"
    }
   ],
   "source": [
    "car.value_counts"
   ]
  },
  {
   "cell_type": "code",
   "execution_count": 119,
   "id": "aca8b697",
   "metadata": {},
   "outputs": [
    {
     "data": {
      "text/plain": [
       "array([2017, 2016, 2019, 2015, 2014, 2018, 2013, 2020, 2004, 2009, 2012,\n",
       "       2010, 2007, 2011, 2008, 2003, 2005, 2002, 2006, 1998, 1997, 2001,\n",
       "       2000, 1999, 1996], dtype=int64)"
      ]
     },
     "execution_count": 119,
     "metadata": {},
     "output_type": "execute_result"
    }
   ],
   "source": [
    "car['year'].unique()"
   ]
  },
  {
   "cell_type": "code",
   "execution_count": 120,
   "id": "03c2f665",
   "metadata": {},
   "outputs": [
    {
     "data": {
      "text/plain": [
       "2019    18636\n",
       "2017    16138\n",
       "2016    11294\n",
       "2018    10030\n",
       "2015     5543\n",
       "Name: year, dtype: int64"
      ]
     },
     "execution_count": 120,
     "metadata": {},
     "output_type": "execute_result"
    }
   ],
   "source": [
    "car['year'].value_counts().head()"
   ]
  },
  {
   "cell_type": "code",
   "execution_count": 121,
   "id": "0495b703",
   "metadata": {},
   "outputs": [
    {
     "data": {
      "text/plain": [
       "array(['Manual', 'Automatic', 'Semi-Auto', 'Other'], dtype=object)"
      ]
     },
     "execution_count": 121,
     "metadata": {},
     "output_type": "execute_result"
    }
   ],
   "source": [
    "car['transmission'].unique()"
   ]
  },
  {
   "cell_type": "code",
   "execution_count": 122,
   "id": "dcfcea9a",
   "metadata": {},
   "outputs": [
    {
     "data": {
      "text/plain": [
       "Manual       42472\n",
       "Semi-Auto    15191\n",
       "Automatic    13926\n",
       "Other            4\n",
       "Name: transmission, dtype: int64"
      ]
     },
     "execution_count": 122,
     "metadata": {},
     "output_type": "execute_result"
    }
   ],
   "source": [
    "car['transmission'].value_counts()"
   ]
  },
  {
   "cell_type": "code",
   "execution_count": 123,
   "id": "37e88ada",
   "metadata": {},
   "outputs": [
    {
     "data": {
      "text/plain": [
       "array(['Petrol', 'Diesel', 'Hybrid', 'Other', 'Electric'], dtype=object)"
      ]
     },
     "execution_count": 123,
     "metadata": {},
     "output_type": "execute_result"
    }
   ],
   "source": [
    "car['fuelType'].unique()"
   ]
  },
  {
   "cell_type": "code",
   "execution_count": 124,
   "id": "f4fb2e0c",
   "metadata": {},
   "outputs": [
    {
     "data": {
      "text/plain": [
       "Petrol      39844\n",
       "Diesel      28619\n",
       "Hybrid       2887\n",
       "Other         238\n",
       "Electric        5\n",
       "Name: fuelType, dtype: int64"
      ]
     },
     "execution_count": 124,
     "metadata": {},
     "output_type": "execute_result"
    }
   ],
   "source": [
    "car['fuelType'].value_counts()"
   ]
  },
  {
   "cell_type": "markdown",
   "id": "76a534cd",
   "metadata": {},
   "source": [
    "obs : maximum of cars used petrol as a fuel."
   ]
  },
  {
   "cell_type": "code",
   "execution_count": 125,
   "id": "5718c0e5",
   "metadata": {},
   "outputs": [
    {
     "data": {
      "text/plain": [
       "array([150.,  20.,  30., 145., 125., 200.,   0., 205., 160., 235., 260.,\n",
       "       325., 300., 165., 240., 565., 265., 135., 570., 555., 140., 330.,\n",
       "       305., 155., 580., 290., 195., 115., 295., 220., 230., 280., 315.,\n",
       "       535., 190., 540., 515., 110., 185., 120., 250., 245., 255., 270.,\n",
       "       130., 210.,  10.])"
      ]
     },
     "execution_count": 125,
     "metadata": {},
     "output_type": "execute_result"
    }
   ],
   "source": [
    "car['tax'].unique()"
   ]
  },
  {
   "cell_type": "code",
   "execution_count": 126,
   "id": "3c26328c",
   "metadata": {},
   "outputs": [
    {
     "data": {
      "text/plain": [
       "145.0    33795\n",
       "150.0     8463\n",
       "20.0      6326\n",
       "30.0      6143\n",
       "0.0       5730\n",
       "Name: tax, dtype: int64"
      ]
     },
     "execution_count": 126,
     "metadata": {},
     "output_type": "execute_result"
    }
   ],
   "source": [
    "car['tax'].value_counts().head()"
   ]
  },
  {
   "cell_type": "code",
   "execution_count": 127,
   "id": "2eeb8a05",
   "metadata": {},
   "outputs": [
    {
     "data": {
      "text/plain": [
       "array(['audi', 'BMW', 'Ford', 'vw', 'toyota', 'skoda', 'Hyundai'],\n",
       "      dtype=object)"
      ]
     },
     "execution_count": 127,
     "metadata": {},
     "output_type": "execute_result"
    }
   ],
   "source": [
    "car['Make'].unique()"
   ]
  },
  {
   "cell_type": "code",
   "execution_count": 128,
   "id": "ac2ead88",
   "metadata": {},
   "outputs": [
    {
     "data": {
      "text/plain": [
       "Ford       17810\n",
       "vw         14893\n",
       "BMW        10664\n",
       "audi       10565\n",
       "toyota      6699\n",
       "skoda       6188\n",
       "Hyundai     4774\n",
       "Name: Make, dtype: int64"
      ]
     },
     "execution_count": 128,
     "metadata": {},
     "output_type": "execute_result"
    }
   ],
   "source": [
    "car['Make'].value_counts()"
   ]
  },
  {
   "cell_type": "code",
   "execution_count": 129,
   "id": "e2582332",
   "metadata": {},
   "outputs": [
    {
     "data": {
      "text/plain": [
       "4743"
      ]
     },
     "execution_count": 129,
     "metadata": {},
     "output_type": "execute_result"
    }
   ],
   "source": [
    "car['price'].idxmax()"
   ]
  },
  {
   "cell_type": "code",
   "execution_count": 130,
   "id": "5e1bce25",
   "metadata": {},
   "outputs": [
    {
     "data": {
      "text/plain": [
       "model                  R8\n",
       "year                 2020\n",
       "price              145000\n",
       "transmission    Semi-Auto\n",
       "mileage              2000\n",
       "fuelType           Petrol\n",
       "tax                 145.0\n",
       "mpg                  21.1\n",
       "engineSize            5.2\n",
       "Make                 audi\n",
       "Name: 4743, dtype: object"
      ]
     },
     "execution_count": 130,
     "metadata": {},
     "output_type": "execute_result"
    }
   ],
   "source": [
    "car.loc[car['price'].idxmax()]"
   ]
  },
  {
   "cell_type": "markdown",
   "id": "39cac79d",
   "metadata": {},
   "source": [
    "obs : audi(R8) is the highest price car  among the cars"
   ]
  },
  {
   "cell_type": "markdown",
   "id": "42c60c1a",
   "metadata": {},
   "source": [
    "# UNIVARIATE ANALYSIS"
   ]
  },
  {
   "cell_type": "code",
   "execution_count": 131,
   "id": "1fd19d3a",
   "metadata": {},
   "outputs": [
    {
     "data": {
      "text/plain": [
       "<seaborn.axisgrid.FacetGrid at 0x29eb14d9790>"
      ]
     },
     "execution_count": 131,
     "metadata": {},
     "output_type": "execute_result"
    },
    {
     "data": {
      "image/png": "[encoded data removed]",
      "text/plain": [
       "<Figure size 360x360 with 1 Axes>"
      ]
     },
     "metadata": {
      "needs_background": "light"
     },
     "output_type": "display_data"
    }
   ],
   "source": [
    "sns.displot(data = car,x = 'year')"
   ]
  },
  {
   "cell_type": "markdown",
   "id": "a3e5218e",
   "metadata": {},
   "source": [
    "obs : from 1995 to 2012 must be outliers."
   ]
  },
  {
   "cell_type": "code",
   "execution_count": 132,
   "id": "2f497ac8",
   "metadata": {},
   "outputs": [
    {
     "data": {
      "text/plain": [
       "<seaborn.axisgrid.FacetGrid at 0x29ead8b43a0>"
      ]
     },
     "execution_count": 132,
     "metadata": {},
     "output_type": "execute_result"
    },
    {
     "data": {
      "image/png": "[encoded data removed]",
      "text/plain": [
       "<Figure size 360x360 with 1 Axes>"
      ]
     },
     "metadata": {
      "needs_background": "light"
     },
     "output_type": "display_data"
    }
   ],
   "source": [
    "sns.displot(data = car,x = 'transmission')"
   ]
  },
  {
   "cell_type": "markdown",
   "id": "8db4bf2c",
   "metadata": {},
   "source": [
    "obs : manual transmission is higher than other transmission. "
   ]
  },
  {
   "cell_type": "code",
   "execution_count": 133,
   "id": "5a71f48d",
   "metadata": {},
   "outputs": [
    {
     "data": {
      "text/plain": [
       "<seaborn.axisgrid.FacetGrid at 0x29eb732b400>"
      ]
     },
     "execution_count": 133,
     "metadata": {},
     "output_type": "execute_result"
    },
    {
     "data": {
      "image/png": "[encoded data removed]",
      "text/plain": [
       "<Figure size 360x360 with 1 Axes>"
      ]
     },
     "metadata": {
      "needs_background": "light"
     },
     "output_type": "display_data"
    }
   ],
   "source": [
    "sns.displot(data = car,x = 'fuelType')"
   ]
  },
  {
   "cell_type": "markdown",
   "id": "59789fd9",
   "metadata": {},
   "source": [
    "obs : most of the cars used petrol as a fuel and next mostly used diesal."
   ]
  },
  {
   "cell_type": "code",
   "execution_count": 134,
   "id": "4f7d924e",
   "metadata": {},
   "outputs": [
    {
     "data": {
      "text/plain": [
       "<seaborn.axisgrid.FacetGrid at 0x29eaad47a30>"
      ]
     },
     "execution_count": 134,
     "metadata": {},
     "output_type": "execute_result"
    },
    {
     "data": {
      "image/png": "[encoded data removed]",
      "text/plain": [
       "<Figure size 360x360 with 1 Axes>"
      ]
     },
     "metadata": {
      "needs_background": "light"
     },
     "output_type": "display_data"
    }
   ],
   "source": [
    "sns.displot(data = car,x = 'mileage')"
   ]
  },
  {
   "cell_type": "markdown",
   "id": "aaeef62c",
   "metadata": {},
   "source": [
    "obs : mileage from 0 to 100000 are high .so this must be left skewed outlier."
   ]
  },
  {
   "cell_type": "code",
   "execution_count": 135,
   "id": "c6551a50",
   "metadata": {},
   "outputs": [
    {
     "data": {
      "text/plain": [
       "<AxesSubplot:xlabel='tax'>"
      ]
     },
     "execution_count": 135,
     "metadata": {},
     "output_type": "execute_result"
    },
    {
     "data": {
      "image/png": "[encoded data removed]",
      "text/plain": [
       "<Figure size 432x288 with 1 Axes>"
      ]
     },
     "metadata": {
      "needs_background": "light"
     },
     "output_type": "display_data"
    }
   ],
   "source": [
    "sns.boxplot(data = car,x = 'tax')"
   ]
  },
  {
   "cell_type": "markdown",
   "id": "71ef9743",
   "metadata": {},
   "source": [
    " obs : Tax column also having outliers this should be removed."
   ]
  },
  {
   "cell_type": "code",
   "execution_count": 136,
   "id": "7dbe9244",
   "metadata": {},
   "outputs": [
    {
     "data": {
      "text/plain": [
       "<AxesSubplot:xlabel='mpg'>"
      ]
     },
     "execution_count": 136,
     "metadata": {},
     "output_type": "execute_result"
    },
    {
     "data": {
      "image/png": "[encoded data removed]",
      "text/plain": [
       "<Figure size 432x288 with 1 Axes>"
      ]
     },
     "metadata": {
      "needs_background": "light"
     },
     "output_type": "display_data"
    }
   ],
   "source": [
    "sns.boxplot(data = car,x = 'mpg')"
   ]
  },
  {
   "cell_type": "markdown",
   "id": "53af97c9",
   "metadata": {},
   "source": [
    "obs :  mpg column also have a outliers this should be removed then only we can get accuracy. "
   ]
  },
  {
   "cell_type": "code",
   "execution_count": 137,
   "id": "8e4ee1c1",
   "metadata": {},
   "outputs": [
    {
     "data": {
      "text/plain": [
       "<AxesSubplot:xlabel='engineSize'>"
      ]
     },
     "execution_count": 137,
     "metadata": {},
     "output_type": "execute_result"
    },
    {
     "data": {
      "image/png": "[encoded data removed]",
      "text/plain": [
       "<Figure size 432x288 with 1 Axes>"
      ]
     },
     "metadata": {
      "needs_background": "light"
     },
     "output_type": "display_data"
    }
   ],
   "source": [
    "sns.boxplot(data = car,x = 'engineSize')"
   ]
  },
  {
   "cell_type": "markdown",
   "id": "c51778b2",
   "metadata": {},
   "source": [
    "obs : most of thr cars used 0 to 3 size engines."
   ]
  },
  {
   "cell_type": "code",
   "execution_count": 138,
   "id": "d3fceb8c",
   "metadata": {},
   "outputs": [
    {
     "data": {
      "text/plain": [
       "<seaborn.axisgrid.FacetGrid at 0x29ebb24efd0>"
      ]
     },
     "execution_count": 138,
     "metadata": {},
     "output_type": "execute_result"
    },
    {
     "data": {
      "image/png": "[encoded data removed]",
      "text/plain": [
       "<Figure size 360x360 with 1 Axes>"
      ]
     },
     "metadata": {
      "needs_background": "light"
     },
     "output_type": "display_data"
    }
   ],
   "source": [
    "sns.displot(data = car,x = 'Make')"
   ]
  },
  {
   "cell_type": "markdown",
   "id": "68ea9e26",
   "metadata": {},
   "source": [
    "obs : audi and bmw having same count.ford and vw companies are making more number of cars.toyota,skoda and hyundai are making minimum amount of cars."
   ]
  },
  {
   "cell_type": "markdown",
   "id": "90fc2f36",
   "metadata": {},
   "source": [
    "# CONVERT DATA TYPES"
   ]
  },
  {
   "cell_type": "code",
   "execution_count": 139,
   "id": "0bab64a0",
   "metadata": {},
   "outputs": [
    {
     "name": "stdout",
     "output_type": "stream",
     "text": [
      "<class 'pandas.core.frame.DataFrame'>\n",
      "RangeIndex: 71593 entries, 0 to 71592\n",
      "Data columns (total 10 columns):\n",
      " #   Column        Non-Null Count  Dtype  \n",
      "---  ------        --------------  -----  \n",
      " 0   model         71593 non-null  object \n",
      " 1   year          71593 non-null  int64  \n",
      " 2   price         71593 non-null  int64  \n",
      " 3   transmission  71593 non-null  object \n",
      " 4   mileage       71593 non-null  int64  \n",
      " 5   fuelType      71593 non-null  object \n",
      " 6   tax           71593 non-null  float64\n",
      " 7   mpg           71593 non-null  float64\n",
      " 8   engineSize    71593 non-null  float64\n",
      " 9   Make          71593 non-null  object \n",
      "dtypes: float64(3), int64(3), object(4)\n",
      "memory usage: 5.5+ MB\n"
     ]
    }
   ],
   "source": [
    "car.info()"
   ]
  },
  {
   "cell_type": "markdown",
   "id": "b159215d",
   "metadata": {},
   "source": [
    "obs : model,transmission,fueltype and make are in object type we have to convert it in to categorical type."
   ]
  },
  {
   "cell_type": "code",
   "execution_count": 140,
   "id": "151d2104",
   "metadata": {},
   "outputs": [
    {
     "data": {
      "text/plain": [
       "model             146\n",
       "year               25\n",
       "price           10418\n",
       "transmission        4\n",
       "mileage         35743\n",
       "fuelType            5\n",
       "tax                47\n",
       "mpg               177\n",
       "engineSize         32\n",
       "Make                7\n",
       "dtype: int64"
      ]
     },
     "execution_count": 140,
     "metadata": {},
     "output_type": "execute_result"
    }
   ],
   "source": [
    "car.nunique()"
   ]
  },
  {
   "cell_type": "code",
   "execution_count": 141,
   "id": "1852463e",
   "metadata": {},
   "outputs": [],
   "source": [
    "car['model'] = car['model'].astype('category')\n",
    "car['transmission'] = car['transmission'].astype('category')\n",
    "car['fuelType'] = car['fuelType'].astype('category')\n",
    "car['Make'] = car['Make'].astype('category')"
   ]
  },
  {
   "cell_type": "code",
   "execution_count": 142,
   "id": "100f3ffe",
   "metadata": {},
   "outputs": [
    {
     "name": "stdout",
     "output_type": "stream",
     "text": [
      "<class 'pandas.core.frame.DataFrame'>\n",
      "RangeIndex: 71593 entries, 0 to 71592\n",
      "Data columns (total 10 columns):\n",
      " #   Column        Non-Null Count  Dtype   \n",
      "---  ------        --------------  -----   \n",
      " 0   model         71593 non-null  category\n",
      " 1   year          71593 non-null  int64   \n",
      " 2   price         71593 non-null  int64   \n",
      " 3   transmission  71593 non-null  category\n",
      " 4   mileage       71593 non-null  int64   \n",
      " 5   fuelType      71593 non-null  category\n",
      " 6   tax           71593 non-null  float64 \n",
      " 7   mpg           71593 non-null  float64 \n",
      " 8   engineSize    71593 non-null  float64 \n",
      " 9   Make          71593 non-null  category\n",
      "dtypes: category(4), float64(3), int64(3)\n",
      "memory usage: 3.6 MB\n"
     ]
    }
   ],
   "source": [
    "car.info()"
   ]
  },
  {
   "cell_type": "markdown",
   "id": "4f873c08",
   "metadata": {},
   "source": [
    "obs : object type are converted in to category type"
   ]
  },
  {
   "cell_type": "markdown",
   "id": "2ac06d98",
   "metadata": {},
   "source": [
    "# FIND OUTLIERS"
   ]
  },
  {
   "cell_type": "code",
   "execution_count": 143,
   "id": "f433a882",
   "metadata": {},
   "outputs": [
    {
     "data": {
      "text/plain": [
       "(71593, 10)"
      ]
     },
     "execution_count": 143,
     "metadata": {},
     "output_type": "execute_result"
    }
   ],
   "source": [
    "car.shape"
   ]
  },
  {
   "cell_type": "code",
   "execution_count": 144,
   "id": "83d3e7c7",
   "metadata": {},
   "outputs": [
    {
     "name": "stdout",
     "output_type": "stream",
     "text": [
      "<class 'pandas.core.frame.DataFrame'>\n",
      "RangeIndex: 71593 entries, 0 to 71592\n",
      "Data columns (total 10 columns):\n",
      " #   Column        Non-Null Count  Dtype   \n",
      "---  ------        --------------  -----   \n",
      " 0   model         71593 non-null  category\n",
      " 1   year          71593 non-null  int64   \n",
      " 2   price         71593 non-null  int64   \n",
      " 3   transmission  71593 non-null  category\n",
      " 4   mileage       71593 non-null  int64   \n",
      " 5   fuelType      71593 non-null  category\n",
      " 6   tax           71593 non-null  float64 \n",
      " 7   mpg           71593 non-null  float64 \n",
      " 8   engineSize    71593 non-null  float64 \n",
      " 9   Make          71593 non-null  category\n",
      "dtypes: category(4), float64(3), int64(3)\n",
      "memory usage: 3.6 MB\n"
     ]
    }
   ],
   "source": [
    "car.info()"
   ]
  },
  {
   "cell_type": "code",
   "execution_count": 145,
   "id": "e267937f",
   "metadata": {},
   "outputs": [
    {
     "data": {
      "text/plain": [
       "model             146\n",
       "year               25\n",
       "price           10418\n",
       "transmission        4\n",
       "mileage         35743\n",
       "fuelType            5\n",
       "tax                47\n",
       "mpg               177\n",
       "engineSize         32\n",
       "Make                7\n",
       "dtype: int64"
      ]
     },
     "execution_count": 145,
     "metadata": {},
     "output_type": "execute_result"
    }
   ],
   "source": [
    "car.nunique()"
   ]
  },
  {
   "cell_type": "code",
   "execution_count": 146,
   "id": "95b70114",
   "metadata": {},
   "outputs": [
    {
     "data": {
      "text/plain": [
       "Index(['model', 'year', 'price', 'transmission', 'mileage', 'fuelType', 'tax',\n",
       "       'mpg', 'engineSize', 'Make'],\n",
       "      dtype='object')"
      ]
     },
     "execution_count": 146,
     "metadata": {},
     "output_type": "execute_result"
    }
   ],
   "source": [
    "car.columns"
   ]
  },
  {
   "cell_type": "markdown",
   "id": "b6ccf7d0",
   "metadata": {},
   "source": [
    "# USING 2nd STANDARD DEVIATION"
   ]
  },
  {
   "cell_type": "code",
   "execution_count": 147,
   "id": "2434dda0",
   "metadata": {},
   "outputs": [
    {
     "name": "stdout",
     "output_type": "stream",
     "text": [
      "<class 'pandas.core.frame.DataFrame'>\n",
      "RangeIndex: 71593 entries, 0 to 71592\n",
      "Data columns (total 10 columns):\n",
      " #   Column        Non-Null Count  Dtype   \n",
      "---  ------        --------------  -----   \n",
      " 0   model         71593 non-null  category\n",
      " 1   year          71593 non-null  int64   \n",
      " 2   price         71593 non-null  int64   \n",
      " 3   transmission  71593 non-null  category\n",
      " 4   mileage       71593 non-null  int64   \n",
      " 5   fuelType      71593 non-null  category\n",
      " 6   tax           71593 non-null  float64 \n",
      " 7   mpg           71593 non-null  float64 \n",
      " 8   engineSize    71593 non-null  float64 \n",
      " 9   Make          71593 non-null  category\n",
      "dtypes: category(4), float64(3), int64(3)\n",
      "memory usage: 3.6 MB\n"
     ]
    }
   ],
   "source": [
    "car.info()"
   ]
  },
  {
   "cell_type": "code",
   "execution_count": 148,
   "id": "ab460031",
   "metadata": {},
   "outputs": [
    {
     "name": "stdout",
     "output_type": "stream",
     "text": [
      "2012.856693690522 2021.2663071615168\n",
      "-1638.5548205971427 35293.97310029019\n",
      "-15918.108777018675 61006.840980812616\n",
      "-5.522911549202519 237.41395774974384\n",
      "23.422746444595447 89.96723584732622\n",
      "0.5993974230142415 2.5120929141500534\n"
     ]
    }
   ],
   "source": [
    "columns = [ 'year', 'price', 'mileage','tax','mpg','engineSize']\n",
    "for column in columns:\n",
    "        lower_bound = np.mean(car[column]) - (2*np.std(car[column]))\n",
    "        upper_bound = np.mean(car[column]) + (2*np.std(car[column]))\n",
    "        print(lower_bound,upper_bound)\n",
    "        \n",
    "        car.drop(car[car[column]>upper_bound].index,inplace = True)\n",
    "        car.drop(car[car[column]<lower_bound].index,inplace = True)"
   ]
  },
  {
   "cell_type": "code",
   "execution_count": 149,
   "id": "f1e02f5a",
   "metadata": {},
   "outputs": [
    {
     "data": {
      "text/plain": [
       "(60871, 10)"
      ]
     },
     "execution_count": 149,
     "metadata": {},
     "output_type": "execute_result"
    }
   ],
   "source": [
    "car.shape"
   ]
  },
  {
   "cell_type": "code",
   "execution_count": 150,
   "id": "cc087bf6",
   "metadata": {},
   "outputs": [
    {
     "data": {
      "text/plain": [
       "['year', 'price', 'mileage', 'tax', 'mpg', 'engineSize']"
      ]
     },
     "execution_count": 150,
     "metadata": {},
     "output_type": "execute_result"
    }
   ],
   "source": [
    "columns"
   ]
  },
  {
   "cell_type": "code",
   "execution_count": 151,
   "id": "f5be0a71",
   "metadata": {},
   "outputs": [
    {
     "data": {
      "text/plain": [
       "(60871, 10)"
      ]
     },
     "execution_count": 151,
     "metadata": {},
     "output_type": "execute_result"
    }
   ],
   "source": [
    "car.shape"
   ]
  },
  {
   "cell_type": "markdown",
   "id": "60b5897c",
   "metadata": {},
   "source": [
    "# USING IQR METHOD"
   ]
  },
  {
   "cell_type": "code",
   "execution_count": 152,
   "id": "0096eba9",
   "metadata": {},
   "outputs": [],
   "source": [
    "#columns = [ 'year', 'price','mileage','tax','mpg','engineSize']\n",
    "#for column in columns:\n",
    "    #iqr = np.percentile(car[column],75) - np.percentile(car[column],25)\n",
    "    #upper_limit = np.percentile(car[column],75) + (1.5*(iqr))\n",
    "    #lower_limit = np.percentile(car[column],25) - (1.5*(iqr))\n",
    "    #print(iqr, upper_limit, lower_limit)\n",
    "\n",
    "    #car.drop(car[car[column]>upper_limit].index,inplace = True)\n",
    "    #car.drop(car[car[column]<lower_limit].index,inplace = True)\n"
   ]
  },
  {
   "cell_type": "code",
   "execution_count": 153,
   "id": "710e5283",
   "metadata": {},
   "outputs": [
    {
     "data": {
      "text/plain": [
       "(60871, 10)"
      ]
     },
     "execution_count": 153,
     "metadata": {},
     "output_type": "execute_result"
    }
   ],
   "source": [
    "car.shape"
   ]
  },
  {
   "cell_type": "markdown",
   "id": "6cd103d8",
   "metadata": {},
   "source": [
    "obs : second standard deviation removes more outliers compare to iqr method."
   ]
  },
  {
   "cell_type": "markdown",
   "id": "f3710804",
   "metadata": {},
   "source": [
    "# BIVARIATE ANALYSIS"
   ]
  },
  {
   "cell_type": "code",
   "execution_count": 154,
   "id": "9cfdd712",
   "metadata": {},
   "outputs": [
    {
     "name": "stdout",
     "output_type": "stream",
     "text": [
      "<class 'pandas.core.frame.DataFrame'>\n",
      "Int64Index: 60871 entries, 0 to 71592\n",
      "Data columns (total 10 columns):\n",
      " #   Column        Non-Null Count  Dtype   \n",
      "---  ------        --------------  -----   \n",
      " 0   model         60871 non-null  category\n",
      " 1   year          60871 non-null  int64   \n",
      " 2   price         60871 non-null  int64   \n",
      " 3   transmission  60871 non-null  category\n",
      " 4   mileage       60871 non-null  int64   \n",
      " 5   fuelType      60871 non-null  category\n",
      " 6   tax           60871 non-null  float64 \n",
      " 7   mpg           60871 non-null  float64 \n",
      " 8   engineSize    60871 non-null  float64 \n",
      " 9   Make          60871 non-null  category\n",
      "dtypes: category(4), float64(3), int64(3)\n",
      "memory usage: 3.5 MB\n"
     ]
    }
   ],
   "source": [
    "car.info()"
   ]
  },
  {
   "cell_type": "code",
   "execution_count": 155,
   "id": "adf27998",
   "metadata": {},
   "outputs": [
    {
     "data": {
      "text/plain": [
       "model             104\n",
       "year                8\n",
       "price            8503\n",
       "transmission        4\n",
       "mileage         31155\n",
       "fuelType            5\n",
       "tax                22\n",
       "mpg                96\n",
       "engineSize         13\n",
       "Make                7\n",
       "dtype: int64"
      ]
     },
     "execution_count": 155,
     "metadata": {},
     "output_type": "execute_result"
    }
   ],
   "source": [
    "car.nunique()"
   ]
  },
  {
   "cell_type": "code",
   "execution_count": 156,
   "id": "57c52ab7",
   "metadata": {},
   "outputs": [
    {
     "data": {
      "text/plain": [
       "<AxesSubplot:xlabel='price', ylabel='fuelType'>"
      ]
     },
     "execution_count": 156,
     "metadata": {},
     "output_type": "execute_result"
    },
    {
     "data": {
      "image/png": "[encoded data removed]",
      "text/plain": [
       "<Figure size 432x288 with 1 Axes>"
      ]
     },
     "metadata": {
      "needs_background": "light"
     },
     "output_type": "display_data"
    }
   ],
   "source": [
    "sns.boxplot(data = car,x = 'price',y = 'fuelType')"
   ]
  },
  {
   "cell_type": "markdown",
   "id": "ac92efc0",
   "metadata": {},
   "source": [
    "obs : Diesal and petrol cars price less then the other. "
   ]
  },
  {
   "cell_type": "code",
   "execution_count": 157,
   "id": "80c21790",
   "metadata": {},
   "outputs": [
    {
     "data": {
      "text/plain": [
       "<AxesSubplot:xlabel='price', ylabel='Make'>"
      ]
     },
     "execution_count": 157,
     "metadata": {},
     "output_type": "execute_result"
    },
    {
     "data": {
      "image/png": "[encoded data removed]",
      "text/plain": [
       "<Figure size 432x288 with 1 Axes>"
      ]
     },
     "metadata": {
      "needs_background": "light"
     },
     "output_type": "display_data"
    }
   ],
   "source": [
    "sns.boxplot(data = car,x = 'price',y = 'Make')"
   ]
  },
  {
   "cell_type": "markdown",
   "id": "0cc50a79",
   "metadata": {},
   "source": [
    "obs : BMW and Audi  make more cars other then companies. "
   ]
  },
  {
   "cell_type": "code",
   "execution_count": 158,
   "id": "d6f8d421",
   "metadata": {},
   "outputs": [
    {
     "data": {
      "text/plain": [
       "<AxesSubplot:xlabel='price', ylabel='transmission'>"
      ]
     },
     "execution_count": 158,
     "metadata": {},
     "output_type": "execute_result"
    },
    {
     "data": {
      "image/png": "[encoded data removed]",
      "text/plain": [
       "<Figure size 432x288 with 1 Axes>"
      ]
     },
     "metadata": {
      "needs_background": "light"
     },
     "output_type": "display_data"
    }
   ],
   "source": [
    "sns.boxplot(data = car,x = 'price',y = 'transmission')"
   ]
  },
  {
   "cell_type": "markdown",
   "id": "95910fe0",
   "metadata": {},
   "source": [
    "obs : semi-auto transmission are used mostly.And secondly they are used automatic."
   ]
  },
  {
   "cell_type": "code",
   "execution_count": 159,
   "id": "f1061bed",
   "metadata": {},
   "outputs": [
    {
     "data": {
      "text/plain": [
       "<Figure size 1080x1080 with 0 Axes>"
      ]
     },
     "execution_count": 159,
     "metadata": {},
     "output_type": "execute_result"
    },
    {
     "data": {
      "image/png": "[encoded data removed]",
      "text/plain": [
       "<Figure size 432x288 with 1 Axes>"
      ]
     },
     "metadata": {
      "needs_background": "light"
     },
     "output_type": "display_data"
    },
    {
     "data": {
      "text/plain": [
       "<Figure size 1080x1080 with 0 Axes>"
      ]
     },
     "metadata": {},
     "output_type": "display_data"
    }
   ],
   "source": [
    "sns.boxplot(data = car,x = 'year',y = 'price')\n",
    "plt.figure(figsize = (15,15))\n",
    "    "
   ]
  },
  {
   "cell_type": "code",
   "execution_count": 160,
   "id": "9afedd8d",
   "metadata": {},
   "outputs": [
    {
     "data": {
      "text/plain": [
       "<Figure size 1080x1080 with 0 Axes>"
      ]
     },
     "execution_count": 160,
     "metadata": {},
     "output_type": "execute_result"
    },
    {
     "data": {
      "image/png": "[encoded data removed]",
      "text/plain": [
       "<Figure size 432x288 with 1 Axes>"
      ]
     },
     "metadata": {
      "needs_background": "light"
     },
     "output_type": "display_data"
    },
    {
     "data": {
      "text/plain": [
       "<Figure size 1080x1080 with 0 Axes>"
      ]
     },
     "metadata": {},
     "output_type": "display_data"
    }
   ],
   "source": [
    "sns.boxplot(data = car,x = 'engineSize',y = 'price')\n",
    "plt.figure(figsize = (15,15))"
   ]
  },
  {
   "cell_type": "markdown",
   "id": "57a2088a",
   "metadata": {},
   "source": [
    "obs : Most of the cars used 2.2 size engine.As engine size increases price also increases."
   ]
  },
  {
   "cell_type": "code",
   "execution_count": 161,
   "id": "f8e7075e",
   "metadata": {},
   "outputs": [
    {
     "data": {
      "text/plain": [
       "<seaborn.axisgrid.FacetGrid at 0x29ebced7ee0>"
      ]
     },
     "execution_count": 161,
     "metadata": {},
     "output_type": "execute_result"
    },
    {
     "data": {
      "image/png": "[encoded data removed]",
      "text/plain": [
       "<Figure size 433.125x360 with 1 Axes>"
      ]
     },
     "metadata": {
      "needs_background": "light"
     },
     "output_type": "display_data"
    }
   ],
   "source": [
    "sns.displot(data =car,x = 'engineSize',y = 'price',hue = 'fuelType')"
   ]
  },
  {
   "cell_type": "markdown",
   "id": "1d62cadc",
   "metadata": {},
   "source": [
    "obs : Most of the cars used petrol and diesal as a fuel type .2.0 size engine have a car prices  starts from 10000 to 35000 and it uses a petrol as fuel."
   ]
  },
  {
   "cell_type": "markdown",
   "id": "cb6c4475",
   "metadata": {},
   "source": [
    "# CHECK FOR CORRELATION"
   ]
  },
  {
   "cell_type": "code",
   "execution_count": 162,
   "id": "bd0bae2b",
   "metadata": {},
   "outputs": [
    {
     "data": {
      "text/plain": [
       "<AxesSubplot:>"
      ]
     },
     "execution_count": 162,
     "metadata": {},
     "output_type": "execute_result"
    },
    {
     "data": {
      "image/png": "[encoded data removed]",
      "text/plain": [
       "<Figure size 432x288 with 2 Axes>"
      ]
     },
     "metadata": {
      "needs_background": "light"
     },
     "output_type": "display_data"
    }
   ],
   "source": [
    "\n",
    "sns.heatmap(data = car.corr(),annot = True)"
   ]
  },
  {
   "cell_type": "markdown",
   "id": "8377e901",
   "metadata": {},
   "source": [
    "obs : There is no correlation in between the featurres.so no need to drop any features."
   ]
  },
  {
   "cell_type": "markdown",
   "id": "74adaf18",
   "metadata": {},
   "source": [
    "# ONE HOT ENCODING"
   ]
  },
  {
   "cell_type": "code",
   "execution_count": 163,
   "id": "e4fffc71",
   "metadata": {},
   "outputs": [
    {
     "name": "stdout",
     "output_type": "stream",
     "text": [
      "<class 'pandas.core.frame.DataFrame'>\n",
      "Int64Index: 60871 entries, 0 to 71592\n",
      "Data columns (total 10 columns):\n",
      " #   Column        Non-Null Count  Dtype   \n",
      "---  ------        --------------  -----   \n",
      " 0   model         60871 non-null  category\n",
      " 1   year          60871 non-null  int64   \n",
      " 2   price         60871 non-null  int64   \n",
      " 3   transmission  60871 non-null  category\n",
      " 4   mileage       60871 non-null  int64   \n",
      " 5   fuelType      60871 non-null  category\n",
      " 6   tax           60871 non-null  float64 \n",
      " 7   mpg           60871 non-null  float64 \n",
      " 8   engineSize    60871 non-null  float64 \n",
      " 9   Make          60871 non-null  category\n",
      "dtypes: category(4), float64(3), int64(3)\n",
      "memory usage: 5.6 MB\n"
     ]
    }
   ],
   "source": [
    "car.info()"
   ]
  },
  {
   "cell_type": "code",
   "execution_count": 164,
   "id": "991a5ea7",
   "metadata": {},
   "outputs": [
    {
     "data": {
      "text/plain": [
       "(60871, 10)"
      ]
     },
     "execution_count": 164,
     "metadata": {},
     "output_type": "execute_result"
    }
   ],
   "source": [
    "car.shape"
   ]
  },
  {
   "cell_type": "code",
   "execution_count": 165,
   "id": "e1a8b57c",
   "metadata": {},
   "outputs": [],
   "source": [
    "car.drop('model',axis = 1,inplace=True)"
   ]
  },
  {
   "cell_type": "code",
   "execution_count": 166,
   "id": "156a360a",
   "metadata": {},
   "outputs": [],
   "source": [
    "car_final = pd.get_dummies(car)"
   ]
  },
  {
   "cell_type": "code",
   "execution_count": 167,
   "id": "5dda60cd",
   "metadata": {},
   "outputs": [
    {
     "data": {
      "text/plain": [
       "(60871, 22)"
      ]
     },
     "execution_count": 167,
     "metadata": {},
     "output_type": "execute_result"
    }
   ],
   "source": [
    "car_final.shape"
   ]
  },
  {
   "cell_type": "code",
   "execution_count": 168,
   "id": "8ce220b7",
   "metadata": {},
   "outputs": [
    {
     "data": {
      "text/html": [
       "<div>\n",
       "<style scoped>\n",
       "    .dataframe tbody tr th:only-of-type {\n",
       "        vertical-align: middle;\n",
       "    }\n",
       "\n",
       "    .dataframe tbody tr th {\n",
       "        vertical-align: top;\n",
       "    }\n",
       "\n",
       "    .dataframe thead th {\n",
       "        text-align: right;\n",
       "    }\n",
       "</style>\n",
       "<table border=\"1\" class=\"dataframe\">\n",
       "  <thead>\n",
       "    <tr style=\"text-align: right;\">\n",
       "      <th></th>\n",
       "      <th>year</th>\n",
       "      <th>price</th>\n",
       "      <th>mileage</th>\n",
       "      <th>tax</th>\n",
       "      <th>mpg</th>\n",
       "      <th>engineSize</th>\n",
       "      <th>transmission_Automatic</th>\n",
       "      <th>transmission_Manual</th>\n",
       "      <th>transmission_Other</th>\n",
       "      <th>transmission_Semi-Auto</th>\n",
       "      <th>...</th>\n",
       "      <th>fuelType_Hybrid</th>\n",
       "      <th>fuelType_Other</th>\n",
       "      <th>fuelType_Petrol</th>\n",
       "      <th>Make_BMW</th>\n",
       "      <th>Make_Ford</th>\n",
       "      <th>Make_Hyundai</th>\n",
       "      <th>Make_audi</th>\n",
       "      <th>Make_skoda</th>\n",
       "      <th>Make_toyota</th>\n",
       "      <th>Make_vw</th>\n",
       "    </tr>\n",
       "  </thead>\n",
       "  <tbody>\n",
       "    <tr>\n",
       "      <th>0</th>\n",
       "      <td>2017</td>\n",
       "      <td>12500</td>\n",
       "      <td>15735</td>\n",
       "      <td>150.0</td>\n",
       "      <td>55.4</td>\n",
       "      <td>1.4</td>\n",
       "      <td>0</td>\n",
       "      <td>1</td>\n",
       "      <td>0</td>\n",
       "      <td>0</td>\n",
       "      <td>...</td>\n",
       "      <td>0</td>\n",
       "      <td>0</td>\n",
       "      <td>1</td>\n",
       "      <td>0</td>\n",
       "      <td>0</td>\n",
       "      <td>0</td>\n",
       "      <td>1</td>\n",
       "      <td>0</td>\n",
       "      <td>0</td>\n",
       "      <td>0</td>\n",
       "    </tr>\n",
       "    <tr>\n",
       "      <th>1</th>\n",
       "      <td>2016</td>\n",
       "      <td>16500</td>\n",
       "      <td>36203</td>\n",
       "      <td>20.0</td>\n",
       "      <td>64.2</td>\n",
       "      <td>2.0</td>\n",
       "      <td>1</td>\n",
       "      <td>0</td>\n",
       "      <td>0</td>\n",
       "      <td>0</td>\n",
       "      <td>...</td>\n",
       "      <td>0</td>\n",
       "      <td>0</td>\n",
       "      <td>0</td>\n",
       "      <td>0</td>\n",
       "      <td>0</td>\n",
       "      <td>0</td>\n",
       "      <td>1</td>\n",
       "      <td>0</td>\n",
       "      <td>0</td>\n",
       "      <td>0</td>\n",
       "    </tr>\n",
       "    <tr>\n",
       "      <th>2</th>\n",
       "      <td>2016</td>\n",
       "      <td>11000</td>\n",
       "      <td>29946</td>\n",
       "      <td>30.0</td>\n",
       "      <td>55.4</td>\n",
       "      <td>1.4</td>\n",
       "      <td>0</td>\n",
       "      <td>1</td>\n",
       "      <td>0</td>\n",
       "      <td>0</td>\n",
       "      <td>...</td>\n",
       "      <td>0</td>\n",
       "      <td>0</td>\n",
       "      <td>1</td>\n",
       "      <td>0</td>\n",
       "      <td>0</td>\n",
       "      <td>0</td>\n",
       "      <td>1</td>\n",
       "      <td>0</td>\n",
       "      <td>0</td>\n",
       "      <td>0</td>\n",
       "    </tr>\n",
       "    <tr>\n",
       "      <th>3</th>\n",
       "      <td>2017</td>\n",
       "      <td>16800</td>\n",
       "      <td>25952</td>\n",
       "      <td>145.0</td>\n",
       "      <td>67.3</td>\n",
       "      <td>2.0</td>\n",
       "      <td>1</td>\n",
       "      <td>0</td>\n",
       "      <td>0</td>\n",
       "      <td>0</td>\n",
       "      <td>...</td>\n",
       "      <td>0</td>\n",
       "      <td>0</td>\n",
       "      <td>0</td>\n",
       "      <td>0</td>\n",
       "      <td>0</td>\n",
       "      <td>0</td>\n",
       "      <td>1</td>\n",
       "      <td>0</td>\n",
       "      <td>0</td>\n",
       "      <td>0</td>\n",
       "    </tr>\n",
       "    <tr>\n",
       "      <th>4</th>\n",
       "      <td>2019</td>\n",
       "      <td>17300</td>\n",
       "      <td>1998</td>\n",
       "      <td>145.0</td>\n",
       "      <td>49.6</td>\n",
       "      <td>1.0</td>\n",
       "      <td>0</td>\n",
       "      <td>1</td>\n",
       "      <td>0</td>\n",
       "      <td>0</td>\n",
       "      <td>...</td>\n",
       "      <td>0</td>\n",
       "      <td>0</td>\n",
       "      <td>1</td>\n",
       "      <td>0</td>\n",
       "      <td>0</td>\n",
       "      <td>0</td>\n",
       "      <td>1</td>\n",
       "      <td>0</td>\n",
       "      <td>0</td>\n",
       "      <td>0</td>\n",
       "    </tr>\n",
       "  </tbody>\n",
       "</table>\n",
       "<p>5 rows × 22 columns</p>\n",
       "</div>"
      ],
      "text/plain": [
       "   year  price  mileage    tax   mpg  engineSize  transmission_Automatic  \\\n",
       "0  2017  12500    15735  150.0  55.4         1.4                       0   \n",
       "1  2016  16500    36203   20.0  64.2         2.0                       1   \n",
       "2  2016  11000    29946   30.0  55.4         1.4                       0   \n",
       "3  2017  16800    25952  145.0  67.3         2.0                       1   \n",
       "4  2019  17300     1998  145.0  49.6         1.0                       0   \n",
       "\n",
       "   transmission_Manual  transmission_Other  transmission_Semi-Auto  ...  \\\n",
       "0                    1                   0                       0  ...   \n",
       "1                    0                   0                       0  ...   \n",
       "2                    1                   0                       0  ...   \n",
       "3                    0                   0                       0  ...   \n",
       "4                    1                   0                       0  ...   \n",
       "\n",
       "   fuelType_Hybrid  fuelType_Other  fuelType_Petrol  Make_BMW  Make_Ford  \\\n",
       "0                0               0                1         0          0   \n",
       "1                0               0                0         0          0   \n",
       "2                0               0                1         0          0   \n",
       "3                0               0                0         0          0   \n",
       "4                0               0                1         0          0   \n",
       "\n",
       "   Make_Hyundai  Make_audi  Make_skoda  Make_toyota  Make_vw  \n",
       "0             0          1           0            0        0  \n",
       "1             0          1           0            0        0  \n",
       "2             0          1           0            0        0  \n",
       "3             0          1           0            0        0  \n",
       "4             0          1           0            0        0  \n",
       "\n",
       "[5 rows x 22 columns]"
      ]
     },
     "execution_count": 168,
     "metadata": {},
     "output_type": "execute_result"
    }
   ],
   "source": [
    "car_final.head()"
   ]
  },
  {
   "cell_type": "code",
   "execution_count": 169,
   "id": "32c59ccc",
   "metadata": {},
   "outputs": [
    {
     "data": {
      "text/plain": [
       "Index(['year', 'price', 'mileage', 'tax', 'mpg', 'engineSize',\n",
       "       'transmission_Automatic', 'transmission_Manual', 'transmission_Other',\n",
       "       'transmission_Semi-Auto', 'fuelType_Diesel', 'fuelType_Electric',\n",
       "       'fuelType_Hybrid', 'fuelType_Other', 'fuelType_Petrol', 'Make_BMW',\n",
       "       'Make_Ford', 'Make_Hyundai', 'Make_audi', 'Make_skoda', 'Make_toyota',\n",
       "       'Make_vw'],\n",
       "      dtype='object')"
      ]
     },
     "execution_count": 169,
     "metadata": {},
     "output_type": "execute_result"
    }
   ],
   "source": [
    "car_final.columns"
   ]
  },
  {
   "cell_type": "code",
   "execution_count": 170,
   "id": "8810f87f",
   "metadata": {},
   "outputs": [
    {
     "data": {
      "text/plain": [
       "((48696, 21), (12175, 21))"
      ]
     },
     "execution_count": 170,
     "metadata": {},
     "output_type": "execute_result"
    }
   ],
   "source": [
    "from sklearn.model_selection import train_test_split\n",
    "features = [col for col in car_final.columns if col!='price']\n",
    "X_train,X_test,y_train,y_test = train_test_split(car_final[features],car_final['price'],test_size =0.2,random_state = 22)\n",
    "X_train.shape,X_test.shape"
   ]
  },
  {
   "cell_type": "code",
   "execution_count": 171,
   "id": "f9d0f250",
   "metadata": {},
   "outputs": [],
   "source": [
    "from sklearn.preprocessing import StandardScaler\n",
    "sc = StandardScaler()\n",
    "X_train = sc.fit_transform(X_train)\n",
    "X_test = sc.transform(X_test)"
   ]
  },
  {
   "cell_type": "code",
   "execution_count": 172,
   "id": "7ba09f32",
   "metadata": {},
   "outputs": [],
   "source": [
    "#Creating Metrics Dataframe\n",
    "\n",
    "metrics_df = pd.DataFrame(columns=['Model','MAE','RMSE','R2_Score','Train Score','Test Score'])"
   ]
  },
  {
   "cell_type": "code",
   "execution_count": 174,
   "id": "de15e7e5",
   "metadata": {},
   "outputs": [
    {
     "data": {
      "text/plain": [
       "LinearRegression()"
      ]
     },
     "execution_count": 174,
     "metadata": {},
     "output_type": "execute_result"
    }
   ],
   "source": [
    "from sklearn.linear_model import LinearRegression\n",
    "linearregression = LinearRegression()                                    \n",
    "linearregression.fit(X_train, y_train) "
   ]
  },
  {
   "cell_type": "code",
   "execution_count": 175,
   "id": "44a17c10",
   "metadata": {},
   "outputs": [],
   "source": [
    "from sklearn.metrics import mean_squared_error,r2_score,mean_absolute_error"
   ]
  },
  {
   "cell_type": "code",
   "execution_count": 176,
   "id": "2232e06a",
   "metadata": {},
   "outputs": [
    {
     "name": "stdout",
     "output_type": "stream",
     "text": [
      "\n",
      "Mean Absolute Error: 2016.9819245368521\n",
      "\n",
      "RMSE: 2626.855535042904\n",
      "\n",
      "R2 Squared - Score: 0.8402370112992155\n",
      "\n",
      "Training Score: 0.8457450756696611\n",
      "\n",
      "Testing score: 0.8402370112992155\n"
     ]
    }
   ],
   "source": [
    "pred = linearregression.predict(X_test)   \n",
    "m0 = 'LinearRegression'\n",
    "# Mean Absolute Error\n",
    "m1 = \"{:.2f}\".format(mean_absolute_error(y_test, pred))\n",
    "print(\"\\nMean Absolute Error:\", mean_absolute_error(y_test, pred))\n",
    "# RMSE\n",
    "m2 = mean_squared_error(y_test, pred)**0.5\n",
    "print(\"\\nRMSE:\", mean_squared_error(y_test, pred)**0.5)\n",
    "# R2 Squared:\n",
    "m3 = \"{:.2f}\".format(r2_score(y_test, pred))\n",
    "print(\"\\nR2 Squared - Score:\", r2_score(y_test, pred))\n",
    "# Training Score\n",
    "m4 = \"{:.2f}\".format(linearregression.score(X_train, y_train))\n",
    "print(\"\\nTraining Score:\", linearregression.score(X_train, y_train))\n",
    "# Testing score\n",
    "m5 = \"{:.2f}\".format(linearregression.score(X_test, y_test))\n",
    "print(\"\\nTesting score:\",linearregression.score(X_test, y_test))\n",
    "\n",
    "metrics_df.loc[0] = [m0,m1,m2,m3,m4,m5]"
   ]
  },
  {
   "cell_type": "code",
   "execution_count": 177,
   "id": "e44ab16b",
   "metadata": {},
   "outputs": [
    {
     "data": {
      "text/html": [
       "<div>\n",
       "<style scoped>\n",
       "    .dataframe tbody tr th:only-of-type {\n",
       "        vertical-align: middle;\n",
       "    }\n",
       "\n",
       "    .dataframe tbody tr th {\n",
       "        vertical-align: top;\n",
       "    }\n",
       "\n",
       "    .dataframe thead th {\n",
       "        text-align: right;\n",
       "    }\n",
       "</style>\n",
       "<table border=\"1\" class=\"dataframe\">\n",
       "  <thead>\n",
       "    <tr style=\"text-align: right;\">\n",
       "      <th></th>\n",
       "      <th>Model</th>\n",
       "      <th>MAE</th>\n",
       "      <th>RMSE</th>\n",
       "      <th>R2_Score</th>\n",
       "      <th>Train Score</th>\n",
       "      <th>Test Score</th>\n",
       "    </tr>\n",
       "  </thead>\n",
       "  <tbody>\n",
       "    <tr>\n",
       "      <th>0</th>\n",
       "      <td>LinearRegression</td>\n",
       "      <td>2016.98</td>\n",
       "      <td>2626.855535</td>\n",
       "      <td>0.84</td>\n",
       "      <td>0.85</td>\n",
       "      <td>0.84</td>\n",
       "    </tr>\n",
       "  </tbody>\n",
       "</table>\n",
       "</div>"
      ],
      "text/plain": [
       "              Model      MAE         RMSE R2_Score Train Score Test Score\n",
       "0  LinearRegression  2016.98  2626.855535     0.84        0.85       0.84"
      ]
     },
     "execution_count": 177,
     "metadata": {},
     "output_type": "execute_result"
    }
   ],
   "source": [
    "metrics_df"
   ]
  },
  {
   "cell_type": "code",
   "execution_count": 178,
   "id": "5c6da967",
   "metadata": {},
   "outputs": [],
   "source": [
    "# import the regressor \n",
    "from sklearn.tree import DecisionTreeRegressor  \n",
    "  \n",
    "# create a regressor object \n",
    "DTregressor = DecisionTreeRegressor(random_state = 0)  \n",
    "  \n",
    "# fit the regressor with X and Y data \n",
    "DTregressor.fit(X_train, y_train) \n",
    "\n",
    "DT_y_pred = DTregressor.predict(X_test)"
   ]
  },
  {
   "cell_type": "code",
   "execution_count": 179,
   "id": "0dc5760b",
   "metadata": {},
   "outputs": [
    {
     "name": "stdout",
     "output_type": "stream",
     "text": [
      "\n",
      "Mean Absolute Error: 1429.2309529676347\n",
      "\n",
      "RMSE: 2111.932571952276\n",
      "\n",
      "R2 Squared - Score: 0.8967324450535938\n",
      "\n",
      "Training Score: 1.00\n",
      "\n",
      "Testing score: 0.90\n"
     ]
    }
   ],
   "source": [
    "m0 = 'Decision Tree'\n",
    "# Mean Absolute Error\n",
    "m1 = \"{:.2f}\".format(mean_absolute_error(y_test, DT_y_pred))\n",
    "print(\"\\nMean Absolute Error:\", mean_absolute_error(y_test, DT_y_pred))\n",
    "# RMSE\n",
    "m2 = mean_squared_error(y_test, DT_y_pred)**0.5\n",
    "print(\"\\nRMSE:\", mean_squared_error(y_test, DT_y_pred)**0.5)\n",
    "# R2 Squared:\n",
    "m3 = \"{:.2f}\".format(r2_score(y_test, DT_y_pred))\n",
    "print(\"\\nR2 Squared - Score:\", r2_score(y_test, DT_y_pred))\n",
    "# Training Score\n",
    "m4 = \"{:.2f}\".format(DTregressor.score(X_train, y_train))\n",
    "print(\"\\nTraining Score: %.2f\" % (DTregressor.score(X_train, y_train)))\n",
    "# Testing score\n",
    "m5 = \"{:.2f}\".format(DTregressor.score(X_test, y_test))\n",
    "print(\"\\nTesting score: %.2f\" % (DTregressor.score(X_test, y_test)))\n",
    "#print(y_pred)\n",
    "\n",
    "metrics_df.loc[1] = [m0,m1,m2,m3,m4,m5]"
   ]
  },
  {
   "cell_type": "code",
   "execution_count": 180,
   "id": "ba6d0b78",
   "metadata": {},
   "outputs": [
    {
     "data": {
      "text/html": [
       "<div>\n",
       "<style scoped>\n",
       "    .dataframe tbody tr th:only-of-type {\n",
       "        vertical-align: middle;\n",
       "    }\n",
       "\n",
       "    .dataframe tbody tr th {\n",
       "        vertical-align: top;\n",
       "    }\n",
       "\n",
       "    .dataframe thead th {\n",
       "        text-align: right;\n",
       "    }\n",
       "</style>\n",
       "<table border=\"1\" class=\"dataframe\">\n",
       "  <thead>\n",
       "    <tr style=\"text-align: right;\">\n",
       "      <th></th>\n",
       "      <th>Model</th>\n",
       "      <th>MAE</th>\n",
       "      <th>RMSE</th>\n",
       "      <th>R2_Score</th>\n",
       "      <th>Train Score</th>\n",
       "      <th>Test Score</th>\n",
       "    </tr>\n",
       "  </thead>\n",
       "  <tbody>\n",
       "    <tr>\n",
       "      <th>0</th>\n",
       "      <td>LinearRegression</td>\n",
       "      <td>2016.98</td>\n",
       "      <td>2626.855535</td>\n",
       "      <td>0.84</td>\n",
       "      <td>0.85</td>\n",
       "      <td>0.84</td>\n",
       "    </tr>\n",
       "    <tr>\n",
       "      <th>1</th>\n",
       "      <td>Decision Tree</td>\n",
       "      <td>1429.23</td>\n",
       "      <td>2111.932572</td>\n",
       "      <td>0.90</td>\n",
       "      <td>1.00</td>\n",
       "      <td>0.90</td>\n",
       "    </tr>\n",
       "  </tbody>\n",
       "</table>\n",
       "</div>"
      ],
      "text/plain": [
       "              Model      MAE         RMSE R2_Score Train Score Test Score\n",
       "0  LinearRegression  2016.98  2626.855535     0.84        0.85       0.84\n",
       "1     Decision Tree  1429.23  2111.932572     0.90        1.00       0.90"
      ]
     },
     "execution_count": 180,
     "metadata": {},
     "output_type": "execute_result"
    }
   ],
   "source": [
    "metrics_df"
   ]
  },
  {
   "cell_type": "code",
   "execution_count": 181,
   "id": "b2e71325",
   "metadata": {},
   "outputs": [],
   "source": [
    "from sklearn.ensemble import RandomForestRegressor\n",
    "\n",
    "RFregressor = RandomForestRegressor(max_depth=2, random_state=0)\n",
    "RFregressor.fit(X_train, y_train )\n",
    "\n",
    "RF_y_pred = RFregressor.predict(X_test)"
   ]
  },
  {
   "cell_type": "code",
   "execution_count": 182,
   "id": "0798290d",
   "metadata": {},
   "outputs": [
    {
     "name": "stdout",
     "output_type": "stream",
     "text": [
      "\n",
      "Mean Absolute Error: 3137.380069044974\n",
      "\n",
      "RMSE: 4004.0652234632093\n",
      "\n",
      "R2 Squared - Score: 0.62880160966338\n",
      "\n",
      "Training Score: 0.63\n",
      "\n",
      "Testing score: 0.63\n"
     ]
    }
   ],
   "source": [
    "m0 = 'Random Forest'\n",
    "# Mean Absolute Error\n",
    "m1 = \"{:.2f}\".format(mean_absolute_error(y_test, RF_y_pred))\n",
    "print(\"\\nMean Absolute Error:\", mean_absolute_error(y_test, RF_y_pred))\n",
    "# RMSE\n",
    "m2 = mean_squared_error(y_test, RF_y_pred)**0.5\n",
    "print(\"\\nRMSE:\", mean_squared_error(y_test, RF_y_pred)**0.5)\n",
    "# R2 Squared:\n",
    "m3 = \"{:.2f}\".format(r2_score(y_test, RF_y_pred))\n",
    "print(\"\\nR2 Squared - Score:\", r2_score(y_test, RF_y_pred))\n",
    "# Training Score\n",
    "m4 = \"{:.2f}\".format(RFregressor.score(X_train, y_train))\n",
    "print(\"\\nTraining Score: %.2f\" % (RFregressor.score(X_train, y_train)))\n",
    "# Testing score\n",
    "m5 = \"{:.2f}\".format(RFregressor.score(X_test, y_test))\n",
    "print(\"\\nTesting score: %.2f\" % (RFregressor.score(X_test, y_test)))\n",
    "#print(y_pred)\n",
    "\n",
    "metrics_df.loc[2] = [m0,m1,m2,m3,m4,m5]"
   ]
  },
  {
   "cell_type": "code",
   "execution_count": 183,
   "id": "3f966d2f",
   "metadata": {},
   "outputs": [
    {
     "data": {
      "text/html": [
       "<div>\n",
       "<style scoped>\n",
       "    .dataframe tbody tr th:only-of-type {\n",
       "        vertical-align: middle;\n",
       "    }\n",
       "\n",
       "    .dataframe tbody tr th {\n",
       "        vertical-align: top;\n",
       "    }\n",
       "\n",
       "    .dataframe thead th {\n",
       "        text-align: right;\n",
       "    }\n",
       "</style>\n",
       "<table border=\"1\" class=\"dataframe\">\n",
       "  <thead>\n",
       "    <tr style=\"text-align: right;\">\n",
       "      <th></th>\n",
       "      <th>Model</th>\n",
       "      <th>MAE</th>\n",
       "      <th>RMSE</th>\n",
       "      <th>R2_Score</th>\n",
       "      <th>Train Score</th>\n",
       "      <th>Test Score</th>\n",
       "    </tr>\n",
       "  </thead>\n",
       "  <tbody>\n",
       "    <tr>\n",
       "      <th>0</th>\n",
       "      <td>LinearRegression</td>\n",
       "      <td>2016.98</td>\n",
       "      <td>2626.855535</td>\n",
       "      <td>0.84</td>\n",
       "      <td>0.85</td>\n",
       "      <td>0.84</td>\n",
       "    </tr>\n",
       "    <tr>\n",
       "      <th>1</th>\n",
       "      <td>Decision Tree</td>\n",
       "      <td>1429.23</td>\n",
       "      <td>2111.932572</td>\n",
       "      <td>0.90</td>\n",
       "      <td>1.00</td>\n",
       "      <td>0.90</td>\n",
       "    </tr>\n",
       "    <tr>\n",
       "      <th>2</th>\n",
       "      <td>Random Forest</td>\n",
       "      <td>3137.38</td>\n",
       "      <td>4004.065223</td>\n",
       "      <td>0.63</td>\n",
       "      <td>0.63</td>\n",
       "      <td>0.63</td>\n",
       "    </tr>\n",
       "  </tbody>\n",
       "</table>\n",
       "</div>"
      ],
      "text/plain": [
       "              Model      MAE         RMSE R2_Score Train Score Test Score\n",
       "0  LinearRegression  2016.98  2626.855535     0.84        0.85       0.84\n",
       "1     Decision Tree  1429.23  2111.932572     0.90        1.00       0.90\n",
       "2     Random Forest  3137.38  4004.065223     0.63        0.63       0.63"
      ]
     },
     "execution_count": 183,
     "metadata": {},
     "output_type": "execute_result"
    }
   ],
   "source": [
    "metrics_df"
   ]
  },
  {
   "cell_type": "code",
   "execution_count": 184,
   "id": "c4161950",
   "metadata": {},
   "outputs": [],
   "source": [
    "from sklearn.ensemble import GradientBoostingRegressor\n",
    "\n",
    "GBregressor = GradientBoostingRegressor(random_state=0)\n",
    "GBregressor.fit(X_train, y_train)\n",
    "\n",
    "GB_y_pred = GBregressor.predict(X_test)"
   ]
  },
  {
   "cell_type": "code",
   "execution_count": 185,
   "id": "9deb1640",
   "metadata": {},
   "outputs": [
    {
     "name": "stdout",
     "output_type": "stream",
     "text": [
      "\n",
      "Mean Absolute Error: 1634.2306258721087\n",
      "\n",
      "RMSE: 2195.174021161269\n",
      "\n",
      "R2 Squared - Score: 0.8884314711167748\n",
      "\n",
      "Training Score: 0.89\n",
      "\n",
      "Testing score: 0.89\n"
     ]
    }
   ],
   "source": [
    "m0 = 'Gradient Boosting'\n",
    "# Mean Absolute Error\n",
    "m1 = \"{:.2f}\".format(mean_absolute_error(y_test, GB_y_pred))\n",
    "print(\"\\nMean Absolute Error:\", mean_absolute_error(y_test, GB_y_pred))\n",
    "# RMSE\n",
    "m2 = mean_squared_error(y_test, GB_y_pred)**0.5\n",
    "print(\"\\nRMSE:\", mean_squared_error(y_test, GB_y_pred)**0.5)\n",
    "# R2 Squared:\n",
    "m3 = \"{:.2f}\".format(r2_score(y_test, GB_y_pred))\n",
    "print(\"\\nR2 Squared - Score:\", r2_score(y_test, GB_y_pred))\n",
    "# Training Score\n",
    "m4 = \"{:.2f}\".format(GBregressor.score(X_train, y_train))\n",
    "print(\"\\nTraining Score: %.2f\" % (GBregressor.score(X_train, y_train)))\n",
    "# Testing score\n",
    "m5 = \"{:.2f}\".format(GBregressor.score(X_test, y_test))\n",
    "print(\"\\nTesting score: %.2f\" % (GBregressor.score(X_test, y_test)))\n",
    "#print(y_pred)\n",
    "\n",
    "metrics_df.loc[3] = [m0,m1,m2,m3,m4,m5]"
   ]
  },
  {
   "cell_type": "code",
   "execution_count": 186,
   "id": "3b2ac44a",
   "metadata": {},
   "outputs": [
    {
     "data": {
      "text/html": [
       "<div>\n",
       "<style scoped>\n",
       "    .dataframe tbody tr th:only-of-type {\n",
       "        vertical-align: middle;\n",
       "    }\n",
       "\n",
       "    .dataframe tbody tr th {\n",
       "        vertical-align: top;\n",
       "    }\n",
       "\n",
       "    .dataframe thead th {\n",
       "        text-align: right;\n",
       "    }\n",
       "</style>\n",
       "<table border=\"1\" class=\"dataframe\">\n",
       "  <thead>\n",
       "    <tr style=\"text-align: right;\">\n",
       "      <th></th>\n",
       "      <th>Model</th>\n",
       "      <th>MAE</th>\n",
       "      <th>RMSE</th>\n",
       "      <th>R2_Score</th>\n",
       "      <th>Train Score</th>\n",
       "      <th>Test Score</th>\n",
       "    </tr>\n",
       "  </thead>\n",
       "  <tbody>\n",
       "    <tr>\n",
       "      <th>0</th>\n",
       "      <td>LinearRegression</td>\n",
       "      <td>2016.98</td>\n",
       "      <td>2626.855535</td>\n",
       "      <td>0.84</td>\n",
       "      <td>0.85</td>\n",
       "      <td>0.84</td>\n",
       "    </tr>\n",
       "    <tr>\n",
       "      <th>1</th>\n",
       "      <td>Decision Tree</td>\n",
       "      <td>1429.23</td>\n",
       "      <td>2111.932572</td>\n",
       "      <td>0.90</td>\n",
       "      <td>1.00</td>\n",
       "      <td>0.90</td>\n",
       "    </tr>\n",
       "    <tr>\n",
       "      <th>2</th>\n",
       "      <td>Random Forest</td>\n",
       "      <td>3137.38</td>\n",
       "      <td>4004.065223</td>\n",
       "      <td>0.63</td>\n",
       "      <td>0.63</td>\n",
       "      <td>0.63</td>\n",
       "    </tr>\n",
       "    <tr>\n",
       "      <th>3</th>\n",
       "      <td>Gradient Boosting</td>\n",
       "      <td>1634.23</td>\n",
       "      <td>2195.174021</td>\n",
       "      <td>0.89</td>\n",
       "      <td>0.89</td>\n",
       "      <td>0.89</td>\n",
       "    </tr>\n",
       "  </tbody>\n",
       "</table>\n",
       "</div>"
      ],
      "text/plain": [
       "               Model      MAE         RMSE R2_Score Train Score Test Score\n",
       "0   LinearRegression  2016.98  2626.855535     0.84        0.85       0.84\n",
       "1      Decision Tree  1429.23  2111.932572     0.90        1.00       0.90\n",
       "2      Random Forest  3137.38  4004.065223     0.63        0.63       0.63\n",
       "3  Gradient Boosting  1634.23  2195.174021     0.89        0.89       0.89"
      ]
     },
     "execution_count": 186,
     "metadata": {},
     "output_type": "execute_result"
    }
   ],
   "source": [
    "metrics_df"
   ]
  },
  {
   "cell_type": "code",
   "execution_count": 187,
   "id": "af568b0d",
   "metadata": {},
   "outputs": [
    {
     "name": "stdout",
     "output_type": "stream",
     "text": [
      "<class 'pandas.core.frame.DataFrame'>\n",
      "Int64Index: 4 entries, 0 to 3\n",
      "Data columns (total 6 columns):\n",
      " #   Column       Non-Null Count  Dtype  \n",
      "---  ------       --------------  -----  \n",
      " 0   Model        4 non-null      object \n",
      " 1   MAE          4 non-null      object \n",
      " 2   RMSE         4 non-null      float64\n",
      " 3   R2_Score     4 non-null      object \n",
      " 4   Train Score  4 non-null      object \n",
      " 5   Test Score   4 non-null      object \n",
      "dtypes: float64(1), object(5)\n",
      "memory usage: 224.0+ bytes\n"
     ]
    }
   ],
   "source": [
    "metrics_df.info()"
   ]
  },
  {
   "cell_type": "code",
   "execution_count": 188,
   "id": "b3a31fae",
   "metadata": {},
   "outputs": [],
   "source": [
    "metrics_df['R2_Score'] = metrics_df['R2_Score'].astype('float64')\n",
    "metrics_df['MAE'] = metrics_df['MAE'].astype('float64')\n",
    "metrics_df['RMSE'] = metrics_df['RMSE'].astype('float64')\n",
    "metrics_df['Train Score'] = metrics_df['Train Score'].astype('float64')\n",
    "metrics_df['Test Score'] = metrics_df['Test Score'].astype('float64')\n"
   ]
  },
  {
   "cell_type": "code",
   "execution_count": 189,
   "id": "05416a59",
   "metadata": {},
   "outputs": [
    {
     "name": "stdout",
     "output_type": "stream",
     "text": [
      "<class 'pandas.core.frame.DataFrame'>\n",
      "Int64Index: 4 entries, 0 to 3\n",
      "Data columns (total 6 columns):\n",
      " #   Column       Non-Null Count  Dtype  \n",
      "---  ------       --------------  -----  \n",
      " 0   Model        4 non-null      object \n",
      " 1   MAE          4 non-null      float64\n",
      " 2   RMSE         4 non-null      float64\n",
      " 3   R2_Score     4 non-null      float64\n",
      " 4   Train Score  4 non-null      float64\n",
      " 5   Test Score   4 non-null      float64\n",
      "dtypes: float64(5), object(1)\n",
      "memory usage: 224.0+ bytes\n"
     ]
    }
   ],
   "source": [
    "metrics_df.info()"
   ]
  },
  {
   "cell_type": "code",
   "execution_count": 190,
   "id": "b972b53e",
   "metadata": {},
   "outputs": [
    {
     "data": {
      "text/plain": [
       "(array([0, 1, 2, 3]),\n",
       " [Text(0, 0, 'LinearRegression'),\n",
       "  Text(1, 0, 'Decision Tree'),\n",
       "  Text(2, 0, 'Random Forest'),\n",
       "  Text(3, 0, 'Gradient Boosting')])"
      ]
     },
     "execution_count": 190,
     "metadata": {},
     "output_type": "execute_result"
    },
    {
     "data": {
      "image/png": "[encoded data removed]",
      "text/plain": [
       "<Figure size 432x288 with 1 Axes>"
      ]
     },
     "metadata": {
      "needs_background": "light"
     },
     "output_type": "display_data"
    }
   ],
   "source": [
    "sns.pointplot(x='Model',y='R2_Score',data=metrics_df)\n",
    "plt.xticks(rotation = 45)"
   ]
  },
  {
   "cell_type": "code",
   "execution_count": 191,
   "id": "2467fcd3",
   "metadata": {},
   "outputs": [
    {
     "data": {
      "text/plain": [
       "(array([0, 1, 2, 3]),\n",
       " [Text(0, 0, 'LinearRegression'),\n",
       "  Text(1, 0, 'Decision Tree'),\n",
       "  Text(2, 0, 'Random Forest'),\n",
       "  Text(3, 0, 'Gradient Boosting')])"
      ]
     },
     "execution_count": 191,
     "metadata": {},
     "output_type": "execute_result"
    },
    {
     "data": {
      "image/png": "[encoded data removed]",
      "text/plain": [
       "<Figure size 432x288 with 1 Axes>"
      ]
     },
     "metadata": {
      "needs_background": "light"
     },
     "output_type": "display_data"
    }
   ],
   "source": [
    "sns.pointplot(x='Model',y='MAE',data=metrics_df)\n",
    "plt.xticks(rotation = 45)"
   ]
  },
  {
   "cell_type": "code",
   "execution_count": 192,
   "id": "64587dff",
   "metadata": {},
   "outputs": [
    {
     "data": {
      "text/plain": [
       "(array([0, 1, 2, 3]),\n",
       " [Text(0, 0, 'LinearRegression'),\n",
       "  Text(1, 0, 'Decision Tree'),\n",
       "  Text(2, 0, 'Random Forest'),\n",
       "  Text(3, 0, 'Gradient Boosting')])"
      ]
     },
     "execution_count": 192,
     "metadata": {},
     "output_type": "execute_result"
    },
    {
     "data": {
      "image/png": "[encoded data removed]",
      "text/plain": [
       "<Figure size 432x288 with 1 Axes>"
      ]
     },
     "metadata": {
      "needs_background": "light"
     },
     "output_type": "display_data"
    }
   ],
   "source": [
    "sns.pointplot(x='Model',y='RMSE',data=metrics_df)\n",
    "plt.xticks(rotation = 45)"
   ]
  },
  {
   "cell_type": "code",
   "execution_count": 193,
   "id": "ead82796",
   "metadata": {},
   "outputs": [
    {
     "data": {
      "text/plain": [
       "(array([0, 1, 2, 3]),\n",
       " [Text(0, 0, 'LinearRegression'),\n",
       "  Text(1, 0, 'Decision Tree'),\n",
       "  Text(2, 0, 'Random Forest'),\n",
       "  Text(3, 0, 'Gradient Boosting')])"
      ]
     },
     "execution_count": 193,
     "metadata": {},
     "output_type": "execute_result"
    },
    {
     "data": {
      "image/png": "[encoded data removed]",
      "text/plain": [
       "<Figure size 432x288 with 1 Axes>"
      ]
     },
     "metadata": {
      "needs_background": "light"
     },
     "output_type": "display_data"
    }
   ],
   "source": [
    "sns.pointplot(x='Model',y='Test Score',data=metrics_df)\n",
    "plt.xticks(rotation = 45)"
   ]
  },
  {
   "cell_type": "code",
   "execution_count": 194,
   "id": "a616e23a",
   "metadata": {},
   "outputs": [
    {
     "data": {
      "text/plain": [
       "(array([0, 1, 2, 3]),\n",
       " [Text(0, 0, 'LinearRegression'),\n",
       "  Text(1, 0, 'Decision Tree'),\n",
       "  Text(2, 0, 'Random Forest'),\n",
       "  Text(3, 0, 'Gradient Boosting')])"
      ]
     },
     "execution_count": 194,
     "metadata": {},
     "output_type": "execute_result"
    },
    {
     "data": {
      "image/png": "[encoded data removed]",
      "text/plain": [
       "<Figure size 432x288 with 1 Axes>"
      ]
     },
     "metadata": {
      "needs_background": "light"
     },
     "output_type": "display_data"
    }
   ],
   "source": [
    "sns.pointplot(x='Model',y='Train Score',data=metrics_df)\n",
    "plt.xticks(rotation = 45)"
   ]
  },
  {
   "cell_type": "code",
   "execution_count": null,
   "id": "21488c93",
   "metadata": {},
   "outputs": [],
   "source": []
  },
  {
   "cell_type": "code",
   "execution_count": null,
   "id": "b498ec42",
   "metadata": {},
   "outputs": [],
   "source": []
  },
  {
   "cell_type": "code",
   "execution_count": null,
   "id": "8fa1df3c",
   "metadata": {},
   "outputs": [],
   "source": []
  },
  {
   "cell_type": "code",
   "execution_count": 195,
   "id": "050cf538",
   "metadata": {},
   "outputs": [],
   "source": [
    "import pickle\n",
    "file = open(\"file_2.pkl\", \"wb\")\n",
    "pickle.dump(GBregressor, file)"
   ]
  },
  {
   "cell_type": "code",
   "execution_count": 198,
   "id": "300385dc",
   "metadata": {},
   "outputs": [],
   "source": [
    "model = pickle.load(open(\"file_2.pkl\", \"rb\"))"
   ]
  },
  {
   "cell_type": "code",
   "execution_count": 199,
   "id": "8c95db9f",
   "metadata": {},
   "outputs": [],
   "source": [
    "y_pred = model.predict(X_test)"
   ]
  },
  {
   "cell_type": "code",
   "execution_count": 200,
   "id": "a25fd05d",
   "metadata": {},
   "outputs": [
    {
     "data": {
      "text/plain": [
       "array([16572.38059028, 11748.407553  , 28244.67050991, ...,\n",
       "       26561.21681812,  7869.73540135, 11362.31147024])"
      ]
     },
     "execution_count": 200,
     "metadata": {},
     "output_type": "execute_result"
    }
   ],
   "source": [
    "y_pred"
   ]
  },
  {
   "cell_type": "code",
   "execution_count": 202,
   "id": "2141ea28",
   "metadata": {},
   "outputs": [
    {
     "data": {
      "text/plain": [
       "Index(['year', 'price', 'mileage', 'tax', 'mpg', 'engineSize',\n",
       "       'transmission_Automatic', 'transmission_Manual', 'transmission_Other',\n",
       "       'transmission_Semi-Auto', 'fuelType_Diesel', 'fuelType_Electric',\n",
       "       'fuelType_Hybrid', 'fuelType_Other', 'fuelType_Petrol', 'Make_BMW',\n",
       "       'Make_Ford', 'Make_Hyundai', 'Make_audi', 'Make_skoda', 'Make_toyota',\n",
       "       'Make_vw'],\n",
       "      dtype='object')"
      ]
     },
     "execution_count": 202,
     "metadata": {},
     "output_type": "execute_result"
    }
   ],
   "source": [
    "car_final.columns"
   ]
  },
  {
   "cell_type": "code",
   "execution_count": 203,
   "id": "a9f00016",
   "metadata": {},
   "outputs": [
    {
     "data": {
      "text/plain": [
       "['year',\n",
       " 'mileage',\n",
       " 'tax',\n",
       " 'mpg',\n",
       " 'engineSize',\n",
       " 'transmission_Automatic',\n",
       " 'transmission_Manual',\n",
       " 'transmission_Other',\n",
       " 'transmission_Semi-Auto',\n",
       " 'fuelType_Diesel',\n",
       " 'fuelType_Electric',\n",
       " 'fuelType_Hybrid',\n",
       " 'fuelType_Other',\n",
       " 'fuelType_Petrol',\n",
       " 'Make_BMW',\n",
       " 'Make_Ford',\n",
       " 'Make_Hyundai',\n",
       " 'Make_audi',\n",
       " 'Make_skoda',\n",
       " 'Make_toyota',\n",
       " 'Make_vw']"
      ]
     },
     "execution_count": 203,
     "metadata": {},
     "output_type": "execute_result"
    }
   ],
   "source": [
    "features"
   ]
  },
  {
   "cell_type": "code",
   "execution_count": 204,
   "id": "8d4e9b41",
   "metadata": {},
   "outputs": [
    {
     "data": {
      "text/html": [
       "<div>\n",
       "<style scoped>\n",
       "    .dataframe tbody tr th:only-of-type {\n",
       "        vertical-align: middle;\n",
       "    }\n",
       "\n",
       "    .dataframe tbody tr th {\n",
       "        vertical-align: top;\n",
       "    }\n",
       "\n",
       "    .dataframe thead th {\n",
       "        text-align: right;\n",
       "    }\n",
       "</style>\n",
       "<table border=\"1\" class=\"dataframe\">\n",
       "  <thead>\n",
       "    <tr style=\"text-align: right;\">\n",
       "      <th></th>\n",
       "      <th>year</th>\n",
       "      <th>price</th>\n",
       "      <th>mileage</th>\n",
       "      <th>tax</th>\n",
       "      <th>mpg</th>\n",
       "      <th>engineSize</th>\n",
       "      <th>transmission_Automatic</th>\n",
       "      <th>transmission_Manual</th>\n",
       "      <th>transmission_Other</th>\n",
       "      <th>transmission_Semi-Auto</th>\n",
       "      <th>...</th>\n",
       "      <th>fuelType_Hybrid</th>\n",
       "      <th>fuelType_Other</th>\n",
       "      <th>fuelType_Petrol</th>\n",
       "      <th>Make_BMW</th>\n",
       "      <th>Make_Ford</th>\n",
       "      <th>Make_Hyundai</th>\n",
       "      <th>Make_audi</th>\n",
       "      <th>Make_skoda</th>\n",
       "      <th>Make_toyota</th>\n",
       "      <th>Make_vw</th>\n",
       "    </tr>\n",
       "  </thead>\n",
       "  <tbody>\n",
       "    <tr>\n",
       "      <th>0</th>\n",
       "      <td>2017</td>\n",
       "      <td>12500</td>\n",
       "      <td>15735</td>\n",
       "      <td>150.0</td>\n",
       "      <td>55.4</td>\n",
       "      <td>1.4</td>\n",
       "      <td>0</td>\n",
       "      <td>1</td>\n",
       "      <td>0</td>\n",
       "      <td>0</td>\n",
       "      <td>...</td>\n",
       "      <td>0</td>\n",
       "      <td>0</td>\n",
       "      <td>1</td>\n",
       "      <td>0</td>\n",
       "      <td>0</td>\n",
       "      <td>0</td>\n",
       "      <td>1</td>\n",
       "      <td>0</td>\n",
       "      <td>0</td>\n",
       "      <td>0</td>\n",
       "    </tr>\n",
       "  </tbody>\n",
       "</table>\n",
       "<p>1 rows × 22 columns</p>\n",
       "</div>"
      ],
      "text/plain": [
       "   year  price  mileage    tax   mpg  engineSize  transmission_Automatic  \\\n",
       "0  2017  12500    15735  150.0  55.4         1.4                       0   \n",
       "\n",
       "   transmission_Manual  transmission_Other  transmission_Semi-Auto  ...  \\\n",
       "0                    1                   0                       0  ...   \n",
       "\n",
       "   fuelType_Hybrid  fuelType_Other  fuelType_Petrol  Make_BMW  Make_Ford  \\\n",
       "0                0               0                1         0          0   \n",
       "\n",
       "   Make_Hyundai  Make_audi  Make_skoda  Make_toyota  Make_vw  \n",
       "0             0          1           0            0        0  \n",
       "\n",
       "[1 rows x 22 columns]"
      ]
     },
     "execution_count": 204,
     "metadata": {},
     "output_type": "execute_result"
    }
   ],
   "source": [
    "car_final.head(1)"
   ]
  },
  {
   "cell_type": "code",
   "execution_count": 206,
   "id": "02b54fd2",
   "metadata": {},
   "outputs": [],
   "source": [
    "year = 2010\n",
    "mileage = 15735\n",
    "tax = 150\n",
    "mpg = 55.4\n",
    "engineSize = 1.4\n",
    "transmission_Automatic = 0\n",
    "transmission_Manual = 1\n",
    "transmission_Other = 0 \n",
    "transmission_Semi_Auto = 0\n",
    "fuelType_Diesel = 0\n",
    "fuelType_Electric = 0\n",
    "fuelType_Hybrid = 0\n",
    "fuelType_Other = 0\n",
    "fuelType_Petrol = 1\n",
    "Make_BMW = 0\n",
    "Make_Ford = 1\n",
    "Make_Hyundai = 0\n",
    "Make_audi = 0\n",
    "Make_skoda = 0\n",
    "Make_toyota = 0\n",
    "Make_vw = 1"
   ]
  },
  {
   "cell_type": "code",
   "execution_count": 207,
   "id": "17f03d52",
   "metadata": {},
   "outputs": [],
   "source": [
    "values = [year,\n",
    " mileage,\n",
    " tax,\n",
    " mpg,\n",
    " engineSize,\n",
    " transmission_Automatic,\n",
    " transmission_Manual,\n",
    " transmission_Other,\n",
    " transmission_Semi_Auto,\n",
    " fuelType_Diesel,\n",
    " fuelType_Electric,\n",
    " fuelType_Hybrid,\n",
    " fuelType_Other,\n",
    " fuelType_Petrol,\n",
    " Make_BMW,\n",
    " Make_Ford,\n",
    " Make_Hyundai,\n",
    " Make_audi,\n",
    " Make_skoda,\n",
    " Make_toyota,\n",
    " Make_vw]"
   ]
  },
  {
   "cell_type": "code",
   "execution_count": 208,
   "id": "74a64478",
   "metadata": {},
   "outputs": [
    {
     "data": {
      "text/plain": [
       "[2010, 15735, 150, 55.4, 1.4, 0, 1, 0, 0, 0, 0, 0, 0, 1, 0, 1, 0, 0, 0, 0, 1]"
      ]
     },
     "execution_count": 208,
     "metadata": {},
     "output_type": "execute_result"
    }
   ],
   "source": [
    "values"
   ]
  },
  {
   "cell_type": "code",
   "execution_count": 210,
   "id": "b22dd28b",
   "metadata": {},
   "outputs": [],
   "source": [
    "pred = model.predict([values])"
   ]
  },
  {
   "cell_type": "code",
   "execution_count": 211,
   "id": "085ad3d1",
   "metadata": {},
   "outputs": [
    {
     "data": {
      "text/plain": [
       "array([18106.92235413])"
      ]
     },
     "execution_count": 211,
     "metadata": {},
     "output_type": "execute_result"
    }
   ],
   "source": [
    "pred"
   ]
  },
  {
   "cell_type": "code",
   "execution_count": null,
   "id": "ccb17297",
   "metadata": {},
   "outputs": [],
   "source": []
  }
 ],
 "metadata": {
  "kernelspec": {
   "display_name": "Python 3 (ipykernel)",
   "language": "python",
   "name": "python3"
  },
  "language_info": {
   "codemirror_mode": {
    "name": "ipython",
    "version": 3
   },
   "file_extension": ".py",
   "mimetype": "text/x-python",
   "name": "python",
   "nbconvert_exporter": "python",
   "pygments_lexer": "ipython3",
   "version": "3.8.11"
  }
 },
 "nbformat": 4,
 "nbformat_minor": 5
}
