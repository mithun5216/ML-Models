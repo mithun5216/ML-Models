{
 "cells": [
  {
   "cell_type": "code",
   "execution_count": 90,
   "id": "awful-congo",
   "metadata": {},
   "outputs": [],
   "source": [
    "import pandas as pd\n",
    "import numpy as np\n",
    "import seaborn as sns\n",
    "import matplotlib.pyplot as plt\n",
    "sns.set_style(\"whitegrid\")\n",
    "\n",
    "from sklearn.linear_model import LinearRegression\n",
    "from sklearn.preprocessing import StandardScaler\n",
    "from sklearn.metrics import mean_squared_error,r2_score,mean_absolute_error\n",
    "from sklearn.model_selection import learning_curve,train_test_split\n",
    "\n",
    "from sklearn.preprocessing import PolynomialFeatures\n",
    "from sklearn import linear_model\n",
    "from sklearn.model_selection import cross_val_score\n",
    "from sklearn.model_selection import KFold"
   ]
  },
  {
   "cell_type": "code",
   "execution_count": 91,
   "id": "changed-event",
   "metadata": {},
   "outputs": [],
   "source": [
    "cpp = pd.read_csv(\"cars_dataset.csv\")"
   ]
  },
  {
   "cell_type": "code",
   "execution_count": 92,
   "id": "quarterly-style",
   "metadata": {},
   "outputs": [
    {
     "data": {
      "text/plain": [
       "(72435, 10)"
      ]
     },
     "execution_count": 92,
     "metadata": {},
     "output_type": "execute_result"
    }
   ],
   "source": [
    "cpp.shape"
   ]
  },
  {
   "cell_type": "code",
   "execution_count": 93,
   "id": "attractive-differential",
   "metadata": {},
   "outputs": [],
   "source": [
    "cpp = cpp.sample(frac = 0.7,axis=0)"
   ]
  },
  {
   "cell_type": "code",
   "execution_count": 94,
   "id": "interpreted-grain",
   "metadata": {},
   "outputs": [
    {
     "data": {
      "text/plain": [
       "(50704, 10)"
      ]
     },
     "execution_count": 94,
     "metadata": {},
     "output_type": "execute_result"
    }
   ],
   "source": [
    "cpp.shape"
   ]
  },
  {
   "cell_type": "code",
   "execution_count": 95,
   "id": "speaking-elevation",
   "metadata": {},
   "outputs": [
    {
     "data": {
      "text/html": [
       "<div>\n",
       "<style scoped>\n",
       "    .dataframe tbody tr th:only-of-type {\n",
       "        vertical-align: middle;\n",
       "    }\n",
       "\n",
       "    .dataframe tbody tr th {\n",
       "        vertical-align: top;\n",
       "    }\n",
       "\n",
       "    .dataframe thead th {\n",
       "        text-align: right;\n",
       "    }\n",
       "</style>\n",
       "<table border=\"1\" class=\"dataframe\">\n",
       "  <thead>\n",
       "    <tr style=\"text-align: right;\">\n",
       "      <th></th>\n",
       "      <th>model</th>\n",
       "      <th>year</th>\n",
       "      <th>price</th>\n",
       "      <th>transmission</th>\n",
       "      <th>mileage</th>\n",
       "      <th>fuelType</th>\n",
       "      <th>tax</th>\n",
       "      <th>mpg</th>\n",
       "      <th>engineSize</th>\n",
       "      <th>Make</th>\n",
       "    </tr>\n",
       "  </thead>\n",
       "  <tbody>\n",
       "    <tr>\n",
       "      <th>6288</th>\n",
       "      <td>A3</td>\n",
       "      <td>2020</td>\n",
       "      <td>26500</td>\n",
       "      <td>Manual</td>\n",
       "      <td>1500</td>\n",
       "      <td>Diesel</td>\n",
       "      <td>145.0</td>\n",
       "      <td>55.4</td>\n",
       "      <td>2.0</td>\n",
       "      <td>audi</td>\n",
       "    </tr>\n",
       "    <tr>\n",
       "      <th>38878</th>\n",
       "      <td>Mondeo</td>\n",
       "      <td>2015</td>\n",
       "      <td>7495</td>\n",
       "      <td>Manual</td>\n",
       "      <td>82535</td>\n",
       "      <td>Diesel</td>\n",
       "      <td>0.0</td>\n",
       "      <td>74.3</td>\n",
       "      <td>2.0</td>\n",
       "      <td>Ford</td>\n",
       "    </tr>\n",
       "    <tr>\n",
       "      <th>38107</th>\n",
       "      <td>C-MAX</td>\n",
       "      <td>2007</td>\n",
       "      <td>1995</td>\n",
       "      <td>Manual</td>\n",
       "      <td>1995</td>\n",
       "      <td>Petrol</td>\n",
       "      <td>240.0</td>\n",
       "      <td>39.8</td>\n",
       "      <td>1.8</td>\n",
       "      <td>Ford</td>\n",
       "    </tr>\n",
       "    <tr>\n",
       "      <th>54716</th>\n",
       "      <td>Corolla</td>\n",
       "      <td>2019</td>\n",
       "      <td>18495</td>\n",
       "      <td>Manual</td>\n",
       "      <td>4774</td>\n",
       "      <td>Petrol</td>\n",
       "      <td>145.0</td>\n",
       "      <td>39.2</td>\n",
       "      <td>1.2</td>\n",
       "      <td>toyota</td>\n",
       "    </tr>\n",
       "    <tr>\n",
       "      <th>33919</th>\n",
       "      <td>Fiesta</td>\n",
       "      <td>2019</td>\n",
       "      <td>15000</td>\n",
       "      <td>Manual</td>\n",
       "      <td>3202</td>\n",
       "      <td>Petrol</td>\n",
       "      <td>145.0</td>\n",
       "      <td>60.1</td>\n",
       "      <td>1.0</td>\n",
       "      <td>Ford</td>\n",
       "    </tr>\n",
       "  </tbody>\n",
       "</table>\n",
       "</div>"
      ],
      "text/plain": [
       "          model  year  price transmission  mileage fuelType    tax   mpg  \\\n",
       "6288         A3  2020  26500       Manual     1500   Diesel  145.0  55.4   \n",
       "38878    Mondeo  2015   7495       Manual    82535   Diesel    0.0  74.3   \n",
       "38107     C-MAX  2007   1995       Manual     1995   Petrol  240.0  39.8   \n",
       "54716   Corolla  2019  18495       Manual     4774   Petrol  145.0  39.2   \n",
       "33919    Fiesta  2019  15000       Manual     3202   Petrol  145.0  60.1   \n",
       "\n",
       "       engineSize    Make  \n",
       "6288          2.0    audi  \n",
       "38878         2.0    Ford  \n",
       "38107         1.8    Ford  \n",
       "54716         1.2  toyota  \n",
       "33919         1.0    Ford  "
      ]
     },
     "execution_count": 95,
     "metadata": {},
     "output_type": "execute_result"
    }
   ],
   "source": [
    "cpp.head()"
   ]
  },
  {
   "cell_type": "code",
   "execution_count": 96,
   "id": "valuable-habitat",
   "metadata": {},
   "outputs": [
    {
     "name": "stdout",
     "output_type": "stream",
     "text": [
      "<class 'pandas.core.frame.DataFrame'>\n",
      "Int64Index: 50704 entries, 6288 to 49921\n",
      "Data columns (total 10 columns):\n",
      " #   Column        Non-Null Count  Dtype  \n",
      "---  ------        --------------  -----  \n",
      " 0   model         50704 non-null  object \n",
      " 1   year          50704 non-null  int64  \n",
      " 2   price         50704 non-null  int64  \n",
      " 3   transmission  50704 non-null  object \n",
      " 4   mileage       50704 non-null  int64  \n",
      " 5   fuelType      50704 non-null  object \n",
      " 6   tax           50704 non-null  float64\n",
      " 7   mpg           50704 non-null  float64\n",
      " 8   engineSize    50704 non-null  float64\n",
      " 9   Make          50704 non-null  object \n",
      "dtypes: float64(3), int64(3), object(4)\n",
      "memory usage: 4.3+ MB\n"
     ]
    }
   ],
   "source": [
    "cpp.info()"
   ]
  },
  {
   "cell_type": "code",
   "execution_count": 97,
   "id": "rolled-nevada",
   "metadata": {},
   "outputs": [
    {
     "data": {
      "text/html": [
       "<div>\n",
       "<style scoped>\n",
       "    .dataframe tbody tr th:only-of-type {\n",
       "        vertical-align: middle;\n",
       "    }\n",
       "\n",
       "    .dataframe tbody tr th {\n",
       "        vertical-align: top;\n",
       "    }\n",
       "\n",
       "    .dataframe thead th {\n",
       "        text-align: right;\n",
       "    }\n",
       "</style>\n",
       "<table border=\"1\" class=\"dataframe\">\n",
       "  <thead>\n",
       "    <tr style=\"text-align: right;\">\n",
       "      <th></th>\n",
       "      <th>year</th>\n",
       "      <th>price</th>\n",
       "      <th>mileage</th>\n",
       "      <th>tax</th>\n",
       "      <th>mpg</th>\n",
       "      <th>engineSize</th>\n",
       "    </tr>\n",
       "  </thead>\n",
       "  <tbody>\n",
       "    <tr>\n",
       "      <th>count</th>\n",
       "      <td>50704.000000</td>\n",
       "      <td>50704.000000</td>\n",
       "      <td>50704.000000</td>\n",
       "      <td>50704.000000</td>\n",
       "      <td>50704.000000</td>\n",
       "      <td>50704.000000</td>\n",
       "    </tr>\n",
       "    <tr>\n",
       "      <th>mean</th>\n",
       "      <td>2017.076444</td>\n",
       "      <td>16595.513451</td>\n",
       "      <td>23188.385315</td>\n",
       "      <td>117.085043</td>\n",
       "      <td>55.843924</td>\n",
       "      <td>1.636033</td>\n",
       "    </tr>\n",
       "    <tr>\n",
       "      <th>std</th>\n",
       "      <td>2.088272</td>\n",
       "      <td>9308.949800</td>\n",
       "      <td>21241.862125</td>\n",
       "      <td>63.943331</td>\n",
       "      <td>17.409920</td>\n",
       "      <td>0.560224</td>\n",
       "    </tr>\n",
       "    <tr>\n",
       "      <th>min</th>\n",
       "      <td>1996.000000</td>\n",
       "      <td>495.000000</td>\n",
       "      <td>1.000000</td>\n",
       "      <td>0.000000</td>\n",
       "      <td>0.300000</td>\n",
       "      <td>0.000000</td>\n",
       "    </tr>\n",
       "    <tr>\n",
       "      <th>25%</th>\n",
       "      <td>2016.000000</td>\n",
       "      <td>10195.000000</td>\n",
       "      <td>7269.000000</td>\n",
       "      <td>30.000000</td>\n",
       "      <td>47.900000</td>\n",
       "      <td>1.200000</td>\n",
       "    </tr>\n",
       "    <tr>\n",
       "      <th>50%</th>\n",
       "      <td>2017.000000</td>\n",
       "      <td>14495.000000</td>\n",
       "      <td>17631.500000</td>\n",
       "      <td>145.000000</td>\n",
       "      <td>55.400000</td>\n",
       "      <td>1.600000</td>\n",
       "    </tr>\n",
       "    <tr>\n",
       "      <th>75%</th>\n",
       "      <td>2019.000000</td>\n",
       "      <td>20391.000000</td>\n",
       "      <td>32500.000000</td>\n",
       "      <td>145.000000</td>\n",
       "      <td>62.800000</td>\n",
       "      <td>2.000000</td>\n",
       "    </tr>\n",
       "    <tr>\n",
       "      <th>max</th>\n",
       "      <td>2020.000000</td>\n",
       "      <td>137995.000000</td>\n",
       "      <td>323000.000000</td>\n",
       "      <td>580.000000</td>\n",
       "      <td>470.800000</td>\n",
       "      <td>6.600000</td>\n",
       "    </tr>\n",
       "  </tbody>\n",
       "</table>\n",
       "</div>"
      ],
      "text/plain": [
       "               year          price        mileage           tax           mpg  \\\n",
       "count  50704.000000   50704.000000   50704.000000  50704.000000  50704.000000   \n",
       "mean    2017.076444   16595.513451   23188.385315    117.085043     55.843924   \n",
       "std        2.088272    9308.949800   21241.862125     63.943331     17.409920   \n",
       "min     1996.000000     495.000000       1.000000      0.000000      0.300000   \n",
       "25%     2016.000000   10195.000000    7269.000000     30.000000     47.900000   \n",
       "50%     2017.000000   14495.000000   17631.500000    145.000000     55.400000   \n",
       "75%     2019.000000   20391.000000   32500.000000    145.000000     62.800000   \n",
       "max     2020.000000  137995.000000  323000.000000    580.000000    470.800000   \n",
       "\n",
       "         engineSize  \n",
       "count  50704.000000  \n",
       "mean       1.636033  \n",
       "std        0.560224  \n",
       "min        0.000000  \n",
       "25%        1.200000  \n",
       "50%        1.600000  \n",
       "75%        2.000000  \n",
       "max        6.600000  "
      ]
     },
     "execution_count": 97,
     "metadata": {},
     "output_type": "execute_result"
    }
   ],
   "source": [
    "cpp.describe()"
   ]
  },
  {
   "cell_type": "code",
   "execution_count": 98,
   "id": "double-williams",
   "metadata": {},
   "outputs": [
    {
     "data": {
      "text/plain": [
       "(50704, 10)"
      ]
     },
     "execution_count": 98,
     "metadata": {},
     "output_type": "execute_result"
    }
   ],
   "source": [
    "cpp.shape"
   ]
  },
  {
   "cell_type": "code",
   "execution_count": 99,
   "id": "incorporated-clock",
   "metadata": {},
   "outputs": [
    {
     "data": {
      "text/plain": [
       "Ford       12556\n",
       "vw         10558\n",
       "BMW         7564\n",
       "audi        7504\n",
       "toyota      4742\n",
       "skoda       4387\n",
       "Hyundai     3393\n",
       "Name: Make, dtype: int64"
      ]
     },
     "execution_count": 99,
     "metadata": {},
     "output_type": "execute_result"
    }
   ],
   "source": [
    "cpp['Make'].value_counts()"
   ]
  },
  {
   "cell_type": "code",
   "execution_count": 100,
   "id": "electrical-lobby",
   "metadata": {},
   "outputs": [
    {
     "data": {
      "text/plain": [
       "model             144\n",
       "year               25\n",
       "price            8522\n",
       "transmission        4\n",
       "mileage         28729\n",
       "fuelType            5\n",
       "tax                45\n",
       "mpg               171\n",
       "engineSize         30\n",
       "Make                7\n",
       "dtype: int64"
      ]
     },
     "execution_count": 100,
     "metadata": {},
     "output_type": "execute_result"
    }
   ],
   "source": [
    "cpp.nunique()"
   ]
  },
  {
   "cell_type": "markdown",
   "id": "acting-diesel",
   "metadata": {},
   "source": [
    "## Univariate Analysis"
   ]
  },
  {
   "cell_type": "code",
   "execution_count": 101,
   "id": "furnished-conducting",
   "metadata": {},
   "outputs": [],
   "source": [
    "#sns.displot(cpp['year'])"
   ]
  },
  {
   "cell_type": "code",
   "execution_count": 102,
   "id": "operational-diamond",
   "metadata": {},
   "outputs": [],
   "source": [
    "#cpp[cpp['year']<2010].count()"
   ]
  },
  {
   "cell_type": "raw",
   "id": "micro-architect",
   "metadata": {},
   "source": [
    "Obs: Looks like the year column has outlier and is not normally distributed."
   ]
  },
  {
   "cell_type": "code",
   "execution_count": 103,
   "id": "accepted-league",
   "metadata": {},
   "outputs": [],
   "source": [
    "#sns.displot(data=cpp['price'])"
   ]
  },
  {
   "cell_type": "raw",
   "id": "corresponding-hawaii",
   "metadata": {},
   "source": [
    "obs: Our Target column is left skewed and outlier has to be removed"
   ]
  },
  {
   "cell_type": "code",
   "execution_count": 104,
   "id": "residential-berry",
   "metadata": {},
   "outputs": [],
   "source": [
    "#sns.displot(data=cpp['mileage'])"
   ]
  },
  {
   "cell_type": "raw",
   "id": "adjustable-controversy",
   "metadata": {},
   "source": [
    "obs: Even our mileage column has outliers and has to be removed"
   ]
  },
  {
   "cell_type": "code",
   "execution_count": 105,
   "id": "second-washer",
   "metadata": {},
   "outputs": [],
   "source": [
    "#sns.displot(data=cpp['tax'])"
   ]
  },
  {
   "cell_type": "code",
   "execution_count": 106,
   "id": "genetic-airplane",
   "metadata": {},
   "outputs": [],
   "source": [
    "#sns.boxplot(data=cpp['mpg'])"
   ]
  },
  {
   "cell_type": "code",
   "execution_count": 107,
   "id": "honey-morgan",
   "metadata": {},
   "outputs": [],
   "source": [
    "#sns.boxplot(data=cpp['engineSize'])"
   ]
  },
  {
   "cell_type": "raw",
   "id": "cleared-playlist",
   "metadata": {},
   "source": [
    "obs: tax,mpg and engineSize also has outliers. Almost all our numeric features have outliers and it has to be removed."
   ]
  },
  {
   "cell_type": "code",
   "execution_count": 108,
   "id": "appointed-korea",
   "metadata": {},
   "outputs": [
    {
     "name": "stdout",
     "output_type": "stream",
     "text": [
      "The number of outliers in Interquantile range Technique:  5932\n",
      "The number of outliers in 3rd Standard Deviation Technique:  3178\n"
     ]
    }
   ],
   "source": [
    "#Finding Number of outliers \n",
    "\n",
    "columns = ['year','price','mileage','tax','mpg','engineSize']\n",
    "d_v = 0 \n",
    "d_v1 = 0 \n",
    "for column in columns:\n",
    "    iqr = np.percentile(cpp[column],75) - np.percentile(cpp[column],25)\n",
    "    ll = np.percentile(cpp[column],25) - (1.5 * iqr)\n",
    "    ul = np.percentile(cpp[column],75) + (1.5 * iqr)\n",
    "    d_v = d_v +  cpp[(cpp[column]>ul) | (cpp[column]<ll) ][column].count()\n",
    "    \n",
    "    #using 3 STD Technique\n",
    "    ul = np.mean(cpp[column]) + (3*np.std(cpp[column]))\n",
    "    ll = np.mean(cpp[column]) - (3*np.std(cpp[column]))\n",
    "    \n",
    "    d_v1 = d_v1 +  cpp[(cpp[column]>ul) | (cpp[column]<ll) ][column].count()\n",
    "    \n",
    "print(\"The number of outliers in Interquantile range Technique: \",d_v)\n",
    "print(\"The number of outliers in 3rd Standard Deviation Technique: \",d_v1)"
   ]
  },
  {
   "cell_type": "raw",
   "id": "contained-worse",
   "metadata": {},
   "source": [
    "obs: As we had seen in the displot the values are varying and imputation using mean of a column doesn't seem to be an appropriate option.So we must decide to drop the column.\n",
    "\n",
    "We get 8530 outliers using IQR technique. looks like quite a lot of data to drop.\n",
    "Whereas in 3rd standard technique we have only 4575 outliers.I'm choosing IQR technique."
   ]
  },
  {
   "cell_type": "code",
   "execution_count": 109,
   "id": "stunning-source",
   "metadata": {},
   "outputs": [],
   "source": [
    "for column in columns:\n",
    "    iqr = np.percentile(cpp[column],75) - np.percentile(cpp[column],25)\n",
    "    ll = np.percentile(cpp[column],25) - (1.5 * iqr)\n",
    "    ul = np.percentile(cpp[column],75) + (1.5 * iqr)\n",
    "    \n",
    "    cpp.drop(cpp[(cpp[column]>ul) | (cpp[column]<ll)].index,inplace=True)"
   ]
  },
  {
   "cell_type": "code",
   "execution_count": 110,
   "id": "static-kuwait",
   "metadata": {},
   "outputs": [
    {
     "data": {
      "text/plain": [
       "(45657, 10)"
      ]
     },
     "execution_count": 110,
     "metadata": {},
     "output_type": "execute_result"
    }
   ],
   "source": [
    "cpp.shape"
   ]
  },
  {
   "cell_type": "code",
   "execution_count": 111,
   "id": "amazing-thailand",
   "metadata": {},
   "outputs": [
    {
     "data": {
      "text/plain": [
       "model             119\n",
       "year                9\n",
       "price            7314\n",
       "transmission        4\n",
       "mileage         26472\n",
       "fuelType            5\n",
       "tax                26\n",
       "mpg                94\n",
       "engineSize         17\n",
       "Make                7\n",
       "dtype: int64"
      ]
     },
     "execution_count": 111,
     "metadata": {},
     "output_type": "execute_result"
    }
   ],
   "source": [
    "cpp.nunique()"
   ]
  },
  {
   "cell_type": "code",
   "execution_count": 112,
   "id": "quantitative-gothic",
   "metadata": {},
   "outputs": [
    {
     "data": {
      "text/plain": [
       "dtype('int64')"
      ]
     },
     "execution_count": 112,
     "metadata": {},
     "output_type": "execute_result"
    }
   ],
   "source": [
    "cpp['year'].dtype"
   ]
  },
  {
   "cell_type": "code",
   "execution_count": 113,
   "id": "sacred-archive",
   "metadata": {},
   "outputs": [],
   "source": [
    "# Data Type Conversion\n",
    "cpp['model'] = cpp['model'].astype('category')\n",
    "cpp['year'] = cpp['year'].astype('category')\n",
    "cpp['transmission'] = cpp['transmission'].astype('category')\n",
    "cpp['fuelType'] = cpp['fuelType'].astype('category')\n",
    "cpp['Make'] = cpp['Make'].astype('category')\n"
   ]
  },
  {
   "cell_type": "code",
   "execution_count": null,
   "id": "removed-congo",
   "metadata": {},
   "outputs": [],
   "source": []
  },
  {
   "cell_type": "markdown",
   "id": "cooked-survey",
   "metadata": {},
   "source": [
    "## Bivariate Analysis"
   ]
  },
  {
   "cell_type": "code",
   "execution_count": 114,
   "id": "becoming-administration",
   "metadata": {},
   "outputs": [],
   "source": [
    "#plt.subplots(figsize=(10, 6))\n",
    "#sns.heatmap(cpp.corr(),annot=True)"
   ]
  },
  {
   "cell_type": "raw",
   "id": "injured-general",
   "metadata": {},
   "source": [
    "obs: There is no variable that has higher correlation than 0.8. So there's no need to drop columns based on correlation"
   ]
  },
  {
   "cell_type": "code",
   "execution_count": 115,
   "id": "confused-seeker",
   "metadata": {},
   "outputs": [
    {
     "name": "stdout",
     "output_type": "stream",
     "text": [
      "<class 'pandas.core.frame.DataFrame'>\n",
      "Int64Index: 45657 entries, 6288 to 49921\n",
      "Data columns (total 10 columns):\n",
      " #   Column        Non-Null Count  Dtype   \n",
      "---  ------        --------------  -----   \n",
      " 0   model         45657 non-null  category\n",
      " 1   year          45657 non-null  category\n",
      " 2   price         45657 non-null  int64   \n",
      " 3   transmission  45657 non-null  category\n",
      " 4   mileage       45657 non-null  int64   \n",
      " 5   fuelType      45657 non-null  category\n",
      " 6   tax           45657 non-null  float64 \n",
      " 7   mpg           45657 non-null  float64 \n",
      " 8   engineSize    45657 non-null  float64 \n",
      " 9   Make          45657 non-null  category\n",
      "dtypes: category(5), float64(3), int64(2)\n",
      "memory usage: 2.3 MB\n"
     ]
    }
   ],
   "source": [
    "cpp.info()"
   ]
  },
  {
   "cell_type": "code",
   "execution_count": 116,
   "id": "scenic-beach",
   "metadata": {},
   "outputs": [],
   "source": [
    "#sns.boxplot(x='year',y='price',data=cpp)"
   ]
  },
  {
   "cell_type": "raw",
   "id": "about-finish",
   "metadata": {},
   "source": [
    "obs: As Year increases we can observe there is increase in price as well."
   ]
  },
  {
   "cell_type": "code",
   "execution_count": 117,
   "id": "viral-shore",
   "metadata": {},
   "outputs": [],
   "source": [
    "#sns.boxplot(x='fuelType',y='price',data=cpp)"
   ]
  },
  {
   "cell_type": "raw",
   "id": "desperate-tiffany",
   "metadata": {},
   "source": [
    "Obs: There's no big difference between the fueltype and the price. All are kind of the same "
   ]
  },
  {
   "cell_type": "code",
   "execution_count": 118,
   "id": "endless-rainbow",
   "metadata": {},
   "outputs": [],
   "source": [
    "#plt.subplots(figsize=(10, 6))\n",
    "#sns.scatterplot(x='mileage',y='price',data=cpp)"
   ]
  },
  {
   "cell_type": "raw",
   "id": "under-profession",
   "metadata": {},
   "source": [
    "Obs: Price tends to decrease as the mileage increases."
   ]
  },
  {
   "cell_type": "code",
   "execution_count": 119,
   "id": "welcome-paste",
   "metadata": {},
   "outputs": [],
   "source": [
    "#sns.boxplot(x='transmission',y='price',data=cpp)"
   ]
  },
  {
   "cell_type": "raw",
   "id": "neither-stationery",
   "metadata": {},
   "source": [
    "obs: Looks like Semi-Auto and Automatic have slightly high price when compared to Manual and Other."
   ]
  },
  {
   "cell_type": "code",
   "execution_count": 120,
   "id": "contrary-sculpture",
   "metadata": {},
   "outputs": [],
   "source": [
    "#plt.subplots(figsize=(10, 6))\n",
    "#sns.scatterplot(x='tax',y='price',data=cpp)"
   ]
  },
  {
   "cell_type": "code",
   "execution_count": 121,
   "id": "afraid-lithuania",
   "metadata": {},
   "outputs": [],
   "source": [
    "#plt.subplots(figsize=(10, 6))\n",
    "#sns.scatterplot(x='engineSize',y='price',data=cpp)"
   ]
  },
  {
   "cell_type": "raw",
   "id": "patient-mechanics",
   "metadata": {},
   "source": [
    "obs: Smaller Engines have less price when compared to bigger engines. Bigger engines do have high price cars"
   ]
  },
  {
   "cell_type": "code",
   "execution_count": 122,
   "id": "substantial-arbitration",
   "metadata": {},
   "outputs": [],
   "source": [
    "#sns.boxplot(x='Make',y='price',data=cpp)"
   ]
  },
  {
   "cell_type": "raw",
   "id": "noble-future",
   "metadata": {},
   "source": [
    "obs: BMW and Audi cars are expensive than other cars as we know "
   ]
  },
  {
   "cell_type": "code",
   "execution_count": 123,
   "id": "03c91210",
   "metadata": {},
   "outputs": [],
   "source": [
    "cpp.drop('model', axis = 1,inplace=True)"
   ]
  },
  {
   "cell_type": "code",
   "execution_count": null,
   "id": "demographic-forum",
   "metadata": {},
   "outputs": [],
   "source": []
  },
  {
   "cell_type": "code",
   "execution_count": 124,
   "id": "universal-western",
   "metadata": {},
   "outputs": [],
   "source": [
    "#One Hot Encoding\n",
    "cpp_final = pd.get_dummies(cpp)"
   ]
  },
  {
   "cell_type": "code",
   "execution_count": 125,
   "id": "accredited-spirituality",
   "metadata": {},
   "outputs": [
    {
     "data": {
      "text/plain": [
       "(45657, 30)"
      ]
     },
     "execution_count": 125,
     "metadata": {},
     "output_type": "execute_result"
    }
   ],
   "source": [
    "cpp_final.shape"
   ]
  },
  {
   "cell_type": "code",
   "execution_count": null,
   "id": "501e26d0",
   "metadata": {},
   "outputs": [],
   "source": []
  },
  {
   "cell_type": "code",
   "execution_count": 126,
   "id": "infrared-leather",
   "metadata": {},
   "outputs": [
    {
     "data": {
      "text/plain": [
       "((31959, 29), (13698, 29))"
      ]
     },
     "execution_count": 126,
     "metadata": {},
     "output_type": "execute_result"
    }
   ],
   "source": [
    "#Splitting the data\n",
    "features = [col for col in cpp_final.columns if col != 'price']\n",
    "\n",
    "X_train, X_test, y_train, y_test = train_test_split(cpp_final[features], cpp_final['price'], test_size=.3, random_state=22)\n",
    "X_train.shape, X_test.shape"
   ]
  },
  {
   "cell_type": "code",
   "execution_count": 127,
   "id": "monthly-tourist",
   "metadata": {},
   "outputs": [],
   "source": [
    "#Normalising the data\n",
    "\n",
    "sc = StandardScaler()\n",
    "X_train = sc.fit_transform(X_train)\n",
    "X_test= sc.transform(X_test)"
   ]
  },
  {
   "cell_type": "code",
   "execution_count": 128,
   "id": "spread-prediction",
   "metadata": {},
   "outputs": [],
   "source": [
    "#Creating Metrics Dataframe\n",
    "\n",
    "metrics_df = pd.DataFrame(columns=['Model','MAE','MSE','R2_Score','Train Score','Test Score'])"
   ]
  },
  {
   "cell_type": "code",
   "execution_count": 129,
   "id": "joint-transcript",
   "metadata": {},
   "outputs": [
    {
     "data": {
      "text/plain": [
       "LinearRegression()"
      ]
     },
     "execution_count": 129,
     "metadata": {},
     "output_type": "execute_result"
    }
   ],
   "source": [
    "linearregression = LinearRegression()                                    \n",
    "linearregression.fit(X_train, y_train) \n"
   ]
  },
  {
   "cell_type": "code",
   "execution_count": 130,
   "id": "actual-associate",
   "metadata": {},
   "outputs": [
    {
     "name": "stdout",
     "output_type": "stream",
     "text": [
      "\n",
      "Mean Absolute Error: 2053.471177513416\n",
      "\n",
      "RMSE: 2683.5568314716934\n",
      "\n",
      "R2 Squared - Score: 0.8439786681671604\n",
      "\n",
      "Training Score: 0.8416289269754009\n",
      "\n",
      "Testing score: 0.8439786681671604\n"
     ]
    }
   ],
   "source": [
    "pred = linearregression.predict(X_test)   \n",
    "m0 = 'LinearRegression'\n",
    "# Mean Absolute Error\n",
    "m1 = \"{:.2f}\".format(mean_absolute_error(y_test, pred))\n",
    "print(\"\\nMean Absolute Error:\", mean_absolute_error(y_test, pred))\n",
    "# RMSE\n",
    "m2 = mean_squared_error(y_test, pred)**0.5\n",
    "print(\"\\nRMSE:\", mean_squared_error(y_test, pred)**0.5)\n",
    "# R2 Squared:\n",
    "m3 = \"{:.2f}\".format(r2_score(y_test, pred))\n",
    "print(\"\\nR2 Squared - Score:\", r2_score(y_test, pred))\n",
    "# Training Score\n",
    "m4 = \"{:.2f}\".format(linearregression.score(X_train, y_train))\n",
    "print(\"\\nTraining Score:\", linearregression.score(X_train, y_train))\n",
    "# Testing score\n",
    "m5 = \"{:.2f}\".format(linearregression.score(X_test, y_test))\n",
    "print(\"\\nTesting score:\",linearregression.score(X_test, y_test))\n",
    "\n",
    "metrics_df.loc[0] = [m0,m1,m2,m3,m4,m5]"
   ]
  },
  {
   "cell_type": "code",
   "execution_count": 131,
   "id": "posted-services",
   "metadata": {},
   "outputs": [],
   "source": [
    "# import the regressor \n",
    "from sklearn.tree import DecisionTreeRegressor  \n",
    "  \n",
    "# create a regressor object \n",
    "DTregressor = DecisionTreeRegressor(random_state = 0)  \n",
    "  \n",
    "# fit the regressor with X and Y data \n",
    "DTregressor.fit(X_train, y_train) \n",
    "\n",
    "DT_y_pred = DTregressor.predict(X_test) "
   ]
  },
  {
   "cell_type": "code",
   "execution_count": 132,
   "id": "authorized-arrow",
   "metadata": {},
   "outputs": [
    {
     "name": "stdout",
     "output_type": "stream",
     "text": [
      "\n",
      "Mean Absolute Error: 1580.536845316313\n",
      "\n",
      "RMSE: 2347.6333465682765\n",
      "\n",
      "R2 Squared - Score: 0.8805948863844646\n",
      "\n",
      "Training Score: 1.00\n",
      "\n",
      "Testing score: 0.88\n"
     ]
    }
   ],
   "source": [
    "m0 = 'Decision Tree'\n",
    "# Mean Absolute Error\n",
    "m1 = \"{:.2f}\".format(mean_absolute_error(y_test, DT_y_pred))\n",
    "print(\"\\nMean Absolute Error:\", mean_absolute_error(y_test, DT_y_pred))\n",
    "# RMSE\n",
    "m2 = mean_squared_error(y_test, DT_y_pred)**0.5\n",
    "print(\"\\nRMSE:\", mean_squared_error(y_test, DT_y_pred)**0.5)\n",
    "# R2 Squared:\n",
    "m3 = \"{:.2f}\".format(r2_score(y_test, DT_y_pred))\n",
    "print(\"\\nR2 Squared - Score:\", r2_score(y_test, DT_y_pred))\n",
    "# Training Score\n",
    "m4 = \"{:.2f}\".format(DTregressor.score(X_train, y_train))\n",
    "print(\"\\nTraining Score: %.2f\" % (DTregressor.score(X_train, y_train)))\n",
    "# Testing score\n",
    "m5 = \"{:.2f}\".format(DTregressor.score(X_test, y_test))\n",
    "print(\"\\nTesting score: %.2f\" % (DTregressor.score(X_test, y_test)))\n",
    "#print(y_pred)\n",
    "\n",
    "metrics_df.loc[1] = [m0,m1,m2,m3,m4,m5]"
   ]
  },
  {
   "cell_type": "code",
   "execution_count": 133,
   "id": "moving-borough",
   "metadata": {},
   "outputs": [],
   "source": [
    "from sklearn.ensemble import RandomForestRegressor\n",
    "from sklearn.datasets import make_regression\n",
    "\n",
    "RFregressor = RandomForestRegressor(max_depth=2, random_state=0)\n",
    "RFregressor.fit(X_train, y_train )\n",
    "\n",
    "RF_y_pred = RFregressor.predict(X_test)"
   ]
  },
  {
   "cell_type": "code",
   "execution_count": 134,
   "id": "unsigned-partner",
   "metadata": {},
   "outputs": [
    {
     "name": "stdout",
     "output_type": "stream",
     "text": [
      "\n",
      "Mean Absolute Error: 3435.7844150583533\n",
      "\n",
      "RMSE: 4367.215882938487\n",
      "\n",
      "R2 Squared - Score: 0.5867891579772078\n",
      "\n",
      "Training Score: 0.58\n",
      "\n",
      "Testing score: 0.59\n"
     ]
    }
   ],
   "source": [
    "m0 = 'Random Forest'\n",
    "# Mean Absolute Error\n",
    "m1 = \"{:.2f}\".format(mean_absolute_error(y_test, RF_y_pred))\n",
    "print(\"\\nMean Absolute Error:\", mean_absolute_error(y_test, RF_y_pred))\n",
    "# RMSE\n",
    "m2 = mean_squared_error(y_test, RF_y_pred)**0.5\n",
    "print(\"\\nRMSE:\", mean_squared_error(y_test, RF_y_pred)**0.5)\n",
    "# R2 Squared:\n",
    "m3 = \"{:.2f}\".format(r2_score(y_test, RF_y_pred))\n",
    "print(\"\\nR2 Squared - Score:\", r2_score(y_test, RF_y_pred))\n",
    "# Training Score\n",
    "m4 = \"{:.2f}\".format(RFregressor.score(X_train, y_train))\n",
    "print(\"\\nTraining Score: %.2f\" % (RFregressor.score(X_train, y_train)))\n",
    "# Testing score\n",
    "m5 = \"{:.2f}\".format(RFregressor.score(X_test, y_test))\n",
    "print(\"\\nTesting score: %.2f\" % (RFregressor.score(X_test, y_test)))\n",
    "#print(y_pred)\n",
    "\n",
    "metrics_df.loc[2] = [m0,m1,m2,m3,m4,m5]"
   ]
  },
  {
   "cell_type": "code",
   "execution_count": 135,
   "id": "every-demand",
   "metadata": {},
   "outputs": [],
   "source": [
    "from sklearn.datasets import make_regression\n",
    "from sklearn.ensemble import GradientBoostingRegressor\n",
    "\n",
    "GBregressor = GradientBoostingRegressor(random_state=0)\n",
    "GBregressor.fit(X_train, y_train)\n",
    "\n",
    "GB_y_pred = GBregressor.predict(X_test)"
   ]
  },
  {
   "cell_type": "code",
   "execution_count": 136,
   "id": "theoretical-rocket",
   "metadata": {},
   "outputs": [
    {
     "name": "stdout",
     "output_type": "stream",
     "text": [
      "\n",
      "Mean Absolute Error: 1767.3267940393205\n",
      "\n",
      "RMSE: 2356.7054483448615\n",
      "\n",
      "R2 Squared - Score: 0.8796702544443208\n",
      "\n",
      "Training Score: 0.88\n",
      "\n",
      "Testing score: 0.88\n"
     ]
    }
   ],
   "source": [
    "m0 = 'Gradient Boosting'\n",
    "# Mean Absolute Error\n",
    "m1 = \"{:.2f}\".format(mean_absolute_error(y_test, GB_y_pred))\n",
    "print(\"\\nMean Absolute Error:\", mean_absolute_error(y_test, GB_y_pred))\n",
    "# RMSE\n",
    "m2 = mean_squared_error(y_test, GB_y_pred)**0.5\n",
    "print(\"\\nRMSE:\", mean_squared_error(y_test, GB_y_pred)**0.5)\n",
    "# R2 Squared:\n",
    "m3 = \"{:.2f}\".format(r2_score(y_test, GB_y_pred))\n",
    "print(\"\\nR2 Squared - Score:\", r2_score(y_test, GB_y_pred))\n",
    "# Training Score\n",
    "m4 = \"{:.2f}\".format(GBregressor.score(X_train, y_train))\n",
    "print(\"\\nTraining Score: %.2f\" % (GBregressor.score(X_train, y_train)))\n",
    "# Testing score\n",
    "m5 = \"{:.2f}\".format(GBregressor.score(X_test, y_test))\n",
    "print(\"\\nTesting score: %.2f\" % (GBregressor.score(X_test, y_test)))\n",
    "#print(y_pred)\n",
    "\n",
    "metrics_df.loc[3] = [m0,m1,m2,m3,m4,m5]"
   ]
  },
  {
   "cell_type": "code",
   "execution_count": 137,
   "id": "resistant-sleeve",
   "metadata": {},
   "outputs": [
    {
     "data": {
      "text/html": [
       "<div>\n",
       "<style scoped>\n",
       "    .dataframe tbody tr th:only-of-type {\n",
       "        vertical-align: middle;\n",
       "    }\n",
       "\n",
       "    .dataframe tbody tr th {\n",
       "        vertical-align: top;\n",
       "    }\n",
       "\n",
       "    .dataframe thead th {\n",
       "        text-align: right;\n",
       "    }\n",
       "</style>\n",
       "<table border=\"1\" class=\"dataframe\">\n",
       "  <thead>\n",
       "    <tr style=\"text-align: right;\">\n",
       "      <th></th>\n",
       "      <th>Model</th>\n",
       "      <th>MAE</th>\n",
       "      <th>MSE</th>\n",
       "      <th>R2_Score</th>\n",
       "      <th>Train Score</th>\n",
       "      <th>Test Score</th>\n",
       "    </tr>\n",
       "  </thead>\n",
       "  <tbody>\n",
       "    <tr>\n",
       "      <th>0</th>\n",
       "      <td>LinearRegression</td>\n",
       "      <td>2053.47</td>\n",
       "      <td>2683.556831</td>\n",
       "      <td>0.84</td>\n",
       "      <td>0.84</td>\n",
       "      <td>0.84</td>\n",
       "    </tr>\n",
       "    <tr>\n",
       "      <th>1</th>\n",
       "      <td>Decision Tree</td>\n",
       "      <td>1580.54</td>\n",
       "      <td>2347.633347</td>\n",
       "      <td>0.88</td>\n",
       "      <td>1.00</td>\n",
       "      <td>0.88</td>\n",
       "    </tr>\n",
       "    <tr>\n",
       "      <th>2</th>\n",
       "      <td>Random Forest</td>\n",
       "      <td>3435.78</td>\n",
       "      <td>4367.215883</td>\n",
       "      <td>0.59</td>\n",
       "      <td>0.58</td>\n",
       "      <td>0.59</td>\n",
       "    </tr>\n",
       "    <tr>\n",
       "      <th>3</th>\n",
       "      <td>Gradient Boosting</td>\n",
       "      <td>1767.33</td>\n",
       "      <td>2356.705448</td>\n",
       "      <td>0.88</td>\n",
       "      <td>0.88</td>\n",
       "      <td>0.88</td>\n",
       "    </tr>\n",
       "  </tbody>\n",
       "</table>\n",
       "</div>"
      ],
      "text/plain": [
       "               Model      MAE          MSE R2_Score Train Score Test Score\n",
       "0   LinearRegression  2053.47  2683.556831     0.84        0.84       0.84\n",
       "1      Decision Tree  1580.54  2347.633347     0.88        1.00       0.88\n",
       "2      Random Forest  3435.78  4367.215883     0.59        0.58       0.59\n",
       "3  Gradient Boosting  1767.33  2356.705448     0.88        0.88       0.88"
      ]
     },
     "execution_count": 137,
     "metadata": {},
     "output_type": "execute_result"
    }
   ],
   "source": [
    "metrics_df"
   ]
  },
  {
   "cell_type": "code",
   "execution_count": null,
   "id": "sustained-encounter",
   "metadata": {},
   "outputs": [],
   "source": []
  },
  {
   "cell_type": "code",
   "execution_count": 138,
   "id": "wired-module",
   "metadata": {},
   "outputs": [],
   "source": [
    "# K Fold Cross Validation\n",
    "\n",
    "kf = KFold(n_splits=10, random_state=None)\n",
    "\n",
    "metrics_df['KF_mean'] = \"\"\n",
    "metrics_df['KF_std'] = \"\"\n",
    "\n",
    "result = cross_val_score(linearregression, cpp_final[features], cpp_final['price'], cv = kf)\n",
    "metrics_df.loc[0,'KF_mean'] = \"{:.2f}\".format(result.mean())\n",
    "metrics_df.loc[0,'KF_std'] = \"{:.2f}\".format(result.std())\n",
    "\n",
    "result = cross_val_score(DTregressor,cpp_final[features], cpp_final['price'], cv = kf)\n",
    "metrics_df.loc[1,'KF_mean'] = \"{:.2f}\".format(result.mean())\n",
    "metrics_df.loc[1,'KF_std'] = \"{:.2f}\".format(result.std())\n",
    "\n",
    "result = cross_val_score(RFregressor, cpp_final[features], cpp_final['price'], cv = kf)\n",
    "metrics_df.loc[2,'KF_mean'] = \"{:.2f}\".format(result.mean())\n",
    "metrics_df.loc[2,'KF_std'] = \"{:.2f}\".format(result.std())\n",
    "\n",
    "result = cross_val_score(GBregressor, cpp_final[features], cpp_final['price'], cv = kf)\n",
    "metrics_df.loc[3,'KF_mean'] = \"{:.2f}\".format(result.mean())\n",
    "metrics_df.loc[3,'KF_std'] = \"{:.2f}\".format(result.std())"
   ]
  },
  {
   "cell_type": "code",
   "execution_count": null,
   "id": "necessary-edwards",
   "metadata": {},
   "outputs": [],
   "source": []
  },
  {
   "cell_type": "code",
   "execution_count": 139,
   "id": "exact-scene",
   "metadata": {},
   "outputs": [
    {
     "data": {
      "text/html": [
       "<div>\n",
       "<style scoped>\n",
       "    .dataframe tbody tr th:only-of-type {\n",
       "        vertical-align: middle;\n",
       "    }\n",
       "\n",
       "    .dataframe tbody tr th {\n",
       "        vertical-align: top;\n",
       "    }\n",
       "\n",
       "    .dataframe thead th {\n",
       "        text-align: right;\n",
       "    }\n",
       "</style>\n",
       "<table border=\"1\" class=\"dataframe\">\n",
       "  <thead>\n",
       "    <tr style=\"text-align: right;\">\n",
       "      <th></th>\n",
       "      <th>Model</th>\n",
       "      <th>MAE</th>\n",
       "      <th>MSE</th>\n",
       "      <th>R2_Score</th>\n",
       "      <th>Train Score</th>\n",
       "      <th>Test Score</th>\n",
       "      <th>KF_mean</th>\n",
       "      <th>KF_std</th>\n",
       "    </tr>\n",
       "  </thead>\n",
       "  <tbody>\n",
       "    <tr>\n",
       "      <th>0</th>\n",
       "      <td>LinearRegression</td>\n",
       "      <td>2053.47</td>\n",
       "      <td>2683.556831</td>\n",
       "      <td>0.84</td>\n",
       "      <td>0.84</td>\n",
       "      <td>0.84</td>\n",
       "      <td>0.84</td>\n",
       "      <td>0.00</td>\n",
       "    </tr>\n",
       "    <tr>\n",
       "      <th>1</th>\n",
       "      <td>Decision Tree</td>\n",
       "      <td>1580.54</td>\n",
       "      <td>2347.633347</td>\n",
       "      <td>0.88</td>\n",
       "      <td>1.00</td>\n",
       "      <td>0.88</td>\n",
       "      <td>0.88</td>\n",
       "      <td>0.01</td>\n",
       "    </tr>\n",
       "    <tr>\n",
       "      <th>2</th>\n",
       "      <td>Random Forest</td>\n",
       "      <td>3435.78</td>\n",
       "      <td>4367.215883</td>\n",
       "      <td>0.59</td>\n",
       "      <td>0.58</td>\n",
       "      <td>0.59</td>\n",
       "      <td>0.58</td>\n",
       "      <td>0.01</td>\n",
       "    </tr>\n",
       "    <tr>\n",
       "      <th>3</th>\n",
       "      <td>Gradient Boosting</td>\n",
       "      <td>1767.33</td>\n",
       "      <td>2356.705448</td>\n",
       "      <td>0.88</td>\n",
       "      <td>0.88</td>\n",
       "      <td>0.88</td>\n",
       "      <td>0.88</td>\n",
       "      <td>0.00</td>\n",
       "    </tr>\n",
       "  </tbody>\n",
       "</table>\n",
       "</div>"
      ],
      "text/plain": [
       "               Model      MAE          MSE R2_Score Train Score Test Score  \\\n",
       "0   LinearRegression  2053.47  2683.556831     0.84        0.84       0.84   \n",
       "1      Decision Tree  1580.54  2347.633347     0.88        1.00       0.88   \n",
       "2      Random Forest  3435.78  4367.215883     0.59        0.58       0.59   \n",
       "3  Gradient Boosting  1767.33  2356.705448     0.88        0.88       0.88   \n",
       "\n",
       "  KF_mean KF_std  \n",
       "0    0.84   0.00  \n",
       "1    0.88   0.01  \n",
       "2    0.58   0.01  \n",
       "3    0.88   0.00  "
      ]
     },
     "execution_count": 139,
     "metadata": {},
     "output_type": "execute_result"
    }
   ],
   "source": [
    "metrics_df"
   ]
  },
  {
   "cell_type": "code",
   "execution_count": 140,
   "id": "genuine-wrestling",
   "metadata": {},
   "outputs": [
    {
     "data": {
      "image/png": "[encoded data removed]",
      "text/plain": [
       "<Figure size 1080x360 with 1 Axes>"
      ]
     },
     "metadata": {},
     "output_type": "display_data"
    }
   ],
   "source": [
    "plt.figure(figsize=(15,5))\n",
    "sns.regplot(x=y_test,y=GB_y_pred,color='red')\n",
    "plt.show()"
   ]
  },
  {
   "cell_type": "code",
   "execution_count": null,
   "id": "attached-powell",
   "metadata": {},
   "outputs": [],
   "source": []
  },
  {
   "cell_type": "code",
   "execution_count": 141,
   "id": "catholic-desire",
   "metadata": {},
   "outputs": [
    {
     "data": {
      "text/plain": [
       "{'alpha': 0.9,\n",
       " 'ccp_alpha': 0.0,\n",
       " 'criterion': 'friedman_mse',\n",
       " 'init': None,\n",
       " 'learning_rate': 0.1,\n",
       " 'loss': 'ls',\n",
       " 'max_depth': 3,\n",
       " 'max_features': None,\n",
       " 'max_leaf_nodes': None,\n",
       " 'min_impurity_decrease': 0.0,\n",
       " 'min_impurity_split': None,\n",
       " 'min_samples_leaf': 1,\n",
       " 'min_samples_split': 2,\n",
       " 'min_weight_fraction_leaf': 0.0,\n",
       " 'n_estimators': 100,\n",
       " 'n_iter_no_change': None,\n",
       " 'random_state': 0,\n",
       " 'subsample': 1.0,\n",
       " 'tol': 0.0001,\n",
       " 'validation_fraction': 0.1,\n",
       " 'verbose': 0,\n",
       " 'warm_start': False}"
      ]
     },
     "execution_count": 141,
     "metadata": {},
     "output_type": "execute_result"
    }
   ],
   "source": [
    "GBregressor.get_params()"
   ]
  },
  {
   "cell_type": "code",
   "execution_count": 142,
   "id": "threaded-tribe",
   "metadata": {},
   "outputs": [
    {
     "name": "stdout",
     "output_type": "stream",
     "text": [
      "Best Parameter {'n_estimators': 100, 'max_depth': 7, 'learning_rate': 0.1} \n",
      "\n",
      "Best Score 0.9268882853815132 \n",
      "\n"
     ]
    }
   ],
   "source": [
    "#Hyperparameter Tuning using RandomizedSearchCV\n",
    "from sklearn.model_selection import GridSearchCV,RandomizedSearchCV\n",
    "\n",
    "parameters = {\n",
    "    'n_estimators' :[100,150,200],\n",
    "    'learning_rate':[0.01,0.1,0.5,1],\n",
    "    #'criterion' : [\"mse\", \"friedman_mse\", \"mae\"],\n",
    "    'max_depth' : [3,5,7,9]\n",
    "    #'max_features' : [None,'auto', 'sqrt', 'log2'],\n",
    "    #'min_samples_split' : [2,5,10,20],\n",
    "    #'min_samples_leaf':[1,5,10,20]\n",
    "}\n",
    "\n",
    "cv = RandomizedSearchCV(estimator=GBregressor,param_distributions=parameters,n_iter=5,n_jobs=-1)\n",
    "cv.fit(X_train,y_train.values.ravel())\n",
    "\n",
    "print('Best Parameter {0} \\n'.format(cv.best_params_))\n",
    "print('Best Score {0} \\n'.format(cv.best_score_))"
   ]
  },
  {
   "cell_type": "code",
   "execution_count": 143,
   "id": "premier-football",
   "metadata": {},
   "outputs": [
    {
     "name": "stdout",
     "output_type": "stream",
     "text": [
      "\n",
      "Mean Absolute Error: 1311.4254885921905\n",
      "\n",
      "RMSE: 1806.4149062433728\n",
      "\n",
      "R2 Squared - Score: 0.9293035830533157\n",
      "\n",
      "Training Score: 0.94\n",
      "\n",
      "Testing score: 0.93\n"
     ]
    }
   ],
   "source": [
    "#Best Model\n",
    "\n",
    "gb_regressor=cv.best_estimator_\n",
    "gb_regressor.fit(X_train, y_train)\n",
    "\n",
    "hp_GB_y_pred = gb_regressor.predict(X_test)\n",
    "\n",
    "m0 = 'Hyperparameter Tuned Gradient Boosting(RSC)'\n",
    "# Mean Absolute Error\n",
    "m1 = \"{:.2f}\".format(mean_absolute_error(y_test, hp_GB_y_pred))\n",
    "print(\"\\nMean Absolute Error:\", mean_absolute_error(y_test, hp_GB_y_pred))\n",
    "# RMSE\n",
    "m2 = mean_squared_error(y_test, hp_GB_y_pred)**0.5\n",
    "print(\"\\nRMSE:\", mean_squared_error(y_test, hp_GB_y_pred)**0.5)\n",
    "# R2 Squared:\n",
    "m3 = \"{:.2f}\".format(r2_score(y_test, hp_GB_y_pred))\n",
    "print(\"\\nR2 Squared - Score:\", r2_score(y_test, hp_GB_y_pred))\n",
    "# Training Score\n",
    "m4 = \"{:.2f}\".format(gb_regressor.score(X_train, y_train))\n",
    "print(\"\\nTraining Score: %.2f\" % (gb_regressor.score(X_train, y_train)))\n",
    "# Testing score\n",
    "m5 = \"{:.2f}\".format(gb_regressor.score(X_test, y_test))\n",
    "print(\"\\nTesting score: %.2f\" % (gb_regressor.score(X_test, y_test)))\n",
    "#print(y_pred)\n",
    "result = cross_val_score(gb_regressor, cpp_final[features], cpp_final['price'], cv = kf)"
   ]
  },
  {
   "cell_type": "code",
   "execution_count": 144,
   "id": "assisted-option",
   "metadata": {},
   "outputs": [],
   "source": [
    "metrics_df.loc[4] = [m0,m1,m2,m3,m4,m5,\"{:.2f}\".format(result.mean()),\"{:.2f}\".format(result.std())]"
   ]
  },
  {
   "cell_type": "code",
   "execution_count": 145,
   "id": "lovely-planning",
   "metadata": {},
   "outputs": [
    {
     "data": {
      "image/png": "[encoded data removed]",
      "text/plain": [
       "<Figure size 1080x360 with 1 Axes>"
      ]
     },
     "metadata": {},
     "output_type": "display_data"
    }
   ],
   "source": [
    "plt.figure(figsize=(15,5))\n",
    "sns.regplot(x=y_test,y=hp_GB_y_pred,color='red')\n",
    "plt.show()"
   ]
  },
  {
   "cell_type": "code",
   "execution_count": null,
   "id": "responsible-acceptance",
   "metadata": {},
   "outputs": [],
   "source": []
  },
  {
   "cell_type": "code",
   "execution_count": 146,
   "id": "essential-sending",
   "metadata": {},
   "outputs": [
    {
     "data": {
      "text/html": [
       "<div>\n",
       "<style scoped>\n",
       "    .dataframe tbody tr th:only-of-type {\n",
       "        vertical-align: middle;\n",
       "    }\n",
       "\n",
       "    .dataframe tbody tr th {\n",
       "        vertical-align: top;\n",
       "    }\n",
       "\n",
       "    .dataframe thead th {\n",
       "        text-align: right;\n",
       "    }\n",
       "</style>\n",
       "<table border=\"1\" class=\"dataframe\">\n",
       "  <thead>\n",
       "    <tr style=\"text-align: right;\">\n",
       "      <th></th>\n",
       "      <th>Model</th>\n",
       "      <th>MAE</th>\n",
       "      <th>MSE</th>\n",
       "      <th>R2_Score</th>\n",
       "      <th>Train Score</th>\n",
       "      <th>Test Score</th>\n",
       "      <th>KF_mean</th>\n",
       "      <th>KF_std</th>\n",
       "    </tr>\n",
       "  </thead>\n",
       "  <tbody>\n",
       "    <tr>\n",
       "      <th>0</th>\n",
       "      <td>LinearRegression</td>\n",
       "      <td>2053.47</td>\n",
       "      <td>2683.556831</td>\n",
       "      <td>0.84</td>\n",
       "      <td>0.84</td>\n",
       "      <td>0.84</td>\n",
       "      <td>0.84</td>\n",
       "      <td>0.00</td>\n",
       "    </tr>\n",
       "    <tr>\n",
       "      <th>1</th>\n",
       "      <td>Decision Tree</td>\n",
       "      <td>1580.54</td>\n",
       "      <td>2347.633347</td>\n",
       "      <td>0.88</td>\n",
       "      <td>1.00</td>\n",
       "      <td>0.88</td>\n",
       "      <td>0.88</td>\n",
       "      <td>0.01</td>\n",
       "    </tr>\n",
       "    <tr>\n",
       "      <th>2</th>\n",
       "      <td>Random Forest</td>\n",
       "      <td>3435.78</td>\n",
       "      <td>4367.215883</td>\n",
       "      <td>0.59</td>\n",
       "      <td>0.58</td>\n",
       "      <td>0.59</td>\n",
       "      <td>0.58</td>\n",
       "      <td>0.01</td>\n",
       "    </tr>\n",
       "    <tr>\n",
       "      <th>3</th>\n",
       "      <td>Gradient Boosting</td>\n",
       "      <td>1767.33</td>\n",
       "      <td>2356.705448</td>\n",
       "      <td>0.88</td>\n",
       "      <td>0.88</td>\n",
       "      <td>0.88</td>\n",
       "      <td>0.88</td>\n",
       "      <td>0.00</td>\n",
       "    </tr>\n",
       "    <tr>\n",
       "      <th>4</th>\n",
       "      <td>Hyperparameter Tuned Gradient Boosting(RSC)</td>\n",
       "      <td>1311.43</td>\n",
       "      <td>1806.414906</td>\n",
       "      <td>0.93</td>\n",
       "      <td>0.94</td>\n",
       "      <td>0.93</td>\n",
       "      <td>0.93</td>\n",
       "      <td>0.00</td>\n",
       "    </tr>\n",
       "  </tbody>\n",
       "</table>\n",
       "</div>"
      ],
      "text/plain": [
       "                                         Model      MAE          MSE R2_Score  \\\n",
       "0                             LinearRegression  2053.47  2683.556831     0.84   \n",
       "1                                Decision Tree  1580.54  2347.633347     0.88   \n",
       "2                                Random Forest  3435.78  4367.215883     0.59   \n",
       "3                            Gradient Boosting  1767.33  2356.705448     0.88   \n",
       "4  Hyperparameter Tuned Gradient Boosting(RSC)  1311.43  1806.414906     0.93   \n",
       "\n",
       "  Train Score Test Score KF_mean KF_std  \n",
       "0        0.84       0.84    0.84   0.00  \n",
       "1        1.00       0.88    0.88   0.01  \n",
       "2        0.58       0.59    0.58   0.01  \n",
       "3        0.88       0.88    0.88   0.00  \n",
       "4        0.94       0.93    0.93   0.00  "
      ]
     },
     "execution_count": 146,
     "metadata": {},
     "output_type": "execute_result"
    }
   ],
   "source": [
    "metrics_df "
   ]
  },
  {
   "cell_type": "code",
   "execution_count": null,
   "id": "signed-trace",
   "metadata": {},
   "outputs": [],
   "source": []
  },
  {
   "cell_type": "code",
   "execution_count": 147,
   "id": "convertible-criminal",
   "metadata": {},
   "outputs": [],
   "source": [
    "#Hyperparameter Using GridSearchCV\n",
    "from sklearn.model_selection import GridSearchCV"
   ]
  },
  {
   "cell_type": "code",
   "execution_count": 148,
   "id": "quiet-cartoon",
   "metadata": {},
   "outputs": [],
   "source": [
    "parameters = {\n",
    "    'n_estimators' :[100,150,200],\n",
    "    'learning_rate':[0.01,0.1,0.5,1],\n",
    "    'max_depth' : [3,5,7,9]\n",
    "}"
   ]
  },
  {
   "cell_type": "code",
   "execution_count": 149,
   "id": "focal-gathering",
   "metadata": {},
   "outputs": [
    {
     "name": "stdout",
     "output_type": "stream",
     "text": [
      " Results from Grid Search \n",
      "\n",
      " The best estimator across ALL searched params:\n",
      " GradientBoostingRegressor(max_depth=9, n_estimators=150, random_state=0)\n",
      "\n",
      " The best score across ALL searched params:\n",
      " 0.9282178449656139\n",
      "\n",
      " The best parameters across ALL searched params:\n",
      " {'learning_rate': 0.1, 'max_depth': 9, 'n_estimators': 150}\n"
     ]
    }
   ],
   "source": [
    "grid_GBR = GridSearchCV(estimator=GBregressor, param_grid = parameters, cv = 2, n_jobs=-1)\n",
    "grid_GBR.fit(X_train, y_train)\n",
    "\n",
    "print(\" Results from Grid Search \" )\n",
    "print(\"\\n The best estimator across ALL searched params:\\n\",grid_GBR.best_estimator_)\n",
    "print(\"\\n The best score across ALL searched params:\\n\",grid_GBR.best_score_)\n",
    "print(\"\\n The best parameters across ALL searched params:\\n\",grid_GBR.best_params_)"
   ]
  },
  {
   "cell_type": "code",
   "execution_count": 150,
   "id": "expired-horse",
   "metadata": {},
   "outputs": [
    {
     "name": "stdout",
     "output_type": "stream",
     "text": [
      "\n",
      "Mean Absolute Error: 1187.7562254341628\n",
      "\n",
      "RMSE: 1683.6746322044564\n",
      "\n",
      "R2 Squared - Score: 0.9385843965257491\n",
      "\n",
      "Training Score: 0.97\n",
      "\n",
      "Testing score: 0.94\n"
     ]
    }
   ],
   "source": [
    "gb_regressor1=grid_GBR.best_estimator_\n",
    "gb_regressor1.fit(X_train, y_train)\n",
    "\n",
    "hp_GB_y_pred = gb_regressor1.predict(X_test)\n",
    "\n",
    "m0 = 'Hyperparameter Tuned Gradient Boosting (GSV)'\n",
    "# Mean Absolute Error\n",
    "m1 = \"{:.2f}\".format(mean_absolute_error(y_test, hp_GB_y_pred))\n",
    "print(\"\\nMean Absolute Error:\", mean_absolute_error(y_test, hp_GB_y_pred))\n",
    "# RMSE\n",
    "m2 = mean_squared_error(y_test, hp_GB_y_pred)**0.5\n",
    "print(\"\\nRMSE:\", mean_squared_error(y_test, hp_GB_y_pred)**0.5)\n",
    "# R2 Squared:\n",
    "m3 = \"{:.2f}\".format(r2_score(y_test, hp_GB_y_pred))\n",
    "print(\"\\nR2 Squared - Score:\", r2_score(y_test, hp_GB_y_pred))\n",
    "# Training Score\n",
    "m4 = \"{:.2f}\".format(gb_regressor1.score(X_train, y_train))\n",
    "print(\"\\nTraining Score: %.2f\" % (gb_regressor1.score(X_train, y_train)))\n",
    "# Testing score\n",
    "m5 = \"{:.2f}\".format(gb_regressor1.score(X_test, y_test))\n",
    "print(\"\\nTesting score: %.2f\" % (gb_regressor1.score(X_test, y_test)))\n",
    "#print(y_pred)\n",
    "result = cross_val_score(gb_regressor1, cpp_final[features], cpp_final['price'], cv = kf)"
   ]
  },
  {
   "cell_type": "code",
   "execution_count": 151,
   "id": "false-abuse",
   "metadata": {},
   "outputs": [],
   "source": [
    "metrics_df.loc[5] = [m0,m1,m2,m3,m4,m5,\"{:.2f}\".format(result.mean()),\"{:.2f}\".format(result.std())]"
   ]
  },
  {
   "cell_type": "code",
   "execution_count": 152,
   "id": "treated-motivation",
   "metadata": {},
   "outputs": [
    {
     "data": {
      "image/png": "[encoded data removed]",
      "text/plain": [
       "<Figure size 1080x360 with 1 Axes>"
      ]
     },
     "metadata": {},
     "output_type": "display_data"
    }
   ],
   "source": [
    "plt.figure(figsize=(15,5))\n",
    "sns.regplot(x=y_test,y=hp_GB_y_pred,color='red')\n",
    "plt.show()"
   ]
  },
  {
   "cell_type": "code",
   "execution_count": null,
   "id": "respiratory-bermuda",
   "metadata": {},
   "outputs": [],
   "source": []
  },
  {
   "cell_type": "code",
   "execution_count": 153,
   "id": "short-sister",
   "metadata": {},
   "outputs": [
    {
     "name": "stdout",
     "output_type": "stream",
     "text": [
      "Our Final Metric Comparision:\n",
      "\n",
      "\n"
     ]
    },
    {
     "data": {
      "text/html": [
       "<div>\n",
       "<style scoped>\n",
       "    .dataframe tbody tr th:only-of-type {\n",
       "        vertical-align: middle;\n",
       "    }\n",
       "\n",
       "    .dataframe tbody tr th {\n",
       "        vertical-align: top;\n",
       "    }\n",
       "\n",
       "    .dataframe thead th {\n",
       "        text-align: right;\n",
       "    }\n",
       "</style>\n",
       "<table border=\"1\" class=\"dataframe\">\n",
       "  <thead>\n",
       "    <tr style=\"text-align: right;\">\n",
       "      <th></th>\n",
       "      <th>Model</th>\n",
       "      <th>MAE</th>\n",
       "      <th>MSE</th>\n",
       "      <th>R2_Score</th>\n",
       "      <th>Train Score</th>\n",
       "      <th>Test Score</th>\n",
       "      <th>KF_mean</th>\n",
       "      <th>KF_std</th>\n",
       "    </tr>\n",
       "  </thead>\n",
       "  <tbody>\n",
       "    <tr>\n",
       "      <th>0</th>\n",
       "      <td>LinearRegression</td>\n",
       "      <td>2053.47</td>\n",
       "      <td>2683.556831</td>\n",
       "      <td>0.84</td>\n",
       "      <td>0.84</td>\n",
       "      <td>0.84</td>\n",
       "      <td>0.84</td>\n",
       "      <td>0.00</td>\n",
       "    </tr>\n",
       "    <tr>\n",
       "      <th>1</th>\n",
       "      <td>Decision Tree</td>\n",
       "      <td>1580.54</td>\n",
       "      <td>2347.633347</td>\n",
       "      <td>0.88</td>\n",
       "      <td>1.00</td>\n",
       "      <td>0.88</td>\n",
       "      <td>0.88</td>\n",
       "      <td>0.01</td>\n",
       "    </tr>\n",
       "    <tr>\n",
       "      <th>2</th>\n",
       "      <td>Random Forest</td>\n",
       "      <td>3435.78</td>\n",
       "      <td>4367.215883</td>\n",
       "      <td>0.59</td>\n",
       "      <td>0.58</td>\n",
       "      <td>0.59</td>\n",
       "      <td>0.58</td>\n",
       "      <td>0.01</td>\n",
       "    </tr>\n",
       "    <tr>\n",
       "      <th>3</th>\n",
       "      <td>Gradient Boosting</td>\n",
       "      <td>1767.33</td>\n",
       "      <td>2356.705448</td>\n",
       "      <td>0.88</td>\n",
       "      <td>0.88</td>\n",
       "      <td>0.88</td>\n",
       "      <td>0.88</td>\n",
       "      <td>0.00</td>\n",
       "    </tr>\n",
       "    <tr>\n",
       "      <th>4</th>\n",
       "      <td>Hyperparameter Tuned Gradient Boosting(RSC)</td>\n",
       "      <td>1311.43</td>\n",
       "      <td>1806.414906</td>\n",
       "      <td>0.93</td>\n",
       "      <td>0.94</td>\n",
       "      <td>0.93</td>\n",
       "      <td>0.93</td>\n",
       "      <td>0.00</td>\n",
       "    </tr>\n",
       "    <tr>\n",
       "      <th>5</th>\n",
       "      <td>Hyperparameter Tuned Gradient Boosting (GSV)</td>\n",
       "      <td>1187.76</td>\n",
       "      <td>1683.674632</td>\n",
       "      <td>0.94</td>\n",
       "      <td>0.97</td>\n",
       "      <td>0.94</td>\n",
       "      <td>0.94</td>\n",
       "      <td>0.00</td>\n",
       "    </tr>\n",
       "  </tbody>\n",
       "</table>\n",
       "</div>"
      ],
      "text/plain": [
       "                                          Model      MAE          MSE  \\\n",
       "0                              LinearRegression  2053.47  2683.556831   \n",
       "1                                 Decision Tree  1580.54  2347.633347   \n",
       "2                                 Random Forest  3435.78  4367.215883   \n",
       "3                             Gradient Boosting  1767.33  2356.705448   \n",
       "4   Hyperparameter Tuned Gradient Boosting(RSC)  1311.43  1806.414906   \n",
       "5  Hyperparameter Tuned Gradient Boosting (GSV)  1187.76  1683.674632   \n",
       "\n",
       "  R2_Score Train Score Test Score KF_mean KF_std  \n",
       "0     0.84        0.84       0.84    0.84   0.00  \n",
       "1     0.88        1.00       0.88    0.88   0.01  \n",
       "2     0.59        0.58       0.59    0.58   0.01  \n",
       "3     0.88        0.88       0.88    0.88   0.00  \n",
       "4     0.93        0.94       0.93    0.93   0.00  \n",
       "5     0.94        0.97       0.94    0.94   0.00  "
      ]
     },
     "execution_count": 153,
     "metadata": {},
     "output_type": "execute_result"
    }
   ],
   "source": [
    "print(\"Our Final Metric Comparision:\\n\\n\")\n",
    "\n",
    "metrics_df"
   ]
  },
  {
   "cell_type": "code",
   "execution_count": 154,
   "id": "instant-ready",
   "metadata": {},
   "outputs": [],
   "source": [
    "metrics_df['KF_mean'] = metrics_df['KF_mean'].astype('float64')"
   ]
  },
  {
   "cell_type": "code",
   "execution_count": 155,
   "id": "median-alaska",
   "metadata": {},
   "outputs": [
    {
     "data": {
      "text/plain": [
       "(array([0, 1, 2, 3, 4, 5]),\n",
       " [Text(0, 0, 'LinearRegression'),\n",
       "  Text(1, 0, 'Decision Tree'),\n",
       "  Text(2, 0, 'Random Forest'),\n",
       "  Text(3, 0, 'Gradient Boosting'),\n",
       "  Text(4, 0, 'Hyperparameter Tuned Gradient Boosting(RSC)'),\n",
       "  Text(5, 0, 'Hyperparameter Tuned Gradient Boosting (GSV)')])"
      ]
     },
     "execution_count": 155,
     "metadata": {},
     "output_type": "execute_result"
    },
    {
     "data": {
      "image/png": "[encoded data removed]",
      "text/plain": [
       "<Figure size 432x288 with 1 Axes>"
      ]
     },
     "metadata": {},
     "output_type": "display_data"
    }
   ],
   "source": [
    "sns.pointplot(x='Model',y='KF_mean',data=metrics_df)\n",
    "plt.xticks(rotation = 45)"
   ]
  },
  {
   "cell_type": "code",
   "execution_count": null,
   "id": "8d13368b",
   "metadata": {},
   "outputs": [],
   "source": []
  },
  {
   "cell_type": "code",
   "execution_count": 156,
   "id": "96047a83",
   "metadata": {},
   "outputs": [
    {
     "data": {
      "text/html": [
       "<div>\n",
       "<style scoped>\n",
       "    .dataframe tbody tr th:only-of-type {\n",
       "        vertical-align: middle;\n",
       "    }\n",
       "\n",
       "    .dataframe tbody tr th {\n",
       "        vertical-align: top;\n",
       "    }\n",
       "\n",
       "    .dataframe thead th {\n",
       "        text-align: right;\n",
       "    }\n",
       "</style>\n",
       "<table border=\"1\" class=\"dataframe\">\n",
       "  <thead>\n",
       "    <tr style=\"text-align: right;\">\n",
       "      <th></th>\n",
       "      <th>price</th>\n",
       "      <th>mileage</th>\n",
       "      <th>tax</th>\n",
       "      <th>mpg</th>\n",
       "      <th>engineSize</th>\n",
       "    </tr>\n",
       "  </thead>\n",
       "  <tbody>\n",
       "    <tr>\n",
       "      <th>count</th>\n",
       "      <td>45657.000000</td>\n",
       "      <td>45657.000000</td>\n",
       "      <td>45657.000000</td>\n",
       "      <td>45657.000000</td>\n",
       "      <td>45657.000000</td>\n",
       "    </tr>\n",
       "    <tr>\n",
       "      <th>mean</th>\n",
       "      <td>15753.190551</td>\n",
       "      <td>20554.130495</td>\n",
       "      <td>116.047594</td>\n",
       "      <td>55.550198</td>\n",
       "      <td>1.570324</td>\n",
       "    </tr>\n",
       "    <tr>\n",
       "      <th>std</th>\n",
       "      <td>6754.511374</td>\n",
       "      <td>15903.903535</td>\n",
       "      <td>59.624338</td>\n",
       "      <td>10.388291</td>\n",
       "      <td>0.487806</td>\n",
       "    </tr>\n",
       "    <tr>\n",
       "      <th>min</th>\n",
       "      <td>2470.000000</td>\n",
       "      <td>1.000000</td>\n",
       "      <td>0.000000</td>\n",
       "      <td>28.000000</td>\n",
       "      <td>0.000000</td>\n",
       "    </tr>\n",
       "    <tr>\n",
       "      <th>25%</th>\n",
       "      <td>10450.000000</td>\n",
       "      <td>7390.000000</td>\n",
       "      <td>125.000000</td>\n",
       "      <td>47.900000</td>\n",
       "      <td>1.000000</td>\n",
       "    </tr>\n",
       "    <tr>\n",
       "      <th>50%</th>\n",
       "      <td>14495.000000</td>\n",
       "      <td>17066.000000</td>\n",
       "      <td>145.000000</td>\n",
       "      <td>56.500000</td>\n",
       "      <td>1.500000</td>\n",
       "    </tr>\n",
       "    <tr>\n",
       "      <th>75%</th>\n",
       "      <td>19950.000000</td>\n",
       "      <td>30431.000000</td>\n",
       "      <td>145.000000</td>\n",
       "      <td>62.800000</td>\n",
       "      <td>2.000000</td>\n",
       "    </tr>\n",
       "    <tr>\n",
       "      <th>max</th>\n",
       "      <td>35600.000000</td>\n",
       "      <td>68829.000000</td>\n",
       "      <td>305.000000</td>\n",
       "      <td>83.100000</td>\n",
       "      <td>3.000000</td>\n",
       "    </tr>\n",
       "  </tbody>\n",
       "</table>\n",
       "</div>"
      ],
      "text/plain": [
       "              price       mileage           tax           mpg    engineSize\n",
       "count  45657.000000  45657.000000  45657.000000  45657.000000  45657.000000\n",
       "mean   15753.190551  20554.130495    116.047594     55.550198      1.570324\n",
       "std     6754.511374  15903.903535     59.624338     10.388291      0.487806\n",
       "min     2470.000000      1.000000      0.000000     28.000000      0.000000\n",
       "25%    10450.000000   7390.000000    125.000000     47.900000      1.000000\n",
       "50%    14495.000000  17066.000000    145.000000     56.500000      1.500000\n",
       "75%    19950.000000  30431.000000    145.000000     62.800000      2.000000\n",
       "max    35600.000000  68829.000000    305.000000     83.100000      3.000000"
      ]
     },
     "execution_count": 156,
     "metadata": {},
     "output_type": "execute_result"
    }
   ],
   "source": [
    "cpp.describe()"
   ]
  },
  {
   "cell_type": "code",
   "execution_count": 157,
   "id": "e3bbae0f",
   "metadata": {},
   "outputs": [
    {
     "data": {
      "text/html": [
       "<div>\n",
       "<style scoped>\n",
       "    .dataframe tbody tr th:only-of-type {\n",
       "        vertical-align: middle;\n",
       "    }\n",
       "\n",
       "    .dataframe tbody tr th {\n",
       "        vertical-align: top;\n",
       "    }\n",
       "\n",
       "    .dataframe thead th {\n",
       "        text-align: right;\n",
       "    }\n",
       "</style>\n",
       "<table border=\"1\" class=\"dataframe\">\n",
       "  <thead>\n",
       "    <tr style=\"text-align: right;\">\n",
       "      <th></th>\n",
       "      <th>year</th>\n",
       "      <th>price</th>\n",
       "      <th>transmission</th>\n",
       "      <th>mileage</th>\n",
       "      <th>fuelType</th>\n",
       "      <th>tax</th>\n",
       "      <th>mpg</th>\n",
       "      <th>engineSize</th>\n",
       "      <th>Make</th>\n",
       "    </tr>\n",
       "  </thead>\n",
       "  <tbody>\n",
       "    <tr>\n",
       "      <th>55298</th>\n",
       "      <td>2019</td>\n",
       "      <td>33950</td>\n",
       "      <td>Automatic</td>\n",
       "      <td>9125</td>\n",
       "      <td>Hybrid</td>\n",
       "      <td>140.0</td>\n",
       "      <td>49.6</td>\n",
       "      <td>2.5</td>\n",
       "      <td>toyota</td>\n",
       "    </tr>\n",
       "    <tr>\n",
       "      <th>5087</th>\n",
       "      <td>2019</td>\n",
       "      <td>31990</td>\n",
       "      <td>Automatic</td>\n",
       "      <td>5000</td>\n",
       "      <td>Diesel</td>\n",
       "      <td>145.0</td>\n",
       "      <td>51.4</td>\n",
       "      <td>2.0</td>\n",
       "      <td>audi</td>\n",
       "    </tr>\n",
       "    <tr>\n",
       "      <th>13596</th>\n",
       "      <td>2019</td>\n",
       "      <td>32880</td>\n",
       "      <td>Automatic</td>\n",
       "      <td>5000</td>\n",
       "      <td>Petrol</td>\n",
       "      <td>145.0</td>\n",
       "      <td>41.5</td>\n",
       "      <td>3.0</td>\n",
       "      <td>BMW</td>\n",
       "    </tr>\n",
       "    <tr>\n",
       "      <th>7307</th>\n",
       "      <td>2019</td>\n",
       "      <td>33400</td>\n",
       "      <td>Semi-Auto</td>\n",
       "      <td>7021</td>\n",
       "      <td>Petrol</td>\n",
       "      <td>150.0</td>\n",
       "      <td>31.7</td>\n",
       "      <td>2.0</td>\n",
       "      <td>audi</td>\n",
       "    </tr>\n",
       "    <tr>\n",
       "      <th>12869</th>\n",
       "      <td>2018</td>\n",
       "      <td>31990</td>\n",
       "      <td>Semi-Auto</td>\n",
       "      <td>99</td>\n",
       "      <td>Petrol</td>\n",
       "      <td>145.0</td>\n",
       "      <td>38.2</td>\n",
       "      <td>3.0</td>\n",
       "      <td>BMW</td>\n",
       "    </tr>\n",
       "    <tr>\n",
       "      <th>...</th>\n",
       "      <td>...</td>\n",
       "      <td>...</td>\n",
       "      <td>...</td>\n",
       "      <td>...</td>\n",
       "      <td>...</td>\n",
       "      <td>...</td>\n",
       "      <td>...</td>\n",
       "      <td>...</td>\n",
       "      <td>...</td>\n",
       "    </tr>\n",
       "    <tr>\n",
       "      <th>408</th>\n",
       "      <td>2020</td>\n",
       "      <td>31265</td>\n",
       "      <td>Semi-Auto</td>\n",
       "      <td>7963</td>\n",
       "      <td>Petrol</td>\n",
       "      <td>145.0</td>\n",
       "      <td>41.5</td>\n",
       "      <td>2.0</td>\n",
       "      <td>audi</td>\n",
       "    </tr>\n",
       "    <tr>\n",
       "      <th>4046</th>\n",
       "      <td>2019</td>\n",
       "      <td>32490</td>\n",
       "      <td>Automatic</td>\n",
       "      <td>8000</td>\n",
       "      <td>Petrol</td>\n",
       "      <td>145.0</td>\n",
       "      <td>37.7</td>\n",
       "      <td>2.0</td>\n",
       "      <td>audi</td>\n",
       "    </tr>\n",
       "    <tr>\n",
       "      <th>5308</th>\n",
       "      <td>2019</td>\n",
       "      <td>31490</td>\n",
       "      <td>Automatic</td>\n",
       "      <td>3283</td>\n",
       "      <td>Diesel</td>\n",
       "      <td>145.0</td>\n",
       "      <td>39.2</td>\n",
       "      <td>2.0</td>\n",
       "      <td>audi</td>\n",
       "    </tr>\n",
       "    <tr>\n",
       "      <th>40377</th>\n",
       "      <td>2020</td>\n",
       "      <td>32995</td>\n",
       "      <td>Semi-Auto</td>\n",
       "      <td>2131</td>\n",
       "      <td>Petrol</td>\n",
       "      <td>145.0</td>\n",
       "      <td>32.8</td>\n",
       "      <td>2.0</td>\n",
       "      <td>vw</td>\n",
       "    </tr>\n",
       "    <tr>\n",
       "      <th>71325</th>\n",
       "      <td>2019</td>\n",
       "      <td>35456</td>\n",
       "      <td>Semi-Auto</td>\n",
       "      <td>8000</td>\n",
       "      <td>Diesel</td>\n",
       "      <td>145.0</td>\n",
       "      <td>39.2</td>\n",
       "      <td>2.2</td>\n",
       "      <td>Hyundai</td>\n",
       "    </tr>\n",
       "  </tbody>\n",
       "</table>\n",
       "<p>1716 rows × 9 columns</p>\n",
       "</div>"
      ],
      "text/plain": [
       "       year  price transmission  mileage fuelType    tax   mpg  engineSize  \\\n",
       "55298  2019  33950    Automatic     9125   Hybrid  140.0  49.6         2.5   \n",
       "5087   2019  31990    Automatic     5000   Diesel  145.0  51.4         2.0   \n",
       "13596  2019  32880    Automatic     5000   Petrol  145.0  41.5         3.0   \n",
       "7307   2019  33400    Semi-Auto     7021   Petrol  150.0  31.7         2.0   \n",
       "12869  2018  31990    Semi-Auto       99   Petrol  145.0  38.2         3.0   \n",
       "...     ...    ...          ...      ...      ...    ...   ...         ...   \n",
       "408    2020  31265    Semi-Auto     7963   Petrol  145.0  41.5         2.0   \n",
       "4046   2019  32490    Automatic     8000   Petrol  145.0  37.7         2.0   \n",
       "5308   2019  31490    Automatic     3283   Diesel  145.0  39.2         2.0   \n",
       "40377  2020  32995    Semi-Auto     2131   Petrol  145.0  32.8         2.0   \n",
       "71325  2019  35456    Semi-Auto     8000   Diesel  145.0  39.2         2.2   \n",
       "\n",
       "          Make  \n",
       "55298   toyota  \n",
       "5087      audi  \n",
       "13596      BMW  \n",
       "7307      audi  \n",
       "12869      BMW  \n",
       "...        ...  \n",
       "408       audi  \n",
       "4046      audi  \n",
       "5308      audi  \n",
       "40377       vw  \n",
       "71325  Hyundai  \n",
       "\n",
       "[1716 rows x 9 columns]"
      ]
     },
     "execution_count": 157,
     "metadata": {},
     "output_type": "execute_result"
    }
   ],
   "source": [
    "cpp[cpp['price']>30000]"
   ]
  },
  {
   "cell_type": "code",
   "execution_count": null,
   "id": "3edd351c",
   "metadata": {},
   "outputs": [],
   "source": []
  },
  {
   "cell_type": "code",
   "execution_count": 158,
   "id": "still-reconstruction",
   "metadata": {},
   "outputs": [],
   "source": [
    "mileage = 42000\n",
    "tax = 20\n",
    "mpg = 61.4\n",
    "engineSize = 1.2\n",
    "year_2012 = 0\n",
    "year_2013 = 1\n",
    "year_2014 = 0\n",
    "year_2015 = 0\n",
    "year_2016 = 0\n",
    "year_2017 = 0\n",
    "year_2018 = 0\n",
    "year_2019 = 0\n",
    "year_2020 = 0\n",
    "transmission_Automatic = 0\n",
    "transmission_Manual = 1\n",
    "transmission_Other = 0\n",
    "transmission_Semi_Auto = 0\n",
    "fuelType_Diesel = 0\n",
    "fuelType_Electric = 0\n",
    "fuelType_Hybrid = 0\n",
    "fuelType_Other = 0\n",
    "fuelType_Petrol = 1\n",
    "Make_BMW = 0\n",
    "Make_Ford = 0\n",
    "Make_Hyundai = 1\n",
    "Make_audi = 0\n",
    "Make_skoda = 0\n",
    "Make_toyota = 0\n",
    "Make_vw = 0"
   ]
  },
  {
   "cell_type": "code",
   "execution_count": 159,
   "id": "71236579",
   "metadata": {},
   "outputs": [],
   "source": [
    "s2 = gb_regressor1.predict([[mileage,tax,mpg,engineSize,year_2012,year_2013,year_2014,year_2015,year_2016,\n",
    "                    year_2017,year_2018,year_2019,year_2020,transmission_Automatic,transmission_Manual,\n",
    "                    transmission_Other,transmission_Semi_Auto,fuelType_Diesel,fuelType_Electric,\n",
    "                    fuelType_Hybrid,fuelType_Other,fuelType_Petrol,Make_BMW,Make_Ford,Make_Hyundai,\n",
    "                    Make_audi,Make_skoda,Make_toyota,Make_vw]])"
   ]
  },
  {
   "cell_type": "code",
   "execution_count": 160,
   "id": "1820d19a",
   "metadata": {},
   "outputs": [
    {
     "data": {
      "text/plain": [
       "array([10247.73442487])"
      ]
     },
     "execution_count": 160,
     "metadata": {},
     "output_type": "execute_result"
    }
   ],
   "source": [
    "s2"
   ]
  },
  {
   "cell_type": "code",
   "execution_count": null,
   "id": "88a6cb2b",
   "metadata": {},
   "outputs": [],
   "source": []
  },
  {
   "cell_type": "code",
   "execution_count": null,
   "id": "musical-bracelet",
   "metadata": {},
   "outputs": [],
   "source": []
  },
  {
   "cell_type": "code",
   "execution_count": 161,
   "id": "featured-gothic",
   "metadata": {},
   "outputs": [],
   "source": [
    "import pickle\n",
    "file = open(\"file.pkl\", \"wb\")\n",
    "pickle.dump(gb_regressor1, file)"
   ]
  },
  {
   "cell_type": "code",
   "execution_count": null,
   "id": "d1c2cbc9",
   "metadata": {},
   "outputs": [],
   "source": []
  },
  {
   "cell_type": "code",
   "execution_count": 162,
   "id": "5d330a0c",
   "metadata": {},
   "outputs": [
    {
     "data": {
      "text/plain": [
       "Index(['price', 'mileage', 'tax', 'mpg', 'engineSize', 'year_2012',\n",
       "       'year_2013', 'year_2014', 'year_2015', 'year_2016', 'year_2017',\n",
       "       'year_2018', 'year_2019', 'year_2020', 'transmission_Automatic',\n",
       "       'transmission_Manual', 'transmission_Other', 'transmission_Semi-Auto',\n",
       "       'fuelType_Diesel', 'fuelType_Electric', 'fuelType_Hybrid',\n",
       "       'fuelType_Other', 'fuelType_Petrol', 'Make_BMW', 'Make_Ford',\n",
       "       'Make_Hyundai', 'Make_audi', 'Make_skoda', 'Make_toyota', 'Make_vw'],\n",
       "      dtype='object')"
      ]
     },
     "execution_count": 162,
     "metadata": {},
     "output_type": "execute_result"
    }
   ],
   "source": [
    "cpp_final.columns"
   ]
  },
  {
   "cell_type": "code",
   "execution_count": null,
   "id": "171dad8f",
   "metadata": {},
   "outputs": [],
   "source": []
  }
 ],
 "metadata": {
  "kernelspec": {
   "display_name": "Python 3 (ipykernel)",
   "language": "python",
   "name": "python3"
  },
  "language_info": {
   "codemirror_mode": {
    "name": "ipython",
    "version": 3
   },
   "file_extension": ".py",
   "mimetype": "text/x-python",
   "name": "python",
   "nbconvert_exporter": "python",
   "pygments_lexer": "ipython3",
   "version": "3.8.11"
  }
 },
 "nbformat": 4,
 "nbformat_minor": 5
}
